{
 "cells": [
  {
   "cell_type": "code",
   "execution_count": 1,
   "id": "0f38b5a7",
   "metadata": {},
   "outputs": [],
   "source": [
    "import pandas as pd\n",
    "import numpy as np"
   ]
  },
  {
   "cell_type": "code",
   "execution_count": 5,
   "id": "b0743631",
   "metadata": {},
   "outputs": [
    {
     "data": {
      "text/html": [
       "<div>\n",
       "<style scoped>\n",
       "    .dataframe tbody tr th:only-of-type {\n",
       "        vertical-align: middle;\n",
       "    }\n",
       "\n",
       "    .dataframe tbody tr th {\n",
       "        vertical-align: top;\n",
       "    }\n",
       "\n",
       "    .dataframe thead th {\n",
       "        text-align: right;\n",
       "    }\n",
       "</style>\n",
       "<table border=\"1\" class=\"dataframe\">\n",
       "  <thead>\n",
       "    <tr style=\"text-align: right;\">\n",
       "      <th></th>\n",
       "      <th>Morex.Ca1</th>\n",
       "      <th>Morex.Ca2</th>\n",
       "      <th>Morex.Ca3</th>\n",
       "      <th>Morex.Co1</th>\n",
       "      <th>Morex.Co2</th>\n",
       "      <th>Morex.Co3</th>\n",
       "      <th>Morex.In1</th>\n",
       "      <th>Morex.In2</th>\n",
       "      <th>Morex.In3</th>\n",
       "      <th>Morex.Ro1</th>\n",
       "      <th>Morex.Ro2</th>\n",
       "      <th>Morex.Ro3</th>\n",
       "      <th>Morex.Sh1</th>\n",
       "      <th>Morex.Sh2</th>\n",
       "      <th>Morex.Sh3</th>\n",
       "    </tr>\n",
       "  </thead>\n",
       "  <tbody>\n",
       "    <tr>\n",
       "      <th>Akashinriki_chr1HG00001</th>\n",
       "      <td>13.712022</td>\n",
       "      <td>11.519797</td>\n",
       "      <td>10.863549</td>\n",
       "      <td>18.360678</td>\n",
       "      <td>17.522969</td>\n",
       "      <td>13.801466</td>\n",
       "      <td>37.000150</td>\n",
       "      <td>28.384373</td>\n",
       "      <td>39.937753</td>\n",
       "      <td>27.414077</td>\n",
       "      <td>21.464482</td>\n",
       "      <td>23.375211</td>\n",
       "      <td>21.460764</td>\n",
       "      <td>17.167022</td>\n",
       "      <td>18.348173</td>\n",
       "    </tr>\n",
       "    <tr>\n",
       "      <th>Akashinriki_chr1HG00002</th>\n",
       "      <td>6.459039</td>\n",
       "      <td>8.251093</td>\n",
       "      <td>7.020342</td>\n",
       "      <td>6.055621</td>\n",
       "      <td>5.906528</td>\n",
       "      <td>5.233625</td>\n",
       "      <td>23.549376</td>\n",
       "      <td>20.293402</td>\n",
       "      <td>30.911823</td>\n",
       "      <td>5.996557</td>\n",
       "      <td>7.212982</td>\n",
       "      <td>6.504028</td>\n",
       "      <td>9.215345</td>\n",
       "      <td>10.087120</td>\n",
       "      <td>8.748190</td>\n",
       "    </tr>\n",
       "    <tr>\n",
       "      <th>Akashinriki_chr1HG00003</th>\n",
       "      <td>320.331153</td>\n",
       "      <td>253.217507</td>\n",
       "      <td>316.915028</td>\n",
       "      <td>320.557993</td>\n",
       "      <td>303.585931</td>\n",
       "      <td>282.454629</td>\n",
       "      <td>244.705528</td>\n",
       "      <td>139.244472</td>\n",
       "      <td>282.163271</td>\n",
       "      <td>367.158223</td>\n",
       "      <td>367.015514</td>\n",
       "      <td>363.344045</td>\n",
       "      <td>410.299341</td>\n",
       "      <td>352.515228</td>\n",
       "      <td>366.260268</td>\n",
       "    </tr>\n",
       "    <tr>\n",
       "      <th>Akashinriki_chr1HG00004</th>\n",
       "      <td>0.352011</td>\n",
       "      <td>0.219599</td>\n",
       "      <td>0.319982</td>\n",
       "      <td>0.010286</td>\n",
       "      <td>0.021031</td>\n",
       "      <td>0.000000</td>\n",
       "      <td>7.406792</td>\n",
       "      <td>7.344697</td>\n",
       "      <td>6.770226</td>\n",
       "      <td>0.000000</td>\n",
       "      <td>0.000000</td>\n",
       "      <td>0.000000</td>\n",
       "      <td>0.000000</td>\n",
       "      <td>0.016698</td>\n",
       "      <td>0.058996</td>\n",
       "    </tr>\n",
       "    <tr>\n",
       "      <th>Akashinriki_chr1HG00005</th>\n",
       "      <td>19.132994</td>\n",
       "      <td>21.453412</td>\n",
       "      <td>24.595541</td>\n",
       "      <td>11.764898</td>\n",
       "      <td>9.262669</td>\n",
       "      <td>11.117155</td>\n",
       "      <td>38.379649</td>\n",
       "      <td>25.286995</td>\n",
       "      <td>29.475611</td>\n",
       "      <td>13.466928</td>\n",
       "      <td>14.190814</td>\n",
       "      <td>15.470952</td>\n",
       "      <td>21.069363</td>\n",
       "      <td>23.672791</td>\n",
       "      <td>26.028973</td>\n",
       "    </tr>\n",
       "  </tbody>\n",
       "</table>\n",
       "</div>"
      ],
      "text/plain": [
       "                          Morex.Ca1   Morex.Ca2   Morex.Ca3   Morex.Co1  \\\n",
       "Akashinriki_chr1HG00001   13.712022   11.519797   10.863549   18.360678   \n",
       "Akashinriki_chr1HG00002    6.459039    8.251093    7.020342    6.055621   \n",
       "Akashinriki_chr1HG00003  320.331153  253.217507  316.915028  320.557993   \n",
       "Akashinriki_chr1HG00004    0.352011    0.219599    0.319982    0.010286   \n",
       "Akashinriki_chr1HG00005   19.132994   21.453412   24.595541   11.764898   \n",
       "\n",
       "                          Morex.Co2   Morex.Co3   Morex.In1   Morex.In2  \\\n",
       "Akashinriki_chr1HG00001   17.522969   13.801466   37.000150   28.384373   \n",
       "Akashinriki_chr1HG00002    5.906528    5.233625   23.549376   20.293402   \n",
       "Akashinriki_chr1HG00003  303.585931  282.454629  244.705528  139.244472   \n",
       "Akashinriki_chr1HG00004    0.021031    0.000000    7.406792    7.344697   \n",
       "Akashinriki_chr1HG00005    9.262669   11.117155   38.379649   25.286995   \n",
       "\n",
       "                          Morex.In3   Morex.Ro1   Morex.Ro2   Morex.Ro3  \\\n",
       "Akashinriki_chr1HG00001   39.937753   27.414077   21.464482   23.375211   \n",
       "Akashinriki_chr1HG00002   30.911823    5.996557    7.212982    6.504028   \n",
       "Akashinriki_chr1HG00003  282.163271  367.158223  367.015514  363.344045   \n",
       "Akashinriki_chr1HG00004    6.770226    0.000000    0.000000    0.000000   \n",
       "Akashinriki_chr1HG00005   29.475611   13.466928   14.190814   15.470952   \n",
       "\n",
       "                          Morex.Sh1   Morex.Sh2   Morex.Sh3  \n",
       "Akashinriki_chr1HG00001   21.460764   17.167022   18.348173  \n",
       "Akashinriki_chr1HG00002    9.215345   10.087120    8.748190  \n",
       "Akashinriki_chr1HG00003  410.299341  352.515228  366.260268  \n",
       "Akashinriki_chr1HG00004    0.000000    0.016698    0.058996  \n",
       "Akashinriki_chr1HG00005   21.069363   23.672791   26.028973  "
      ]
     },
     "execution_count": 5,
     "metadata": {},
     "output_type": "execute_result"
    }
   ],
   "source": [
    "df = pd.read_csv(\"./TPM/merged_tpm_csv.txt\",index_col=0,header=0, sep=\",\")\n",
    "df.head()"
   ]
  },
  {
   "cell_type": "code",
   "execution_count": 7,
   "id": "7e587234",
   "metadata": {},
   "outputs": [
    {
     "data": {
      "text/plain": [
       "Morex.Ca1    float64\n",
       "Morex.Ca2    float64\n",
       "Morex.Ca3    float64\n",
       "Morex.Co1    float64\n",
       "Morex.Co2    float64\n",
       "Morex.Co3    float64\n",
       "Morex.In1    float64\n",
       "Morex.In2    float64\n",
       "Morex.In3    float64\n",
       "Morex.Ro1    float64\n",
       "Morex.Ro2    float64\n",
       "Morex.Ro3    float64\n",
       "Morex.Sh1    float64\n",
       "Morex.Sh2    float64\n",
       "Morex.Sh3    float64\n",
       "dtype: object"
      ]
     },
     "execution_count": 7,
     "metadata": {},
     "output_type": "execute_result"
    }
   ],
   "source": [
    "df.dtypes"
   ]
  },
  {
   "cell_type": "code",
   "execution_count": 8,
   "id": "008973ae",
   "metadata": {},
   "outputs": [],
   "source": [
    "# Get the number of columns in the DataFrame\n",
    "num_columns = len(df.columns)\n",
    "\n",
    "# Calculate the mean for every three columns\n",
    "mean_df = pd.DataFrame()\n",
    "for i in range(0, num_columns, 3):\n",
    "    mean_df[f'Mean_{i//3}'] = df.iloc[:, i:i+3].mean(axis=1)\n",
    "\n",
    "# Calculate the standard deviation for every three columns\n",
    "std_df = pd.DataFrame()\n",
    "for i in range(0, num_columns, 3):\n",
    "    std_df[f'Std_{i//3}'] = df.iloc[:, i:i+3].std(axis=1)"
   ]
  },
  {
   "cell_type": "code",
   "execution_count": 9,
   "id": "679a3590",
   "metadata": {},
   "outputs": [
    {
     "data": {
      "text/html": [
       "<div>\n",
       "<style scoped>\n",
       "    .dataframe tbody tr th:only-of-type {\n",
       "        vertical-align: middle;\n",
       "    }\n",
       "\n",
       "    .dataframe tbody tr th {\n",
       "        vertical-align: top;\n",
       "    }\n",
       "\n",
       "    .dataframe thead th {\n",
       "        text-align: right;\n",
       "    }\n",
       "</style>\n",
       "<table border=\"1\" class=\"dataframe\">\n",
       "  <thead>\n",
       "    <tr style=\"text-align: right;\">\n",
       "      <th></th>\n",
       "      <th>Mean_0</th>\n",
       "      <th>Mean_1</th>\n",
       "      <th>Mean_2</th>\n",
       "      <th>Mean_3</th>\n",
       "      <th>Mean_4</th>\n",
       "    </tr>\n",
       "  </thead>\n",
       "  <tbody>\n",
       "    <tr>\n",
       "      <th>Akashinriki_chr1HG00001</th>\n",
       "      <td>12.031789</td>\n",
       "      <td>16.561704</td>\n",
       "      <td>35.107425</td>\n",
       "      <td>24.084590</td>\n",
       "      <td>18.991986</td>\n",
       "    </tr>\n",
       "    <tr>\n",
       "      <th>Akashinriki_chr1HG00002</th>\n",
       "      <td>7.243491</td>\n",
       "      <td>5.731925</td>\n",
       "      <td>24.918200</td>\n",
       "      <td>6.571189</td>\n",
       "      <td>9.350218</td>\n",
       "    </tr>\n",
       "  </tbody>\n",
       "</table>\n",
       "</div>"
      ],
      "text/plain": [
       "                            Mean_0     Mean_1     Mean_2     Mean_3     Mean_4\n",
       "Akashinriki_chr1HG00001  12.031789  16.561704  35.107425  24.084590  18.991986\n",
       "Akashinriki_chr1HG00002   7.243491   5.731925  24.918200   6.571189   9.350218"
      ]
     },
     "execution_count": 9,
     "metadata": {},
     "output_type": "execute_result"
    }
   ],
   "source": [
    "mean_df.head(2)"
   ]
  },
  {
   "cell_type": "code",
   "execution_count": 10,
   "id": "6eb15495",
   "metadata": {},
   "outputs": [
    {
     "data": {
      "text/html": [
       "<div>\n",
       "<style scoped>\n",
       "    .dataframe tbody tr th:only-of-type {\n",
       "        vertical-align: middle;\n",
       "    }\n",
       "\n",
       "    .dataframe tbody tr th {\n",
       "        vertical-align: top;\n",
       "    }\n",
       "\n",
       "    .dataframe thead th {\n",
       "        text-align: right;\n",
       "    }\n",
       "</style>\n",
       "<table border=\"1\" class=\"dataframe\">\n",
       "  <thead>\n",
       "    <tr style=\"text-align: right;\">\n",
       "      <th></th>\n",
       "      <th>Std_0</th>\n",
       "      <th>Std_1</th>\n",
       "      <th>Std_2</th>\n",
       "      <th>Std_3</th>\n",
       "      <th>Std_4</th>\n",
       "    </tr>\n",
       "  </thead>\n",
       "  <tbody>\n",
       "    <tr>\n",
       "      <th>Akashinriki_chr1HG00001</th>\n",
       "      <td>1.491661</td>\n",
       "      <td>2.426855</td>\n",
       "      <td>6.004744</td>\n",
       "      <td>3.037570</td>\n",
       "      <td>2.218091</td>\n",
       "    </tr>\n",
       "    <tr>\n",
       "      <th>Akashinriki_chr1HG00002</th>\n",
       "      <td>0.916630</td>\n",
       "      <td>0.437932</td>\n",
       "      <td>5.439943</td>\n",
       "      <td>0.610987</td>\n",
       "      <td>0.679578</td>\n",
       "    </tr>\n",
       "  </tbody>\n",
       "</table>\n",
       "</div>"
      ],
      "text/plain": [
       "                            Std_0     Std_1     Std_2     Std_3     Std_4\n",
       "Akashinriki_chr1HG00001  1.491661  2.426855  6.004744  3.037570  2.218091\n",
       "Akashinriki_chr1HG00002  0.916630  0.437932  5.439943  0.610987  0.679578"
      ]
     },
     "execution_count": 10,
     "metadata": {},
     "output_type": "execute_result"
    }
   ],
   "source": [
    "std_df.head(2)"
   ]
  },
  {
   "cell_type": "markdown",
   "id": "314396b7",
   "metadata": {},
   "source": [
    "## read gene id clusters"
   ]
  },
  {
   "cell_type": "code",
   "execution_count": 11,
   "id": "4d1c2b88",
   "metadata": {},
   "outputs": [],
   "source": [
    "cd_hits='cd85.clstr'\n",
    "\n",
    "cluster_dict={}\n",
    "cluster_gene_list=[]\n",
    "i=0\n",
    "\n",
    "## read cd-hit output, for each cluster, store gene id in a list, and add to cluster dict using cluster name as key\n",
    "with open(cd_hits,'r') as f1:\n",
    "    for line in f1:\n",
    "        if line.startswith(\">\"):\n",
    "            i+=1 #count cluster\n",
    "            if i==1: #first cluster no action\n",
    "                cluster_name='C0'\n",
    "                continue\n",
    "            else: # other cluster, take following actions\n",
    "                ##add last record\n",
    "                cluster_dict[cluster_name] = cluster_gene_list\n",
    "                \n",
    "                ##reset cluster_name and gene_list\n",
    "                cluster_name='C'+str(line.strip().split()[1])\n",
    "                cluster_gene_list=[]\n",
    "                \n",
    "        else:\n",
    "            gene_id=line.split()[2][1:-3]\n",
    "            cluster_gene_list.append(gene_id)\n",
    "        \n",
    "        ##add last record\n",
    "        cluster_dict[cluster_name]=cluster_gene_list"
   ]
  },
  {
   "cell_type": "code",
   "execution_count": 29,
   "id": "a0533be4",
   "metadata": {},
   "outputs": [],
   "source": [
    "# Create empty data frame\n",
    "group_mean_df = pd.DataFrame(index=cluster_dict.keys(), columns=mean_df.columns)\n",
    "group_std_df = pd.DataFrame(index=cluster_dict.keys(), columns=mean_df.columns)\n",
    "\n",
    "## barley pan-genome gene count\n",
    "for key in cluster_dict.keys():\n",
    "        #if len(cluster_dict[key]) ==2:\n",
    "        #cluster_dict[key].sort() #sort item in list\n",
    "        MorexV2_ID=[item for item in cluster_dict[key] if \"MOREX\" in item]\n",
    "        OTHER_ID=[item for item in cluster_dict[key] if \"MOREX\" not in item]\n",
    "        \n",
    "        # Create empty DataFrames to store the results\n",
    "        index_list = [item for item in cluster_dict[key] if \"MOREXr2\" not in item]\n",
    "        \n",
    "        # Get the mean values for the indices in the group\n",
    "        group_mean = mean_df.loc[index_list].mean()\n",
    "\n",
    "        # Calculate the standard error for the indices in the group\n",
    "        group_std = mean_df.loc[index_list].sem()\n",
    "\n",
    "        # Store the results in the respective DataFrames\n",
    "        group_mean_df.loc[key] = group_mean\n",
    "        group_std_df.loc[key] = group_std\n",
    "        \n",
    "        # Remove rows with all NaN values\n",
    "        group_mean_df = group_mean_df.dropna(how='all')\n",
    "        group_std_df = group_std_df.dropna(how='all')\n",
    "        \n",
    "        # Save results to file\n",
    "        group_mean_df.to_csv(\"c85_cluster_mean_tpm_removeAllNA.csv\")\n",
    "        group_std_df.to_csv(\"c85_cluster_std_tpm_removeAllNA.csv\")"
   ]
  },
  {
   "cell_type": "code",
   "execution_count": 27,
   "id": "55dd48d6",
   "metadata": {},
   "outputs": [
    {
     "data": {
      "text/plain": [
       "(28, 5)"
      ]
     },
     "execution_count": 27,
     "metadata": {},
     "output_type": "execute_result"
    }
   ],
   "source": [
    "# Find rows with all NaN values\n",
    "rows_with_all_na = group_mean_df[group_mean_df.isna().all(axis=1)]\n",
    "rows_with_all_na.shape"
   ]
  },
  {
   "cell_type": "code",
   "execution_count": 28,
   "id": "b5ad9694",
   "metadata": {},
   "outputs": [
    {
     "data": {
      "text/plain": [
       "(42, 5)"
      ]
     },
     "execution_count": 28,
     "metadata": {},
     "output_type": "execute_result"
    }
   ],
   "source": [
    "# Find rows with all NaN values\n",
    "rows_with_all_na = group_std_df[group_std_df.isna().all(axis=1)]\n",
    "rows_with_all_na.shape"
   ]
  },
  {
   "cell_type": "code",
   "execution_count": null,
   "id": "35767901",
   "metadata": {},
   "outputs": [],
   "source": []
  }
 ],
 "metadata": {
  "kernelspec": {
   "display_name": "Python 3",
   "language": "python",
   "name": "python3"
  },
  "language_info": {
   "codemirror_mode": {
    "name": "ipython",
    "version": 3
   },
   "file_extension": ".py",
   "mimetype": "text/x-python",
   "name": "python",
   "nbconvert_exporter": "python",
   "pygments_lexer": "ipython3",
   "version": "3.9.16"
  }
 },
 "nbformat": 4,
 "nbformat_minor": 5
}
