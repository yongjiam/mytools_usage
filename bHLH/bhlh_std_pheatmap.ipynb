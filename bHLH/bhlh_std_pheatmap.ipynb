{
 "cells": [
  {
   "cell_type": "code",
   "execution_count": 1,
   "id": "cb55c03d",
   "metadata": {},
   "outputs": [],
   "source": [
    "library(pheatmap)\n",
    "library(ape)\n",
    "library(ggplot2)"
   ]
  },
  {
   "cell_type": "code",
   "execution_count": 2,
   "id": "5a5b7f42",
   "metadata": {},
   "outputs": [],
   "source": [
    "setwd(\"/Volumes/Elements5T/Backups/BHLH/update_analyses\")\n",
    "\n",
    "df_mean = read.table(\"seded_mean_removeNA.csv\",sep=\",\",header=T) ## raw data\n",
    "df_mean_matrix <- as.matrix(df_mean[,2:ncol(df_mean)])\n",
    "\n",
    "df_std = read.table(\"seded_std_removeNA.csv\",sep=\",\",header=T) ## raw data\n",
    "df_std_matrix <- as.matrix(df_std[,2:ncol(df_std)])\n",
    "\n",
    "# Perform element-wise division\n",
    "df_value <- df_std_matrix / df_mean_matrix\n",
    "\n",
    "# df_value = as.matrix(df_std[,2:ncol(df_std)])\n",
    "\n",
    "rownames(df_value) = df_std$X"
   ]
  },
  {
   "cell_type": "code",
   "execution_count": 3,
   "id": "b14f23e6",
   "metadata": {
    "scrolled": true
   },
   "outputs": [
    {
     "data": {
      "text/html": [
       "<table class=\"dataframe\">\n",
       "<caption>A matrix: 2 × 5 of type dbl</caption>\n",
       "<thead>\n",
       "\t<tr><th></th><th scope=col>CA</th><th scope=col>CO</th><th scope=col>INF</th><th scope=col>RO</th><th scope=col>SH</th></tr>\n",
       "</thead>\n",
       "<tbody>\n",
       "\t<tr><th scope=row>2HG0137300_P15</th><td>0.39376451</td><td>0.15293209</td><td>0.31820864</td><td>0.09895941</td><td>0.17129390</td></tr>\n",
       "\t<tr><th scope=row>4HG0292190_P20</th><td>0.06394359</td><td>0.04472134</td><td>0.04106098</td><td>0.04816235</td><td>0.05497078</td></tr>\n",
       "</tbody>\n",
       "</table>\n"
      ],
      "text/latex": [
       "A matrix: 2 × 5 of type dbl\n",
       "\\begin{tabular}{r|lllll}\n",
       "  & CA & CO & INF & RO & SH\\\\\n",
       "\\hline\n",
       "\t2HG0137300\\_P15 & 0.39376451 & 0.15293209 & 0.31820864 & 0.09895941 & 0.17129390\\\\\n",
       "\t4HG0292190\\_P20 & 0.06394359 & 0.04472134 & 0.04106098 & 0.04816235 & 0.05497078\\\\\n",
       "\\end{tabular}\n"
      ],
      "text/markdown": [
       "\n",
       "A matrix: 2 × 5 of type dbl\n",
       "\n",
       "| <!--/--> | CA | CO | INF | RO | SH |\n",
       "|---|---|---|---|---|---|\n",
       "| 2HG0137300_P15 | 0.39376451 | 0.15293209 | 0.31820864 | 0.09895941 | 0.17129390 |\n",
       "| 4HG0292190_P20 | 0.06394359 | 0.04472134 | 0.04106098 | 0.04816235 | 0.05497078 |\n",
       "\n"
      ],
      "text/plain": [
       "               CA         CO         INF        RO         SH        \n",
       "2HG0137300_P15 0.39376451 0.15293209 0.31820864 0.09895941 0.17129390\n",
       "4HG0292190_P20 0.06394359 0.04472134 0.04106098 0.04816235 0.05497078"
      ]
     },
     "metadata": {},
     "output_type": "display_data"
    }
   ],
   "source": [
    "head(df_value, n = 2)"
   ]
  },
  {
   "cell_type": "code",
   "execution_count": 4,
   "id": "1cded682",
   "metadata": {},
   "outputs": [
    {
     "data": {
      "text/html": [
       "<table class=\"dataframe\">\n",
       "<caption>A data.frame: 2 × 5</caption>\n",
       "<thead>\n",
       "\t<tr><th></th><th scope=col>CA</th><th scope=col>CO</th><th scope=col>INF</th><th scope=col>RO</th><th scope=col>SH</th></tr>\n",
       "\t<tr><th></th><th scope=col>&lt;dbl&gt;</th><th scope=col>&lt;dbl&gt;</th><th scope=col>&lt;dbl&gt;</th><th scope=col>&lt;dbl&gt;</th><th scope=col>&lt;dbl&gt;</th></tr>\n",
       "</thead>\n",
       "<tbody>\n",
       "\t<tr><th scope=row>2HG0137300_P15</th><td>0.47898683</td><td>0.20530754</td><td>0.39857874</td><td>0.1361381</td><td>0.22810313</td></tr>\n",
       "\t<tr><th scope=row>4HG0292190_P20</th><td>0.08942166</td><td>0.06311818</td><td>0.05805458</td><td>0.0678622</td><td>0.07720304</td></tr>\n",
       "</tbody>\n",
       "</table>\n"
      ],
      "text/latex": [
       "A data.frame: 2 × 5\n",
       "\\begin{tabular}{r|lllll}\n",
       "  & CA & CO & INF & RO & SH\\\\\n",
       "  & <dbl> & <dbl> & <dbl> & <dbl> & <dbl>\\\\\n",
       "\\hline\n",
       "\t2HG0137300\\_P15 & 0.47898683 & 0.20530754 & 0.39857874 & 0.1361381 & 0.22810313\\\\\n",
       "\t4HG0292190\\_P20 & 0.08942166 & 0.06311818 & 0.05805458 & 0.0678622 & 0.07720304\\\\\n",
       "\\end{tabular}\n"
      ],
      "text/markdown": [
       "\n",
       "A data.frame: 2 × 5\n",
       "\n",
       "| <!--/--> | CA &lt;dbl&gt; | CO &lt;dbl&gt; | INF &lt;dbl&gt; | RO &lt;dbl&gt; | SH &lt;dbl&gt; |\n",
       "|---|---|---|---|---|---|\n",
       "| 2HG0137300_P15 | 0.47898683 | 0.20530754 | 0.39857874 | 0.1361381 | 0.22810313 |\n",
       "| 4HG0292190_P20 | 0.08942166 | 0.06311818 | 0.05805458 | 0.0678622 | 0.07720304 |\n",
       "\n"
      ],
      "text/plain": [
       "               CA         CO         INF        RO        SH        \n",
       "2HG0137300_P15 0.47898683 0.20530754 0.39857874 0.1361381 0.22810313\n",
       "4HG0292190_P20 0.08942166 0.06311818 0.05805458 0.0678622 0.07720304"
      ]
     },
     "metadata": {},
     "output_type": "display_data"
    }
   ],
   "source": [
    "# Apply log2 transformation to df_value\n",
    "df_value <- df_value + 1\n",
    "df_log2 <- log2(df_value)\n",
    "\n",
    "# Convert the result to a data frame and set row names\n",
    "df_log2 <- as.data.frame(df_log2)\n",
    "\n",
    "rownames(df_log2) <- rownames(df_value)\n",
    "\n",
    "# Remove rows with all NA values\n",
    "# df_log2 <- df_log2[complete.cases(df_log2), ]\n",
    "\n",
    "# Display the head of df_log2\n",
    "head(df_log2, n = 2)"
   ]
  },
  {
   "cell_type": "code",
   "execution_count": 5,
   "id": "49f72dbf",
   "metadata": {},
   "outputs": [],
   "source": [
    "# write.csv(df_log2, \"df_log2_std_by_mean.csv\", row.names = TRUE)"
   ]
  },
  {
   "cell_type": "code",
   "execution_count": 6,
   "id": "2dae61ae",
   "metadata": {},
   "outputs": [
    {
     "data": {
      "text/html": [
       "TRUE"
      ],
      "text/latex": [
       "TRUE"
      ],
      "text/markdown": [
       "TRUE"
      ],
      "text/plain": [
       "[1] TRUE"
      ]
     },
     "metadata": {},
     "output_type": "display_data"
    }
   ],
   "source": [
    "is.data.frame(df_log2)"
   ]
  },
  {
   "cell_type": "code",
   "execution_count": 7,
   "id": "988e96e2",
   "metadata": {},
   "outputs": [],
   "source": [
    "# Convert df_log2 to a matrix if it's a data frame\n",
    "if (is.data.frame(df_log2)) {\n",
    "  df_log2 <- as.matrix(df_log2)\n",
    "}"
   ]
  },
  {
   "cell_type": "code",
   "execution_count": 8,
   "id": "6ff6093c",
   "metadata": {},
   "outputs": [
    {
     "name": "stdout",
     "output_type": "stream",
     "text": [
      "     CA CO INF RO SH\n"
     ]
    }
   ],
   "source": [
    "# Check for infinite values in df_log2\n",
    "infinite_rows <- apply(df_log2, 1, function(row) any(is.infinite(row)))\n",
    "\n",
    "# Print out the rows containing infinite values\n",
    "print(df_log2[infinite_rows, ])"
   ]
  },
  {
   "cell_type": "code",
   "execution_count": 9,
   "id": "7337d5db",
   "metadata": {},
   "outputs": [
    {
     "name": "stdout",
     "output_type": "stream",
     "text": [
      "                       CA        CO       INF        RO         SH\n",
      "1HG0058670_P20 0.57426993 0.1114852 0.3506826       NaN 0.07900105\n",
      "4HG0339000_P20        NaN 0.7220641 1.0000000 0.2653101 0.61600542\n",
      "7HG0560740_P20        NaN 0.2154807 0.3888384 0.1226804 0.77257599\n",
      "4HG0331510_P20        NaN 0.1563265       NaN 0.2534524        NaN\n",
      "6HG0463610_P20 0.04124195 0.3786119 0.6540065       NaN        NaN\n",
      "3HG0181530_P20        NaN 0.1708742 0.3385553       NaN 0.15868574\n",
      "HLHg324.t1_P20 0.85111887       NaN 0.2190377 1.0000000 1.00000000\n",
      "3HG0181490_P20        NaN 0.5064314       NaN       NaN 0.35848880\n",
      "3HG0253600_P20        NaN 0.3447805 0.2306740       NaN 0.26359854\n"
     ]
    }
   ],
   "source": [
    "# Check for infinite values in df_log2\n",
    "na_rows <- apply(df_log2, 1, function(row) any(is.na(row)))\n",
    "\n",
    "# Print out the rows containing infinite values\n",
    "print(df_log2[na_rows, ])"
   ]
  },
  {
   "cell_type": "code",
   "execution_count": 10,
   "id": "f7c48e9a",
   "metadata": {},
   "outputs": [
    {
     "data": {
      "text/html": [
       "126"
      ],
      "text/latex": [
       "126"
      ],
      "text/markdown": [
       "126"
      ],
      "text/plain": [
       "[1] 126"
      ]
     },
     "metadata": {},
     "output_type": "display_data"
    }
   ],
   "source": [
    "nrow(df_log2)"
   ]
  },
  {
   "cell_type": "markdown",
   "id": "b8792468",
   "metadata": {},
   "source": [
    "## sort df_log2 gene order by the mean cluster tree order"
   ]
  },
  {
   "cell_type": "code",
   "execution_count": 11,
   "id": "1340e93e",
   "metadata": {},
   "outputs": [
    {
     "data": {
      "text/html": [
       "<table class=\"dataframe\">\n",
       "<caption>A matrix: 2 × 5 of type dbl</caption>\n",
       "<thead>\n",
       "\t<tr><th></th><th scope=col>CA</th><th scope=col>CO</th><th scope=col>INF</th><th scope=col>RO</th><th scope=col>SH</th></tr>\n",
       "</thead>\n",
       "<tbody>\n",
       "\t<tr><th scope=row>2HG0137300_P15</th><td>0.47898683</td><td>0.20530754</td><td>0.39857874</td><td>0.1361381</td><td>0.22810313</td></tr>\n",
       "\t<tr><th scope=row>4HG0292190_P20</th><td>0.08942166</td><td>0.06311818</td><td>0.05805458</td><td>0.0678622</td><td>0.07720304</td></tr>\n",
       "</tbody>\n",
       "</table>\n"
      ],
      "text/latex": [
       "A matrix: 2 × 5 of type dbl\n",
       "\\begin{tabular}{r|lllll}\n",
       "  & CA & CO & INF & RO & SH\\\\\n",
       "\\hline\n",
       "\t2HG0137300\\_P15 & 0.47898683 & 0.20530754 & 0.39857874 & 0.1361381 & 0.22810313\\\\\n",
       "\t4HG0292190\\_P20 & 0.08942166 & 0.06311818 & 0.05805458 & 0.0678622 & 0.07720304\\\\\n",
       "\\end{tabular}\n"
      ],
      "text/markdown": [
       "\n",
       "A matrix: 2 × 5 of type dbl\n",
       "\n",
       "| <!--/--> | CA | CO | INF | RO | SH |\n",
       "|---|---|---|---|---|---|\n",
       "| 2HG0137300_P15 | 0.47898683 | 0.20530754 | 0.39857874 | 0.1361381 | 0.22810313 |\n",
       "| 4HG0292190_P20 | 0.08942166 | 0.06311818 | 0.05805458 | 0.0678622 | 0.07720304 |\n",
       "\n"
      ],
      "text/plain": [
       "               CA         CO         INF        RO        SH        \n",
       "2HG0137300_P15 0.47898683 0.20530754 0.39857874 0.1361381 0.22810313\n",
       "4HG0292190_P20 0.08942166 0.06311818 0.05805458 0.0678622 0.07720304"
      ]
     },
     "metadata": {},
     "output_type": "display_data"
    }
   ],
   "source": [
    "head(df_log2,2)"
   ]
  },
  {
   "cell_type": "code",
   "execution_count": 15,
   "id": "f86202cb",
   "metadata": {},
   "outputs": [
    {
     "data": {
      "text/html": [
       "<style>\n",
       ".list-inline {list-style: none; margin:0; padding: 0}\n",
       ".list-inline>li {display: inline-block}\n",
       ".list-inline>li:not(:last-child)::after {content: \"\\00b7\"; padding: 0 .5ex}\n",
       "</style>\n",
       "<ol class=list-inline><li>'2HG0131040_P20'</li><li>'5HG0423110_P20'</li><li>'3HG0181460_P20'</li><li>'HLHg344.t1_P13'</li><li>'HLHg347.t1_P19'</li><li>'2HG0114000_P19'</li><li>'6HG0453850_P20'</li><li>'1HG0059760_P20'</li><li>'5HG0408490_P20'</li><li>'5HG0431970_P20'</li><li>'2HG0100900_P20'</li><li>'1HG0041620_P20'</li><li>'7HG0582310_P20'</li><li>'5HG0404810_P20'</li><li>'3HG0258420_P20'</li><li>'7HG0620900_P20'</li><li>'3HG0254920_P20'</li><li>'7HG0564200_P20'</li><li>'5HG0433190_P20'</li><li>'3HG0207450_P20'</li><li>'7HG0548510_P20'</li><li>'4HG0292190_P20'</li><li>'7HG0557450_P20'</li><li>'4HG0334670_P20'</li><li>'3HG0209720_P19'</li><li>'1HG0016740_P20'</li><li>'6HG0463610_P20'</li><li>'2HG0126610_P20'</li><li>'5HG0428620_P20'</li><li>'1HG0013700_P20'</li><li>'4HG0324860_P20'</li><li>'UnG0625210_P20'</li><li>'5HG0404310_P20'</li><li>'4HG0286250_P20'</li><li>'4HG0278320_P20'</li><li>'4HG0338430_P20'</li><li>'4HG0278310_P20'</li><li>'2HG0133330_P20'</li><li>'3HG0268450_P20'</li><li>'7HG0546900_P20'</li><li>'2HG0106850_P20'</li><li>'5HG0402770_P20'</li><li>'4HG0338980_P20'</li><li>'3HG0195890_P20'</li><li>'4HG0339000_P20'</li><li>'4HG0331510_P20'</li><li>'2HG0137300_P15'</li><li>'6HG0504470_P20'</li><li>'6HG0504480_P20'</li><li>'4HG0328180_P20'</li><li>'7HG0560740_P20'</li><li>'5HG0363030_P20'</li><li>'7HG0585870_P20'</li><li>'3HG0260970_P19'</li><li>'HLHg324.t1_P20'</li><li>'2HG0156270_P20'</li><li>'3HG0181530_P20'</li><li>'5HG0357590_P20'</li><li>'5HG0441410_P20'</li><li>'5HG0412360_P20'</li><li>'7HG0622320_P20'</li><li>'1HG0044670_P20'</li><li>'3HG0181490_P20'</li><li>'6HG0501920_P20'</li><li>'4HG0281900_P20'</li><li>'5HG0422460_P20'</li><li>'2HG0130980_P20'</li><li>'7HG0550510_P20'</li><li>'3HG0181500_P20'</li><li>'1HG0058670_P20'</li><li>'2HG0094640_P20'</li><li>'2HG0161050_P20'</li><li>'2HG0163640_P20'</li><li>'2HG0112900_P20'</li><li>'5HG0403920_P20'</li><li>'6HG0514270_P20'</li><li>'2HG0164380_P20'</li><li>'3HG0253600_P20'</li><li>'3HG0220650_P20'</li><li>'7HG0587740_P20'</li><li>'6HG0456990_P20'</li><li>'3HG0191940_P20'</li><li>'1HG0020410_P20'</li><li>'7HG0542700_P20'</li><li>'5HG0425520_P20'</li><li>'5HG0350840_P20'</li><li>'4HG0282610_P20'</li><li>'6HG0491050_P20'</li><li>'2HG0165840_P20'</li><li>'3HG0203290_P20'</li><li>'6HG0499970_P20'</li><li>'2HG0173220_P20'</li><li>'3HG0235270_P20'</li><li>'3HG0195700_P20'</li><li>'5HG0401530_P20'</li><li>'4HG0283050_P20'</li><li>'5HG0400770_P20'</li><li>'5HG0435800_P20'</li><li>'5HG0406730_P20'</li><li>'7HG0567160_P20'</li><li>'4HG0340630_P20'</li><li>'7HG0544070_P20'</li><li>'4HG0328390_P20'</li><li>'7HG0591750_P20'</li><li>'6HG0518000_P19'</li><li>'2HG0088270_P20'</li><li>'6HG0506930_P20'</li><li>'5HG0404630_P20'</li><li>'3HG0182490_P20'</li><li>'2HG0131980_P20'</li><li>'3HG0221550_P20'</li><li>'3HG0260940_P20'</li><li>'3HG0186000_P20'</li><li>'7HG0583410_P20'</li><li>'5HG0410450_P20'</li><li>'1HG0014420_P20'</li><li>'7HG0601050_P18'</li><li>'7HG0568640_P20'</li><li>'4HG0343750_P20'</li><li>'6HG0520400_P20'</li><li>'2HG0162200_P20'</li><li>'4HG0346050_P20'</li><li>'6HG0503700_P20'</li><li>'4HG0346040_P20'</li><li>'3HG0235400_P20'</li><li>'1HG0065580_P19'</li></ol>\n"
      ],
      "text/latex": [
       "\\begin{enumerate*}\n",
       "\\item '2HG0131040\\_P20'\n",
       "\\item '5HG0423110\\_P20'\n",
       "\\item '3HG0181460\\_P20'\n",
       "\\item 'HLHg344.t1\\_P13'\n",
       "\\item 'HLHg347.t1\\_P19'\n",
       "\\item '2HG0114000\\_P19'\n",
       "\\item '6HG0453850\\_P20'\n",
       "\\item '1HG0059760\\_P20'\n",
       "\\item '5HG0408490\\_P20'\n",
       "\\item '5HG0431970\\_P20'\n",
       "\\item '2HG0100900\\_P20'\n",
       "\\item '1HG0041620\\_P20'\n",
       "\\item '7HG0582310\\_P20'\n",
       "\\item '5HG0404810\\_P20'\n",
       "\\item '3HG0258420\\_P20'\n",
       "\\item '7HG0620900\\_P20'\n",
       "\\item '3HG0254920\\_P20'\n",
       "\\item '7HG0564200\\_P20'\n",
       "\\item '5HG0433190\\_P20'\n",
       "\\item '3HG0207450\\_P20'\n",
       "\\item '7HG0548510\\_P20'\n",
       "\\item '4HG0292190\\_P20'\n",
       "\\item '7HG0557450\\_P20'\n",
       "\\item '4HG0334670\\_P20'\n",
       "\\item '3HG0209720\\_P19'\n",
       "\\item '1HG0016740\\_P20'\n",
       "\\item '6HG0463610\\_P20'\n",
       "\\item '2HG0126610\\_P20'\n",
       "\\item '5HG0428620\\_P20'\n",
       "\\item '1HG0013700\\_P20'\n",
       "\\item '4HG0324860\\_P20'\n",
       "\\item 'UnG0625210\\_P20'\n",
       "\\item '5HG0404310\\_P20'\n",
       "\\item '4HG0286250\\_P20'\n",
       "\\item '4HG0278320\\_P20'\n",
       "\\item '4HG0338430\\_P20'\n",
       "\\item '4HG0278310\\_P20'\n",
       "\\item '2HG0133330\\_P20'\n",
       "\\item '3HG0268450\\_P20'\n",
       "\\item '7HG0546900\\_P20'\n",
       "\\item '2HG0106850\\_P20'\n",
       "\\item '5HG0402770\\_P20'\n",
       "\\item '4HG0338980\\_P20'\n",
       "\\item '3HG0195890\\_P20'\n",
       "\\item '4HG0339000\\_P20'\n",
       "\\item '4HG0331510\\_P20'\n",
       "\\item '2HG0137300\\_P15'\n",
       "\\item '6HG0504470\\_P20'\n",
       "\\item '6HG0504480\\_P20'\n",
       "\\item '4HG0328180\\_P20'\n",
       "\\item '7HG0560740\\_P20'\n",
       "\\item '5HG0363030\\_P20'\n",
       "\\item '7HG0585870\\_P20'\n",
       "\\item '3HG0260970\\_P19'\n",
       "\\item 'HLHg324.t1\\_P20'\n",
       "\\item '2HG0156270\\_P20'\n",
       "\\item '3HG0181530\\_P20'\n",
       "\\item '5HG0357590\\_P20'\n",
       "\\item '5HG0441410\\_P20'\n",
       "\\item '5HG0412360\\_P20'\n",
       "\\item '7HG0622320\\_P20'\n",
       "\\item '1HG0044670\\_P20'\n",
       "\\item '3HG0181490\\_P20'\n",
       "\\item '6HG0501920\\_P20'\n",
       "\\item '4HG0281900\\_P20'\n",
       "\\item '5HG0422460\\_P20'\n",
       "\\item '2HG0130980\\_P20'\n",
       "\\item '7HG0550510\\_P20'\n",
       "\\item '3HG0181500\\_P20'\n",
       "\\item '1HG0058670\\_P20'\n",
       "\\item '2HG0094640\\_P20'\n",
       "\\item '2HG0161050\\_P20'\n",
       "\\item '2HG0163640\\_P20'\n",
       "\\item '2HG0112900\\_P20'\n",
       "\\item '5HG0403920\\_P20'\n",
       "\\item '6HG0514270\\_P20'\n",
       "\\item '2HG0164380\\_P20'\n",
       "\\item '3HG0253600\\_P20'\n",
       "\\item '3HG0220650\\_P20'\n",
       "\\item '7HG0587740\\_P20'\n",
       "\\item '6HG0456990\\_P20'\n",
       "\\item '3HG0191940\\_P20'\n",
       "\\item '1HG0020410\\_P20'\n",
       "\\item '7HG0542700\\_P20'\n",
       "\\item '5HG0425520\\_P20'\n",
       "\\item '5HG0350840\\_P20'\n",
       "\\item '4HG0282610\\_P20'\n",
       "\\item '6HG0491050\\_P20'\n",
       "\\item '2HG0165840\\_P20'\n",
       "\\item '3HG0203290\\_P20'\n",
       "\\item '6HG0499970\\_P20'\n",
       "\\item '2HG0173220\\_P20'\n",
       "\\item '3HG0235270\\_P20'\n",
       "\\item '3HG0195700\\_P20'\n",
       "\\item '5HG0401530\\_P20'\n",
       "\\item '4HG0283050\\_P20'\n",
       "\\item '5HG0400770\\_P20'\n",
       "\\item '5HG0435800\\_P20'\n",
       "\\item '5HG0406730\\_P20'\n",
       "\\item '7HG0567160\\_P20'\n",
       "\\item '4HG0340630\\_P20'\n",
       "\\item '7HG0544070\\_P20'\n",
       "\\item '4HG0328390\\_P20'\n",
       "\\item '7HG0591750\\_P20'\n",
       "\\item '6HG0518000\\_P19'\n",
       "\\item '2HG0088270\\_P20'\n",
       "\\item '6HG0506930\\_P20'\n",
       "\\item '5HG0404630\\_P20'\n",
       "\\item '3HG0182490\\_P20'\n",
       "\\item '2HG0131980\\_P20'\n",
       "\\item '3HG0221550\\_P20'\n",
       "\\item '3HG0260940\\_P20'\n",
       "\\item '3HG0186000\\_P20'\n",
       "\\item '7HG0583410\\_P20'\n",
       "\\item '5HG0410450\\_P20'\n",
       "\\item '1HG0014420\\_P20'\n",
       "\\item '7HG0601050\\_P18'\n",
       "\\item '7HG0568640\\_P20'\n",
       "\\item '4HG0343750\\_P20'\n",
       "\\item '6HG0520400\\_P20'\n",
       "\\item '2HG0162200\\_P20'\n",
       "\\item '4HG0346050\\_P20'\n",
       "\\item '6HG0503700\\_P20'\n",
       "\\item '4HG0346040\\_P20'\n",
       "\\item '3HG0235400\\_P20'\n",
       "\\item '1HG0065580\\_P19'\n",
       "\\end{enumerate*}\n"
      ],
      "text/markdown": [
       "1. '2HG0131040_P20'\n",
       "2. '5HG0423110_P20'\n",
       "3. '3HG0181460_P20'\n",
       "4. 'HLHg344.t1_P13'\n",
       "5. 'HLHg347.t1_P19'\n",
       "6. '2HG0114000_P19'\n",
       "7. '6HG0453850_P20'\n",
       "8. '1HG0059760_P20'\n",
       "9. '5HG0408490_P20'\n",
       "10. '5HG0431970_P20'\n",
       "11. '2HG0100900_P20'\n",
       "12. '1HG0041620_P20'\n",
       "13. '7HG0582310_P20'\n",
       "14. '5HG0404810_P20'\n",
       "15. '3HG0258420_P20'\n",
       "16. '7HG0620900_P20'\n",
       "17. '3HG0254920_P20'\n",
       "18. '7HG0564200_P20'\n",
       "19. '5HG0433190_P20'\n",
       "20. '3HG0207450_P20'\n",
       "21. '7HG0548510_P20'\n",
       "22. '4HG0292190_P20'\n",
       "23. '7HG0557450_P20'\n",
       "24. '4HG0334670_P20'\n",
       "25. '3HG0209720_P19'\n",
       "26. '1HG0016740_P20'\n",
       "27. '6HG0463610_P20'\n",
       "28. '2HG0126610_P20'\n",
       "29. '5HG0428620_P20'\n",
       "30. '1HG0013700_P20'\n",
       "31. '4HG0324860_P20'\n",
       "32. 'UnG0625210_P20'\n",
       "33. '5HG0404310_P20'\n",
       "34. '4HG0286250_P20'\n",
       "35. '4HG0278320_P20'\n",
       "36. '4HG0338430_P20'\n",
       "37. '4HG0278310_P20'\n",
       "38. '2HG0133330_P20'\n",
       "39. '3HG0268450_P20'\n",
       "40. '7HG0546900_P20'\n",
       "41. '2HG0106850_P20'\n",
       "42. '5HG0402770_P20'\n",
       "43. '4HG0338980_P20'\n",
       "44. '3HG0195890_P20'\n",
       "45. '4HG0339000_P20'\n",
       "46. '4HG0331510_P20'\n",
       "47. '2HG0137300_P15'\n",
       "48. '6HG0504470_P20'\n",
       "49. '6HG0504480_P20'\n",
       "50. '4HG0328180_P20'\n",
       "51. '7HG0560740_P20'\n",
       "52. '5HG0363030_P20'\n",
       "53. '7HG0585870_P20'\n",
       "54. '3HG0260970_P19'\n",
       "55. 'HLHg324.t1_P20'\n",
       "56. '2HG0156270_P20'\n",
       "57. '3HG0181530_P20'\n",
       "58. '5HG0357590_P20'\n",
       "59. '5HG0441410_P20'\n",
       "60. '5HG0412360_P20'\n",
       "61. '7HG0622320_P20'\n",
       "62. '1HG0044670_P20'\n",
       "63. '3HG0181490_P20'\n",
       "64. '6HG0501920_P20'\n",
       "65. '4HG0281900_P20'\n",
       "66. '5HG0422460_P20'\n",
       "67. '2HG0130980_P20'\n",
       "68. '7HG0550510_P20'\n",
       "69. '3HG0181500_P20'\n",
       "70. '1HG0058670_P20'\n",
       "71. '2HG0094640_P20'\n",
       "72. '2HG0161050_P20'\n",
       "73. '2HG0163640_P20'\n",
       "74. '2HG0112900_P20'\n",
       "75. '5HG0403920_P20'\n",
       "76. '6HG0514270_P20'\n",
       "77. '2HG0164380_P20'\n",
       "78. '3HG0253600_P20'\n",
       "79. '3HG0220650_P20'\n",
       "80. '7HG0587740_P20'\n",
       "81. '6HG0456990_P20'\n",
       "82. '3HG0191940_P20'\n",
       "83. '1HG0020410_P20'\n",
       "84. '7HG0542700_P20'\n",
       "85. '5HG0425520_P20'\n",
       "86. '5HG0350840_P20'\n",
       "87. '4HG0282610_P20'\n",
       "88. '6HG0491050_P20'\n",
       "89. '2HG0165840_P20'\n",
       "90. '3HG0203290_P20'\n",
       "91. '6HG0499970_P20'\n",
       "92. '2HG0173220_P20'\n",
       "93. '3HG0235270_P20'\n",
       "94. '3HG0195700_P20'\n",
       "95. '5HG0401530_P20'\n",
       "96. '4HG0283050_P20'\n",
       "97. '5HG0400770_P20'\n",
       "98. '5HG0435800_P20'\n",
       "99. '5HG0406730_P20'\n",
       "100. '7HG0567160_P20'\n",
       "101. '4HG0340630_P20'\n",
       "102. '7HG0544070_P20'\n",
       "103. '4HG0328390_P20'\n",
       "104. '7HG0591750_P20'\n",
       "105. '6HG0518000_P19'\n",
       "106. '2HG0088270_P20'\n",
       "107. '6HG0506930_P20'\n",
       "108. '5HG0404630_P20'\n",
       "109. '3HG0182490_P20'\n",
       "110. '2HG0131980_P20'\n",
       "111. '3HG0221550_P20'\n",
       "112. '3HG0260940_P20'\n",
       "113. '3HG0186000_P20'\n",
       "114. '7HG0583410_P20'\n",
       "115. '5HG0410450_P20'\n",
       "116. '1HG0014420_P20'\n",
       "117. '7HG0601050_P18'\n",
       "118. '7HG0568640_P20'\n",
       "119. '4HG0343750_P20'\n",
       "120. '6HG0520400_P20'\n",
       "121. '2HG0162200_P20'\n",
       "122. '4HG0346050_P20'\n",
       "123. '6HG0503700_P20'\n",
       "124. '4HG0346040_P20'\n",
       "125. '3HG0235400_P20'\n",
       "126. '1HG0065580_P19'\n",
       "\n",
       "\n"
      ],
      "text/plain": [
       "  [1] \"2HG0131040_P20\" \"5HG0423110_P20\" \"3HG0181460_P20\" \"HLHg344.t1_P13\"\n",
       "  [5] \"HLHg347.t1_P19\" \"2HG0114000_P19\" \"6HG0453850_P20\" \"1HG0059760_P20\"\n",
       "  [9] \"5HG0408490_P20\" \"5HG0431970_P20\" \"2HG0100900_P20\" \"1HG0041620_P20\"\n",
       " [13] \"7HG0582310_P20\" \"5HG0404810_P20\" \"3HG0258420_P20\" \"7HG0620900_P20\"\n",
       " [17] \"3HG0254920_P20\" \"7HG0564200_P20\" \"5HG0433190_P20\" \"3HG0207450_P20\"\n",
       " [21] \"7HG0548510_P20\" \"4HG0292190_P20\" \"7HG0557450_P20\" \"4HG0334670_P20\"\n",
       " [25] \"3HG0209720_P19\" \"1HG0016740_P20\" \"6HG0463610_P20\" \"2HG0126610_P20\"\n",
       " [29] \"5HG0428620_P20\" \"1HG0013700_P20\" \"4HG0324860_P20\" \"UnG0625210_P20\"\n",
       " [33] \"5HG0404310_P20\" \"4HG0286250_P20\" \"4HG0278320_P20\" \"4HG0338430_P20\"\n",
       " [37] \"4HG0278310_P20\" \"2HG0133330_P20\" \"3HG0268450_P20\" \"7HG0546900_P20\"\n",
       " [41] \"2HG0106850_P20\" \"5HG0402770_P20\" \"4HG0338980_P20\" \"3HG0195890_P20\"\n",
       " [45] \"4HG0339000_P20\" \"4HG0331510_P20\" \"2HG0137300_P15\" \"6HG0504470_P20\"\n",
       " [49] \"6HG0504480_P20\" \"4HG0328180_P20\" \"7HG0560740_P20\" \"5HG0363030_P20\"\n",
       " [53] \"7HG0585870_P20\" \"3HG0260970_P19\" \"HLHg324.t1_P20\" \"2HG0156270_P20\"\n",
       " [57] \"3HG0181530_P20\" \"5HG0357590_P20\" \"5HG0441410_P20\" \"5HG0412360_P20\"\n",
       " [61] \"7HG0622320_P20\" \"1HG0044670_P20\" \"3HG0181490_P20\" \"6HG0501920_P20\"\n",
       " [65] \"4HG0281900_P20\" \"5HG0422460_P20\" \"2HG0130980_P20\" \"7HG0550510_P20\"\n",
       " [69] \"3HG0181500_P20\" \"1HG0058670_P20\" \"2HG0094640_P20\" \"2HG0161050_P20\"\n",
       " [73] \"2HG0163640_P20\" \"2HG0112900_P20\" \"5HG0403920_P20\" \"6HG0514270_P20\"\n",
       " [77] \"2HG0164380_P20\" \"3HG0253600_P20\" \"3HG0220650_P20\" \"7HG0587740_P20\"\n",
       " [81] \"6HG0456990_P20\" \"3HG0191940_P20\" \"1HG0020410_P20\" \"7HG0542700_P20\"\n",
       " [85] \"5HG0425520_P20\" \"5HG0350840_P20\" \"4HG0282610_P20\" \"6HG0491050_P20\"\n",
       " [89] \"2HG0165840_P20\" \"3HG0203290_P20\" \"6HG0499970_P20\" \"2HG0173220_P20\"\n",
       " [93] \"3HG0235270_P20\" \"3HG0195700_P20\" \"5HG0401530_P20\" \"4HG0283050_P20\"\n",
       " [97] \"5HG0400770_P20\" \"5HG0435800_P20\" \"5HG0406730_P20\" \"7HG0567160_P20\"\n",
       "[101] \"4HG0340630_P20\" \"7HG0544070_P20\" \"4HG0328390_P20\" \"7HG0591750_P20\"\n",
       "[105] \"6HG0518000_P19\" \"2HG0088270_P20\" \"6HG0506930_P20\" \"5HG0404630_P20\"\n",
       "[109] \"3HG0182490_P20\" \"2HG0131980_P20\" \"3HG0221550_P20\" \"3HG0260940_P20\"\n",
       "[113] \"3HG0186000_P20\" \"7HG0583410_P20\" \"5HG0410450_P20\" \"1HG0014420_P20\"\n",
       "[117] \"7HG0601050_P18\" \"7HG0568640_P20\" \"4HG0343750_P20\" \"6HG0520400_P20\"\n",
       "[121] \"2HG0162200_P20\" \"4HG0346050_P20\" \"6HG0503700_P20\" \"4HG0346040_P20\"\n",
       "[125] \"3HG0235400_P20\" \"1HG0065580_P19\""
      ]
     },
     "metadata": {},
     "output_type": "display_data"
    }
   ],
   "source": [
    "my <- read.tree(\"pheatmap_mean_log2_tree.newick\") ## pheatmap cluster tree\n",
    "ID2 <- my$tip.label\n",
    "ID2"
   ]
  },
  {
   "cell_type": "code",
   "execution_count": 19,
   "id": "4e0d3faa",
   "metadata": {},
   "outputs": [
    {
     "data": {
      "text/html": [
       "<table class=\"dataframe\">\n",
       "<caption>A matrix: 6 × 5 of type dbl</caption>\n",
       "<thead>\n",
       "\t<tr><th></th><th scope=col>CA</th><th scope=col>CO</th><th scope=col>INF</th><th scope=col>RO</th><th scope=col>SH</th></tr>\n",
       "</thead>\n",
       "<tbody>\n",
       "\t<tr><th scope=row>1HG0065580_P19</th><td>0.17551071</td><td>0.05234559</td><td>0.2017129</td><td>0.1176192</td><td>0.18868861</td></tr>\n",
       "\t<tr><th scope=row>3HG0235400_P20</th><td>0.09752244</td><td>0.05450103</td><td>0.2197644</td><td>0.2961362</td><td>0.06889164</td></tr>\n",
       "\t<tr><th scope=row>4HG0346040_P20</th><td>0.33061800</td><td>0.08540242</td><td>0.2021427</td><td>0.1437452</td><td>0.14425603</td></tr>\n",
       "\t<tr><th scope=row>6HG0503700_P20</th><td>0.23162192</td><td>0.11890405</td><td>0.2207871</td><td>0.1674985</td><td>0.11112176</td></tr>\n",
       "\t<tr><th scope=row>4HG0346050_P20</th><td>0.31573261</td><td>0.12952683</td><td>0.2430547</td><td>0.4419983</td><td>0.17274828</td></tr>\n",
       "\t<tr><th scope=row>2HG0162200_P20</th><td>0.20622137</td><td>0.14448639</td><td>0.2379245</td><td>0.3592467</td><td>0.28255443</td></tr>\n",
       "</tbody>\n",
       "</table>\n"
      ],
      "text/latex": [
       "A matrix: 6 × 5 of type dbl\n",
       "\\begin{tabular}{r|lllll}\n",
       "  & CA & CO & INF & RO & SH\\\\\n",
       "\\hline\n",
       "\t1HG0065580\\_P19 & 0.17551071 & 0.05234559 & 0.2017129 & 0.1176192 & 0.18868861\\\\\n",
       "\t3HG0235400\\_P20 & 0.09752244 & 0.05450103 & 0.2197644 & 0.2961362 & 0.06889164\\\\\n",
       "\t4HG0346040\\_P20 & 0.33061800 & 0.08540242 & 0.2021427 & 0.1437452 & 0.14425603\\\\\n",
       "\t6HG0503700\\_P20 & 0.23162192 & 0.11890405 & 0.2207871 & 0.1674985 & 0.11112176\\\\\n",
       "\t4HG0346050\\_P20 & 0.31573261 & 0.12952683 & 0.2430547 & 0.4419983 & 0.17274828\\\\\n",
       "\t2HG0162200\\_P20 & 0.20622137 & 0.14448639 & 0.2379245 & 0.3592467 & 0.28255443\\\\\n",
       "\\end{tabular}\n"
      ],
      "text/markdown": [
       "\n",
       "A matrix: 6 × 5 of type dbl\n",
       "\n",
       "| <!--/--> | CA | CO | INF | RO | SH |\n",
       "|---|---|---|---|---|---|\n",
       "| 1HG0065580_P19 | 0.17551071 | 0.05234559 | 0.2017129 | 0.1176192 | 0.18868861 |\n",
       "| 3HG0235400_P20 | 0.09752244 | 0.05450103 | 0.2197644 | 0.2961362 | 0.06889164 |\n",
       "| 4HG0346040_P20 | 0.33061800 | 0.08540242 | 0.2021427 | 0.1437452 | 0.14425603 |\n",
       "| 6HG0503700_P20 | 0.23162192 | 0.11890405 | 0.2207871 | 0.1674985 | 0.11112176 |\n",
       "| 4HG0346050_P20 | 0.31573261 | 0.12952683 | 0.2430547 | 0.4419983 | 0.17274828 |\n",
       "| 2HG0162200_P20 | 0.20622137 | 0.14448639 | 0.2379245 | 0.3592467 | 0.28255443 |\n",
       "\n"
      ],
      "text/plain": [
       "               CA         CO         INF       RO        SH        \n",
       "1HG0065580_P19 0.17551071 0.05234559 0.2017129 0.1176192 0.18868861\n",
       "3HG0235400_P20 0.09752244 0.05450103 0.2197644 0.2961362 0.06889164\n",
       "4HG0346040_P20 0.33061800 0.08540242 0.2021427 0.1437452 0.14425603\n",
       "6HG0503700_P20 0.23162192 0.11890405 0.2207871 0.1674985 0.11112176\n",
       "4HG0346050_P20 0.31573261 0.12952683 0.2430547 0.4419983 0.17274828\n",
       "2HG0162200_P20 0.20622137 0.14448639 0.2379245 0.3592467 0.28255443"
      ]
     },
     "metadata": {},
     "output_type": "display_data"
    }
   ],
   "source": [
    "# Reorder the data frame by the desired order of row names\n",
    "df_sorted <- df_log2[rev(ID2), , drop = FALSE]\n",
    "head(df_sorted)"
   ]
  },
  {
   "cell_type": "code",
   "execution_count": 22,
   "id": "a56b4086",
   "metadata": {},
   "outputs": [
    {
     "data": {
      "image/png": "[encoded data removed]",
      "text/plain": [
       "plot without title"
      ]
     },
     "metadata": {
      "image/png": {
       "height": 420,
       "width": 420
      }
     },
     "output_type": "display_data"
    }
   ],
   "source": [
    "heatmap1 <- pheatmap(df_sorted,main = \"pheatmap_std_by_mean_log2\",\n",
    "                     border_color = \"black\",\n",
    "                     cluster_cols = FALSE,\n",
    "                     cluster_rows = FALSE,\n",
    "                     show_rownames = FALSE,\n",
    "                     fontsize = 13,\n",
    "                     fontsize_row = 8,\n",
    "                     fontsize_col = 15,\n",
    "                     angle_col = 45)\n",
    "\n",
    "# my_tree <- as.phylo(heatmap1$tree_row)\n",
    "# my_tips <- my_tree$tip.label\n",
    "# write.csv(my_tips, file = \"pheatmap_std_by_mean_log2_treetips_order.csv\")\n",
    "# write.tree(phy=my_tree, file=\"pheatmap_std_by_mean_log2_tree.newick\") # look for the file in your working directory"
   ]
  },
  {
   "cell_type": "code",
   "execution_count": 23,
   "id": "b349a0e1",
   "metadata": {},
   "outputs": [],
   "source": [
    "# Save the heatmap plot generated by pheatmap\n",
    "ggsave(\"pheatmap_std_by_mean_log2_sorted_NOnames.png\", plot = heatmap1, width = 6, height = 18, dpi = 300)"
   ]
  },
  {
   "cell_type": "code",
   "execution_count": 26,
   "id": "b828e9f0",
   "metadata": {},
   "outputs": [
    {
     "ename": "ERROR",
     "evalue": "Error in packageVersion(\"cophyloplot\"): there is no package called ‘cophyloplot’\n",
     "output_type": "error",
     "traceback": [
      "Error in packageVersion(\"cophyloplot\"): there is no package called ‘cophyloplot’\nTraceback:\n",
      "1. packageVersion(\"cophyloplot\")"
     ]
    }
   ],
   "source": [
    "packageVersion(\"cophyloplot\")"
   ]
  },
  {
   "cell_type": "code",
   "execution_count": null,
   "id": "bbad4d6d",
   "metadata": {},
   "outputs": [],
   "source": []
  }
 ],
 "metadata": {
  "kernelspec": {
   "display_name": "R",
   "language": "R",
   "name": "ir"
  },
  "language_info": {
   "codemirror_mode": "r",
   "file_extension": ".r",
   "mimetype": "text/x-r-source",
   "name": "R",
   "pygments_lexer": "r",
   "version": "4.2.3"
  }
 },
 "nbformat": 4,
 "nbformat_minor": 5
}
