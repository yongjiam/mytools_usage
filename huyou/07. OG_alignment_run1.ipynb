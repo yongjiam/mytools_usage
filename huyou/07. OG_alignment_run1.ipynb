{
 "cells": [
  {
   "cell_type": "code",
   "execution_count": 7,
   "id": "71c36aea-6650-4a6d-bf59-a568310e5917",
   "metadata": {},
   "outputs": [],
   "source": [
    "from Bio import SeqIO\n",
    "import os\n",
    "import glob"
   ]
  },
  {
   "cell_type": "code",
   "execution_count": 5,
   "id": "a4796c13-56f4-404c-ae2d-2d60b2b7dba7",
   "metadata": {},
   "outputs": [],
   "source": [
    "os.chdir(\"/data/huyou/orthofinder/selected/OrthoFinder/Results_Aug08/Single_Copy_Orthologue_Sequences\")"
   ]
  },
  {
   "cell_type": "code",
   "execution_count": 6,
   "id": "d6635b98-a88d-4563-95e0-efa18896be23",
   "metadata": {},
   "outputs": [],
   "source": [
    "ordered_species=[\"Hap1\",\n",
    "\"Hap2\",\n",
    "\"SD1\",\n",
    "\"SD2\",\n",
    "\"Aegle_marmelos\",\n",
    "\"Citrus_australasica\",\n",
    "\"Citropsis_gilletiana\",\n",
    "\"Citrus_clementina\",\n",
    "\"Citrus_hongheensis\",\n",
    "\"Atalantia_buxfoliata\",\n",
    "\"Clausena_lansium\",\n",
    "\"Citrus_grandis_wanbaiyou\",\n",
    "\"Murraya_paniculata\",\n",
    "\"Citrus_reticulata\",\n",
    "\"Citrus_linwuensis\",\n",
    "\"Citrus_mangshanensis\",\n",
    "\"Citrus_medica\",\n",
    "\"Citrus_sinensis\",\n",
    "\"Luvunga_scandens\",\n",
    "\"Citrus_maxima_majia\",\n",
    "\"Citrus_ichangensis\",\n",
    "\"Poncirus_trifoliata\"]"
   ]
  },
  {
   "cell_type": "code",
   "execution_count": 8,
   "id": "38c33e25-87a3-4166-9715-d91a7f45e826",
   "metadata": {},
   "outputs": [],
   "source": [
    "def rename_sequences(fasta_file, species_names):\n",
    "    records = list(SeqIO.parse(fasta_file, \"fasta\"))\n",
    "\n",
    "    for i, record in enumerate(records):\n",
    "        if i < len(species_names):\n",
    "            record.id = species_names[i]\n",
    "            record.description = \"\"\n",
    "        else:\n",
    "            print(f\"Warning: More sequences in {fasta_file} than species names provided.\")\n",
    "\n",
    "    SeqIO.write(records, f\"renamed_{fasta_file}\", \"fasta\")\n",
    "\n",
    "if __name__ == \"__main__\":\n",
    "\n",
    "    # List of FASTA files\n",
    "    fasta_files = glob.glob(\"OG*.fa\")\n",
    "\n",
    "    for fasta_file in fasta_files:\n",
    "        rename_sequences(fasta_file, ordered_species)"
   ]
  },
  {
   "cell_type": "code",
   "execution_count": 9,
   "id": "14f49114-7743-49a7-824b-73e688e21738",
   "metadata": {},
   "outputs": [],
   "source": [
    "os.chdir(\"/data/huyou/orthofinder/selected/timetree/renamed_OG_sequences\")"
   ]
  },
  {
   "cell_type": "code",
   "execution_count": null,
   "id": "1ccd4d39-4684-4dde-ae04-3750394f8b8e",
   "metadata": {},
   "outputs": [],
   "source": [
    "## perform sequence alignment using muscle command\n",
    "!ls renamed_OG00*|while read R;do muscle -align $R -output \"aligned_\"$R;done"
   ]
  },
  {
   "cell_type": "code",
   "execution_count": 11,
   "id": "1385af3a-1cf2-4af5-80e5-0aae92d2f6c7",
   "metadata": {},
   "outputs": [],
   "source": [
    "## convert aligned fasta to nexus format\n",
    "!ls aligned_renamed_OG00*|while read R;do seqmagick convert --output-format nexus --alphabet protein $R $R\".nex\";done"
   ]
  },
  {
   "cell_type": "code",
   "execution_count": 13,
   "id": "619390da-80f6-4581-a8f3-4bcaed6c3012",
   "metadata": {},
   "outputs": [],
   "source": [
    "from Bio.Nexus import Nexus"
   ]
  },
  {
   "cell_type": "code",
   "execution_count": 14,
   "id": "c80de79e-d124-4c8f-b07c-b02913fe9f86",
   "metadata": {},
   "outputs": [],
   "source": [
    "## concatenate multiple sequences into a single nexus file\n",
    "# the combine function takes a list of tuples [(name, nexus instance)...],\n",
    "# if we provide the file names in a list we can use a list comprehension to\n",
    "# create these tuples\n",
    "\n",
    "nexi = []\n",
    "file_list = glob.glob(\"*.nex\")\n",
    "\n",
    "nexi = [(fname, Nexus.Nexus(fname)) for fname in file_list]\n",
    "\n",
    "combined = Nexus.combine(nexi)\n",
    "\n",
    "with open(\"combined.nexus\", \"w\") as f:\n",
    "    combined.write_nexus_data(filename=f)"
   ]
  },
  {
   "cell_type": "code",
   "execution_count": null,
   "id": "95120417-4c12-4228-a4a1-ea3b83aa8d17",
   "metadata": {},
   "outputs": [],
   "source": [
    "def wrap_nexus_sequences(input_file, output_file, line_length=80):\n",
    "    with open(input_file, 'r') as infile, open(output_file, 'w') as outfile:\n",
    "        in_matrix = False\n",
    "        for line in infile:\n",
    "            if 'MATRIX' in line:\n",
    "                in_matrix = True\n",
    "                outfile.write(line)\n",
    "            elif ';' in line and in_matrix:\n",
    "                in_matrix = False\n",
    "                outfile.write(line)\n",
    "            elif in_matrix and line.strip() != '':\n",
    "                taxon_name = line.split()[0]\n",
    "                sequence = ''.join(line.split()[1:])\n",
    "                for i in range(0, len(sequence), line_length):\n",
    "                    outfile.write(f'{taxon_name: <10} {sequence[i:i+line_length]}\\n')\n",
    "                    taxon_name = ''  # Only write the taxon name once\n",
    "            else:\n",
    "                outfile.write(line)\n",
    "\n"
   ]
  }
 ],
 "metadata": {
  "kernelspec": {
   "display_name": "Python 3 (ipykernel)",
   "language": "python",
   "name": "python3"
  },
  "language_info": {
   "codemirror_mode": {
    "name": "ipython",
    "version": 3
   },
   "file_extension": ".py",
   "mimetype": "text/x-python",
   "name": "python",
   "nbconvert_exporter": "python",
   "pygments_lexer": "ipython3",
   "version": "3.8.18"
  }
 },
 "nbformat": 4,
 "nbformat_minor": 5
}
