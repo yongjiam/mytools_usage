{
 "cells": [
  {
   "cell_type": "code",
   "execution_count": 1,
   "id": "d8e95396",
   "metadata": {},
   "outputs": [
    {
     "name": "stderr",
     "output_type": "stream",
     "text": [
      "========================================\n",
      "circlize version 0.4.16\n",
      "CRAN page: https://cran.r-project.org/package=circlize\n",
      "Github page: https://github.com/jokergoo/circlize\n",
      "Documentation: https://jokergoo.github.io/circlize_book/book/\n",
      "\n",
      "If you use it in published research, please cite:\n",
      "Gu, Z. circlize implements and enhances circular visualization\n",
      "  in R. Bioinformatics 2014.\n",
      "\n",
      "This message can be suppressed by:\n",
      "  suppressPackageStartupMessages(library(circlize))\n",
      "========================================\n",
      "\n",
      "\n",
      "Loading required package: GenomicRanges\n",
      "\n",
      "Loading required package: stats4\n",
      "\n",
      "Loading required package: BiocGenerics\n",
      "\n",
      "\n",
      "Attaching package: ‘BiocGenerics’\n",
      "\n",
      "\n",
      "The following objects are masked from ‘package:stats’:\n",
      "\n",
      "    IQR, mad, sd, var, xtabs\n",
      "\n",
      "\n",
      "The following objects are masked from ‘package:base’:\n",
      "\n",
      "    anyDuplicated, aperm, append, as.data.frame, basename, cbind,\n",
      "    colnames, dirname, do.call, duplicated, eval, evalq, Filter, Find,\n",
      "    get, grep, grepl, intersect, is.unsorted, lapply, Map, mapply,\n",
      "    match, mget, order, paste, pmax, pmax.int, pmin, pmin.int,\n",
      "    Position, rank, rbind, Reduce, rownames, sapply, setdiff, sort,\n",
      "    table, tapply, union, unique, unsplit, which.max, which.min\n",
      "\n",
      "\n",
      "Loading required package: S4Vectors\n",
      "\n",
      "\n",
      "Attaching package: ‘S4Vectors’\n",
      "\n",
      "\n",
      "The following objects are masked from ‘package:base’:\n",
      "\n",
      "    expand.grid, I, unname\n",
      "\n",
      "\n",
      "Loading required package: IRanges\n",
      "\n",
      "Loading required package: GenomeInfoDb\n",
      "\n",
      "\n",
      "Attaching package: ‘dplyr’\n",
      "\n",
      "\n",
      "The following objects are masked from ‘package:GenomicRanges’:\n",
      "\n",
      "    intersect, setdiff, union\n",
      "\n",
      "\n",
      "The following object is masked from ‘package:GenomeInfoDb’:\n",
      "\n",
      "    intersect\n",
      "\n",
      "\n",
      "The following objects are masked from ‘package:IRanges’:\n",
      "\n",
      "    collapse, desc, intersect, setdiff, slice, union\n",
      "\n",
      "\n",
      "The following objects are masked from ‘package:S4Vectors’:\n",
      "\n",
      "    first, intersect, rename, setdiff, setequal, union\n",
      "\n",
      "\n",
      "The following objects are masked from ‘package:BiocGenerics’:\n",
      "\n",
      "    combine, intersect, setdiff, union\n",
      "\n",
      "\n",
      "The following objects are masked from ‘package:stats’:\n",
      "\n",
      "    filter, lag\n",
      "\n",
      "\n",
      "The following objects are masked from ‘package:base’:\n",
      "\n",
      "    intersect, setdiff, setequal, union\n",
      "\n",
      "\n",
      "Loading required package: grid\n",
      "\n",
      "========================================\n",
      "ComplexHeatmap version 2.14.0\n",
      "Bioconductor page: http://bioconductor.org/packages/ComplexHeatmap/\n",
      "Github page: https://github.com/jokergoo/ComplexHeatmap\n",
      "Documentation: http://jokergoo.github.io/ComplexHeatmap-reference\n",
      "\n",
      "If you use it in published research, please cite either one:\n",
      "- Gu, Z. Complex Heatmap Visualization. iMeta 2022.\n",
      "- Gu, Z. Complex heatmaps reveal patterns and correlations in multidimensional \n",
      "    genomic data. Bioinformatics 2016.\n",
      "\n",
      "\n",
      "The new InteractiveComplexHeatmap package can directly export static \n",
      "complex heatmaps into an interactive Shiny app with zero effort. Have a try!\n",
      "\n",
      "This message can be suppressed by:\n",
      "  suppressPackageStartupMessages(library(ComplexHeatmap))\n",
      "========================================\n",
      "\n",
      "\n"
     ]
    }
   ],
   "source": [
    "library(circlize)\n",
    "library(rtracklayer)\n",
    "library(dplyr)\n",
    "library(GenomicRanges)\n",
    "library(ComplexHeatmap) ## legend\n",
    "library(stringr)"
   ]
  },
  {
   "cell_type": "markdown",
   "id": "d84681dd",
   "metadata": {},
   "source": [
    "## read hap2 gene te trna gff3 files"
   ]
  },
  {
   "cell_type": "code",
   "execution_count": 2,
   "id": "2c30c26b",
   "metadata": {},
   "outputs": [],
   "source": [
    "# Step 2: Read and Process GFF3 Data\n",
    "# Replace 'gene_annotation.gff3' and 'te_annotation.gff3' with your file paths\n",
    "gene_gff3 <- import(\"hap2_gemoma_final_annotation.gff\") ## only gene rows, grep -v \"^#\" hap1_gemoma_final_annotation.gff > tmp\n",
    "te_gff3 <- import(\"hap2.filteredRepeats.gff\") ## sed -i '' 's/_RagTag//g' *.gff\n",
    "trna_gff3 <- import(\"hap2tRNA.gff3\") ## sed -i '' 's/_RagTag//g' *.gff\n",
    "\n",
    "# Filter for relevant feature types (e.g., \"gene\" and \"transposable_element\")\n",
    "genes <- gene_gff3[gene_gff3$type == \"gene\"] \n",
    "tes <- te_gff3[te_gff3$type != \"Simple_repeat\"]\n",
    "trna <- trna_gff3[trna_gff3$type == \"tRNA\"] \n",
    "\n",
    "gene_bed0 <- genes %>%\n",
    "  as.data.frame() %>%\n",
    "  select(seqnames, start, end, strand, score = NULL, name = NULL) %>%\n",
    "  mutate(score = \".\", name = \".\")\n",
    "te_bed0 <- tes %>%\n",
    "  as.data.frame() %>%\n",
    "  select(seqnames, start, end, strand, score = NULL, name = NULL) %>%\n",
    "  mutate(score = \".\", name = \".\")\n",
    "trna_bed0 <- trna %>%\n",
    "  as.data.frame() %>%\n",
    "  select(seqnames, start, end, strand, score = NULL, name = NULL) %>%\n",
    "  mutate(score = \".\", name = \".\")\n",
    "\n",
    "# Rename columns to match BED format\n",
    "colnames(gene_bed0) <- c(\"chrom\", \"chromStart\", \"chromEnd\", \"strand\", \"score\", \"name\")\n",
    "colnames(te_bed0) <- c(\"chrom\", \"chromStart\", \"chromEnd\", \"strand\", \"score\", \"name\")\n",
    "colnames(trna_bed0) <- c(\"chrom\", \"chromStart\", \"chromEnd\", \"strand\", \"score\", \"name\")\n",
    "\n",
    "# read inferal annotation\n",
    "ncRNA_bed0 <- read.table(\"hap2inferal.bed\", header = FALSE, stringsAsFactors = FALSE)\n",
    "colnames(ncRNA_bed0) <- c(\"chrom\", \"chromStart\", \"chromEnd\", \"strand\", \"score\", \"name\")\n",
    "\n",
    "##remove chrUn\n",
    "hap2gene_bed <- gene_bed0 %>%\n",
    "  filter(chrom != \"chrUn\")\n",
    "hap2te_bed <- te_bed0 %>%\n",
    "  filter(chrom != \"chrUn\")\n",
    "hap2trna_bed <- trna_bed0 %>%\n",
    "  filter(chrom != \"chrUn\")\n",
    "\n",
    "hap2ncRNA_bed <- ncRNA_bed0 %>%\n",
    "  filter(chrom != \"chrUn\")\n",
    "hap2sno_bed <- ncRNA_bed0 %>%\n",
    "  filter(chrom != \"chrUn\" & str_detect(name, \"sno\") )\n",
    "hap2MIR_bed <- ncRNA_bed0 %>%\n",
    "  filter(chrom != \"chrUn\" & str_detect(name, \"MIR\") )\n",
    "\n",
    "## add \".2\" to chromosome names\n",
    "hap2gene_bed$chrom <- paste0(hap2gene_bed$chrom, \".2\")\n",
    "hap2te_bed$chrom <- paste0(hap2te_bed$chrom, \".2\")\n",
    "hap2trna_bed$chrom <- paste0(hap2trna_bed$chrom, \".2\")\n",
    "hap2sno_bed$chrom <- paste0(hap2sno_bed$chrom, \".2\")\n",
    "hap2MIR_bed$chrom <- paste0(hap2MIR_bed$chrom, \".2\")\n"
   ]
  },
  {
   "cell_type": "markdown",
   "id": "2f78725c",
   "metadata": {},
   "source": [
    "## read hap1 gene te trna gff3 files"
   ]
  },
  {
   "cell_type": "code",
   "execution_count": 3,
   "id": "a11045f2",
   "metadata": {},
   "outputs": [],
   "source": [
    "# Step 2: Read and Process GFF3 Data\n",
    "# Replace 'gene_annotation.gff3' and 'te_annotation.gff3' with your file paths\n",
    "gene_gff3 <- import(\"hap1_gemoma_final_annotation.gff\") ## only gene rows, grep -v \"^#\" hap1_gemoma_final_annotation.gff > tmp\n",
    "te_gff3 <- import(\"hap1.filteredRepeats.gff\") ## sed -i '' 's/_RagTag//g' *.gff\n",
    "trna_gff3 <- import(\"hap1tRNA.gff3\") ## sed -i '' 's/_RagTag//g' *.gff\n",
    "\n",
    "\n",
    "# Filter for relevant feature types (e.g., \"gene\" and \"transposable_element\")\n",
    "genes <- gene_gff3[gene_gff3$type == \"gene\"] \n",
    "tes <- te_gff3[te_gff3$type != \"Simple_repeat\"]\n",
    "trna <- trna_gff3[trna_gff3$type == \"tRNA\"] \n",
    "\n",
    "gene_bed0 <- genes %>%\n",
    "  as.data.frame() %>%\n",
    "  select(seqnames, start, end, strand, score = NULL, name = NULL) %>%\n",
    "  mutate(score = \".\", name = \".\")\n",
    "te_bed0 <- tes %>%\n",
    "  as.data.frame() %>%\n",
    "  select(seqnames, start, end, strand, score = NULL, name = NULL) %>%\n",
    "  mutate(score = \".\", name = \".\")\n",
    "trna_bed0 <- trna %>%\n",
    "  as.data.frame() %>%\n",
    "  select(seqnames, start, end, strand, score = NULL, name = NULL) %>%\n",
    "  mutate(score = \".\", name = \".\")\n",
    "\n",
    "# Rename columns to match BED format\n",
    "colnames(gene_bed0) <- c(\"chrom\", \"chromStart\", \"chromEnd\", \"strand\", \"score\", \"name\")\n",
    "colnames(te_bed0) <- c(\"chrom\", \"chromStart\", \"chromEnd\", \"strand\", \"score\", \"name\")\n",
    "colnames(trna_bed0) <- c(\"chrom\", \"chromStart\", \"chromEnd\", \"strand\", \"score\", \"name\")\n",
    "\n",
    "# read inferal annotation\n",
    "ncRNA_bed0 <- read.table(\"hap1inferal.bed\", header = FALSE, stringsAsFactors = FALSE)\n",
    "colnames(ncRNA_bed0) <- c(\"chrom\", \"chromStart\", \"chromEnd\", \"strand\", \"score\", \"name\")\n",
    "\n",
    "##remove chrUn\n",
    "hap1gene_bed <- gene_bed0 %>%\n",
    "  filter(chrom != \"chrUn\")\n",
    "hap1te_bed <- te_bed0 %>%\n",
    "  filter(chrom != \"chrUn\")\n",
    "hap1trna_bed <- trna_bed0 %>%\n",
    "  filter(chrom != \"chrUn\")\n",
    "\n",
    "ncRNA_bed <- ncRNA_bed0 %>%\n",
    "  filter(chrom != \"chrUn\")\n",
    "hap1sno_bed <- ncRNA_bed0 %>%\n",
    "  filter(chrom != \"chrUn\" & str_detect(name, \"sno\") )\n",
    "hap1MIR_bed <- ncRNA_bed0 %>%\n",
    "  filter(chrom != \"chrUn\" & str_detect(name, \"MIR\") )\n",
    "\n",
    "## add \".2\" to chromosome names\n",
    "hap1gene_bed$chrom <- paste0(hap1gene_bed$chrom, \".1\")\n",
    "hap1te_bed$chrom <- paste0(hap1te_bed$chrom, \".1\")\n",
    "hap1trna_bed$chrom <- paste0(hap1trna_bed$chrom, \".1\")\n",
    "hap1sno_bed$chrom <- paste0(hap1sno_bed$chrom, \".1\")\n",
    "hap1MIR_bed$chrom <- paste0(hap1MIR_bed$chrom, \".1\")\n"
   ]
  },
  {
   "cell_type": "markdown",
   "id": "d570ce28",
   "metadata": {},
   "source": [
    "## merge hap2 and hap1 bed files"
   ]
  },
  {
   "cell_type": "code",
   "execution_count": 4,
   "id": "9b0140f8",
   "metadata": {},
   "outputs": [],
   "source": [
    "# Combine dataframes row-wise\n",
    "gene_bed <- rbind(hap1gene_bed, hap2gene_bed)\n",
    "te_bed <- rbind(hap1te_bed, hap2te_bed)\n",
    "trna_bed <- rbind(hap1trna_bed, hap2trna_bed)\n",
    "sno_bed <- rbind(hap1sno_bed, hap2sno_bed)\n",
    "MIR_bed <- rbind(hap1MIR_bed, hap2MIR_bed)"
   ]
  },
  {
   "cell_type": "markdown",
   "id": "967cd169",
   "metadata": {},
   "source": [
    "## sort bed files by chromosomes"
   ]
  },
  {
   "cell_type": "code",
   "execution_count": 5,
   "id": "41dbe54a",
   "metadata": {},
   "outputs": [],
   "source": [
    "# Sort dataframe by 'chrom'\n",
    "gene_bed_sorted <- gene_bed[order(gene_bed$chrom), ]\n",
    "te_bed_sorted <- te_bed[order(te_bed$chrom), ]\n",
    "trna_bed_sorted <- trna_bed[order(trna_bed$chrom), ]\n",
    "sno_bed_sorted <- sno_bed[order(sno_bed$chrom), ]\n",
    "MIR_bed_sorted <- MIR_bed[order(MIR_bed$chrom), ]"
   ]
  },
  {
   "cell_type": "code",
   "execution_count": 6,
   "id": "6705fd05",
   "metadata": {},
   "outputs": [
    {
     "data": {
      "text/html": [
       "<table class=\"dataframe\">\n",
       "<caption>A data.frame: 18 × 3</caption>\n",
       "<thead>\n",
       "\t<tr><th></th><th scope=col>chrom</th><th scope=col>start</th><th scope=col>end</th></tr>\n",
       "\t<tr><th></th><th scope=col>&lt;chr&gt;</th><th scope=col>&lt;int&gt;</th><th scope=col>&lt;int&gt;</th></tr>\n",
       "</thead>\n",
       "<tbody>\n",
       "\t<tr><th scope=row>1</th><td>chr1.1</td><td>1</td><td>29230096</td></tr>\n",
       "\t<tr><th scope=row>10</th><td>chr1.2</td><td>1</td><td>30055869</td></tr>\n",
       "\t<tr><th scope=row>2</th><td>chr2.1</td><td>1</td><td>32432764</td></tr>\n",
       "\t<tr><th scope=row>11</th><td>chr2.2</td><td>1</td><td>34263903</td></tr>\n",
       "\t<tr><th scope=row>3</th><td>chr3.1</td><td>1</td><td>39685618</td></tr>\n",
       "\t<tr><th scope=row>12</th><td>chr3.2</td><td>1</td><td>35932244</td></tr>\n",
       "\t<tr><th scope=row>4</th><td>chr4.1</td><td>1</td><td>29536771</td></tr>\n",
       "\t<tr><th scope=row>13</th><td>chr4.2</td><td>1</td><td>35105441</td></tr>\n",
       "\t<tr><th scope=row>5</th><td>chr5.1</td><td>1</td><td>50348529</td></tr>\n",
       "\t<tr><th scope=row>14</th><td>chr5.2</td><td>1</td><td>49492547</td></tr>\n",
       "\t<tr><th scope=row>6</th><td>chr6.1</td><td>1</td><td>25597666</td></tr>\n",
       "\t<tr><th scope=row>15</th><td>chr6.2</td><td>1</td><td>24992231</td></tr>\n",
       "\t<tr><th scope=row>7</th><td>chr7.1</td><td>1</td><td>29801208</td></tr>\n",
       "\t<tr><th scope=row>16</th><td>chr7.2</td><td>1</td><td>28265273</td></tr>\n",
       "\t<tr><th scope=row>8</th><td>chr8.1</td><td>1</td><td>33751532</td></tr>\n",
       "\t<tr><th scope=row>17</th><td>chr8.2</td><td>1</td><td>30358379</td></tr>\n",
       "\t<tr><th scope=row>9</th><td>chr9.1</td><td>1</td><td>32741774</td></tr>\n",
       "\t<tr><th scope=row>18</th><td>chr9.2</td><td>1</td><td>32954532</td></tr>\n",
       "</tbody>\n",
       "</table>\n"
      ],
      "text/latex": [
       "A data.frame: 18 × 3\n",
       "\\begin{tabular}{r|lll}\n",
       "  & chrom & start & end\\\\\n",
       "  & <chr> & <int> & <int>\\\\\n",
       "\\hline\n",
       "\t1 & chr1.1 & 1 & 29230096\\\\\n",
       "\t10 & chr1.2 & 1 & 30055869\\\\\n",
       "\t2 & chr2.1 & 1 & 32432764\\\\\n",
       "\t11 & chr2.2 & 1 & 34263903\\\\\n",
       "\t3 & chr3.1 & 1 & 39685618\\\\\n",
       "\t12 & chr3.2 & 1 & 35932244\\\\\n",
       "\t4 & chr4.1 & 1 & 29536771\\\\\n",
       "\t13 & chr4.2 & 1 & 35105441\\\\\n",
       "\t5 & chr5.1 & 1 & 50348529\\\\\n",
       "\t14 & chr5.2 & 1 & 49492547\\\\\n",
       "\t6 & chr6.1 & 1 & 25597666\\\\\n",
       "\t15 & chr6.2 & 1 & 24992231\\\\\n",
       "\t7 & chr7.1 & 1 & 29801208\\\\\n",
       "\t16 & chr7.2 & 1 & 28265273\\\\\n",
       "\t8 & chr8.1 & 1 & 33751532\\\\\n",
       "\t17 & chr8.2 & 1 & 30358379\\\\\n",
       "\t9 & chr9.1 & 1 & 32741774\\\\\n",
       "\t18 & chr9.2 & 1 & 32954532\\\\\n",
       "\\end{tabular}\n"
      ],
      "text/markdown": [
       "\n",
       "A data.frame: 18 × 3\n",
       "\n",
       "| <!--/--> | chrom &lt;chr&gt; | start &lt;int&gt; | end &lt;int&gt; |\n",
       "|---|---|---|---|\n",
       "| 1 | chr1.1 | 1 | 29230096 |\n",
       "| 10 | chr1.2 | 1 | 30055869 |\n",
       "| 2 | chr2.1 | 1 | 32432764 |\n",
       "| 11 | chr2.2 | 1 | 34263903 |\n",
       "| 3 | chr3.1 | 1 | 39685618 |\n",
       "| 12 | chr3.2 | 1 | 35932244 |\n",
       "| 4 | chr4.1 | 1 | 29536771 |\n",
       "| 13 | chr4.2 | 1 | 35105441 |\n",
       "| 5 | chr5.1 | 1 | 50348529 |\n",
       "| 14 | chr5.2 | 1 | 49492547 |\n",
       "| 6 | chr6.1 | 1 | 25597666 |\n",
       "| 15 | chr6.2 | 1 | 24992231 |\n",
       "| 7 | chr7.1 | 1 | 29801208 |\n",
       "| 16 | chr7.2 | 1 | 28265273 |\n",
       "| 8 | chr8.1 | 1 | 33751532 |\n",
       "| 17 | chr8.2 | 1 | 30358379 |\n",
       "| 9 | chr9.1 | 1 | 32741774 |\n",
       "| 18 | chr9.2 | 1 | 32954532 |\n",
       "\n"
      ],
      "text/plain": [
       "   chrom  start end     \n",
       "1  chr1.1 1     29230096\n",
       "10 chr1.2 1     30055869\n",
       "2  chr2.1 1     32432764\n",
       "11 chr2.2 1     34263903\n",
       "3  chr3.1 1     39685618\n",
       "12 chr3.2 1     35932244\n",
       "4  chr4.1 1     29536771\n",
       "13 chr4.2 1     35105441\n",
       "5  chr5.1 1     50348529\n",
       "14 chr5.2 1     49492547\n",
       "6  chr6.1 1     25597666\n",
       "15 chr6.2 1     24992231\n",
       "7  chr7.1 1     29801208\n",
       "16 chr7.2 1     28265273\n",
       "8  chr8.1 1     33751532\n",
       "17 chr8.2 1     30358379\n",
       "9  chr9.1 1     32741774\n",
       "18 chr9.2 1     32954532"
      ]
     },
     "metadata": {},
     "output_type": "display_data"
    }
   ],
   "source": [
    "# Read the custom cytoband file\n",
    "## bioawk -c fastx '{print $name\"\\t\"1\"\\t\"length($seq)}' hap1.fasta|sed \"s/_RagTag//\" > hap1.ideogram\n",
    "custom_cytoband1 <- read.table(\"hap1.ideogram\", header = FALSE, stringsAsFactors = FALSE)\n",
    "custom_cytoband2 <- read.table(\"hap2.ideogram\", header = FALSE, stringsAsFactors = FALSE)\n",
    "\n",
    "# Rename columns for clarity\n",
    "colnames(custom_cytoband1) <- c(\"chrom\", \"start\", \"end\")\n",
    "custom_cytoband1$chrom <- paste0(custom_cytoband1$chrom, \".1\")\n",
    "\n",
    "colnames(custom_cytoband2) <- c(\"chrom\", \"start\", \"end\")\n",
    "custom_cytoband2$chrom <- paste0(custom_cytoband2$chrom, \".2\")\n",
    "\n",
    "# merge \n",
    "custom_cytoband <- rbind(custom_cytoband1, custom_cytoband2)\n",
    "# sort\n",
    "custom_cytoband_sorted <- custom_cytoband[order(custom_cytoband$chrom), ]\n",
    "custom_cytoband_sorted"
   ]
  },
  {
   "cell_type": "markdown",
   "id": "370162b9",
   "metadata": {},
   "source": [
    "## read synteny blocks"
   ]
  },
  {
   "cell_type": "code",
   "execution_count": 7,
   "id": "fd659aca",
   "metadata": {},
   "outputs": [],
   "source": [
    "hap2bed1 <- read.table(\"nochrUn_hap2block_bed1\", header = FALSE, stringsAsFactors = FALSE)\n",
    "hap2bed2 <- read.table(\"nochrUn_hap2block_bed2\", header = FALSE, stringsAsFactors = FALSE)\n",
    "# Rename columns for clarity\n",
    "colnames(hap2bed1) <- c(\"chrom\", \"start\", \"end\")\n",
    "colnames(hap2bed2) <- c(\"chrom\", \"start\", \"end\")\n",
    "hap2bed1$chrom <- paste0(hap2bed1$chrom, \".2\")\n",
    "hap2bed2$chrom <- paste0(hap2bed2$chrom, \".2\")\n",
    "\n",
    "hap1bed1 <- read.table(\"hap1_block_bed1\", header = FALSE, stringsAsFactors = FALSE)\n",
    "hap1bed2 <- read.table(\"hap1_block_bed2\", header = FALSE, stringsAsFactors = FALSE)\n",
    "# Rename columns for clarity\n",
    "colnames(hap1bed1) <- c(\"chrom\", \"start\", \"end\")\n",
    "colnames(hap1bed2) <- c(\"chrom\", \"start\", \"end\")\n",
    "hap1bed1$chrom <- paste0(hap1bed1$chrom, \".1\")\n",
    "hap1bed2$chrom <- paste0(hap1bed2$chrom, \".1\")\n",
    "\n",
    "# merge\n",
    "bed1 <- rbind(hap1bed1,hap2bed1)\n",
    "bed2 <- rbind(hap1bed2,hap2bed2)\n"
   ]
  },
  {
   "cell_type": "markdown",
   "id": "9389ddfa",
   "metadata": {},
   "source": [
    "## generate colour for synteny pairs, chr1.1 and chr1.2 have same color"
   ]
  },
  {
   "cell_type": "code",
   "execution_count": 8,
   "id": "536b0e32",
   "metadata": {},
   "outputs": [
    {
     "data": {
      "text/html": [
       "<table class=\"dataframe\">\n",
       "<caption>A data.frame: 6 × 4</caption>\n",
       "<thead>\n",
       "\t<tr><th></th><th scope=col>chrom</th><th scope=col>start</th><th scope=col>end</th><th scope=col>color</th></tr>\n",
       "\t<tr><th></th><th scope=col>&lt;chr&gt;</th><th scope=col>&lt;int&gt;</th><th scope=col>&lt;int&gt;</th><th scope=col>&lt;chr&gt;</th></tr>\n",
       "</thead>\n",
       "<tbody>\n",
       "\t<tr><th scope=row>1</th><td>chr1.1</td><td>16366076</td><td>16823477</td><td>#FF0000</td></tr>\n",
       "\t<tr><th scope=row>2</th><td>chr1.1</td><td> 8568169</td><td> 9235979</td><td>#FF0000</td></tr>\n",
       "\t<tr><th scope=row>3</th><td>chr1.1</td><td>10914359</td><td>10937523</td><td>#FF0000</td></tr>\n",
       "\t<tr><th scope=row>4</th><td>chr1.1</td><td>23423181</td><td>25355157</td><td>#FF0000</td></tr>\n",
       "\t<tr><th scope=row>5</th><td>chr1.1</td><td> 6942371</td><td> 7606901</td><td>#FF0000</td></tr>\n",
       "\t<tr><th scope=row>6</th><td>chr1.1</td><td> 4539909</td><td> 4726481</td><td>#FF0000</td></tr>\n",
       "</tbody>\n",
       "</table>\n"
      ],
      "text/latex": [
       "A data.frame: 6 × 4\n",
       "\\begin{tabular}{r|llll}\n",
       "  & chrom & start & end & color\\\\\n",
       "  & <chr> & <int> & <int> & <chr>\\\\\n",
       "\\hline\n",
       "\t1 & chr1.1 & 16366076 & 16823477 & \\#FF0000\\\\\n",
       "\t2 & chr1.1 &  8568169 &  9235979 & \\#FF0000\\\\\n",
       "\t3 & chr1.1 & 10914359 & 10937523 & \\#FF0000\\\\\n",
       "\t4 & chr1.1 & 23423181 & 25355157 & \\#FF0000\\\\\n",
       "\t5 & chr1.1 &  6942371 &  7606901 & \\#FF0000\\\\\n",
       "\t6 & chr1.1 &  4539909 &  4726481 & \\#FF0000\\\\\n",
       "\\end{tabular}\n"
      ],
      "text/markdown": [
       "\n",
       "A data.frame: 6 × 4\n",
       "\n",
       "| <!--/--> | chrom &lt;chr&gt; | start &lt;int&gt; | end &lt;int&gt; | color &lt;chr&gt; |\n",
       "|---|---|---|---|---|\n",
       "| 1 | chr1.1 | 16366076 | 16823477 | #FF0000 |\n",
       "| 2 | chr1.1 |  8568169 |  9235979 | #FF0000 |\n",
       "| 3 | chr1.1 | 10914359 | 10937523 | #FF0000 |\n",
       "| 4 | chr1.1 | 23423181 | 25355157 | #FF0000 |\n",
       "| 5 | chr1.1 |  6942371 |  7606901 | #FF0000 |\n",
       "| 6 | chr1.1 |  4539909 |  4726481 | #FF0000 |\n",
       "\n"
      ],
      "text/plain": [
       "  chrom  start    end      color  \n",
       "1 chr1.1 16366076 16823477 #FF0000\n",
       "2 chr1.1  8568169  9235979 #FF0000\n",
       "3 chr1.1 10914359 10937523 #FF0000\n",
       "4 chr1.1 23423181 25355157 #FF0000\n",
       "5 chr1.1  6942371  7606901 #FF0000\n",
       "6 chr1.1  4539909  4726481 #FF0000"
      ]
     },
     "metadata": {},
     "output_type": "display_data"
    }
   ],
   "source": [
    "# Step 1: Get unique names and generate colors\n",
    "unique_names1 <- unique(hap1bed1$chrom)\n",
    "colors1 <- rainbow(length(unique_names1))  # Generate colors\n",
    "\n",
    "unique_names2 <- unique(hap2bed1$chrom)\n",
    "colors2 <- rainbow(length(unique_names2))  # Generate colors\n",
    "\n",
    "# Create a dictionary mapping names to colors\n",
    "name_color_dict1 <- setNames(colors1, unique_names1)\n",
    "name_color_dict2 <- setNames(colors2, unique_names2)\n",
    "name_color_dict <- c(name_color_dict1,name_color_dict2)\n",
    "\n",
    "# Step 2: Perform replacement and output color list\n",
    "bed1$color <- name_color_dict[bed1$chrom]  # Map names to colors\n",
    "color_list <- bed1$color  # Output color list\n",
    "head(bed1)"
   ]
  },
  {
   "cell_type": "code",
   "execution_count": null,
   "id": "24cd976e",
   "metadata": {},
   "outputs": [],
   "source": [
    "png(\"merged_circos_sort_chrom.png\", width = 1000, height = 1000)\n",
    "# Initialize the circos plot with the custom ideogram\n",
    "# Set the start angle\n",
    "circos.par(start.degree = 90, gap.after = 0.5, track.margin = c(0,0))\n",
    "circos.initializeWithIdeogram(custom_cytoband_sorted, plotType = NULL)\n",
    "\n",
    "circos.track(ylim = c(0, 1), track.height = 0.05, panel.fun = function(x, y) {\n",
    "    breaks = seq(0, 1e9, by = 5e6)\n",
    "    circos.genomicAxis(major.at = breaks, labels = paste0(breaks/1e6, \"\"), labels.cex = 1)\n",
    "    circos.text(CELL_META$xcenter, CELL_META$ycenter, CELL_META$sector.index, cex=1.5)\n",
    "})\n",
    "\n",
    "# Plot gene density\n",
    "circos.genomicDensity(gene_bed_sorted, col = \"blue\", track.height = 0.1, window.size = 1e6, \n",
    "                      bg.lwd = 0.3 )\n",
    "\n",
    "# Plot te density\n",
    "circos.genomicDensity(te_bed_sorted, col = \"red\", track.height = 0.1, window.size = 1e6,\n",
    "                    bg.lwd = 0.3)\n",
    "\n",
    "# Plot trna density\n",
    "circos.genomicDensity(trna_bed_sorted, col = \"yellowgreen\", track.height = 0.1, window.size = 1e6,\n",
    "                     bg.lwd = 0.3)\n",
    "# circos.genomicDensity(tRNA_bed, col = \"yellowgreen\", track.height = 0.1, window.size = 1e6)\n",
    "\n",
    "# Plot trna density\n",
    "# circos.genomicDensity(rRNA_bed, col = \"yellow2\", track.height = 0.1, window.size = 1e6,\n",
    "#                      bg.col = \"whitesmoke\", bg.lwd = 0.5)\n",
    "\n",
    "# Plot trna density\n",
    "circos.genomicDensity(sno_bed_sorted, col = \"tan2\", track.height = 0.1, window.size = 1e6,\n",
    "                     bg.lwd = 0.3)\n",
    "\n",
    "# Plot trna density\n",
    "circos.genomicDensity(MIR_bed_sorted, col = \"darkorange\", track.height = 0.1, window.size = 1e6,\n",
    "                     bg.lwd = 0.3)\n",
    "\n",
    "# plot mcscan synteny\n",
    "circos.genomicLink(bed1, bed2, col = color_list, border = NA)\n",
    "\n",
    "# text(0, 0, \"Hap2\", cex = 2)\n",
    "\n",
    "circos.clear()\n",
    "# Close the PNG device\n",
    "dev.off()"
   ]
  },
  {
   "cell_type": "code",
   "execution_count": 16,
   "id": "5654c495",
   "metadata": {},
   "outputs": [
    {
     "data": {
      "text/html": [
       "<strong>pdf:</strong> 2"
      ],
      "text/latex": [
       "\\textbf{pdf:} 2"
      ],
      "text/markdown": [
       "**pdf:** 2"
      ],
      "text/plain": [
       "pdf \n",
       "  2 "
      ]
     },
     "metadata": {},
     "output_type": "display_data"
    }
   ],
   "source": [
    "png(\"merged_circos_nosort_chrom.png\", width = 1000, height = 1000)\n",
    "# Initialize the circos plot with the custom ideogram\n",
    "# Set the start angle\n",
    "circos.par(start.degree = 90, gap.after = 0.5, track.margin = c(0,0))\n",
    "circos.initializeWithIdeogram(custom_cytoband, plotType = NULL, sort.chr = FALSE)\n",
    "\n",
    "circos.track(ylim = c(0, 1), track.height = 0.05, panel.fun = function(x, y) {\n",
    "    breaks = seq(0, 1e9, by = 5e6)\n",
    "    circos.genomicAxis(major.at = breaks, labels = paste0(breaks/1e6, \"\"), labels.cex = 1)\n",
    "    circos.text(CELL_META$xcenter, CELL_META$ycenter, CELL_META$sector.index, cex=1.5)\n",
    "})\n",
    "\n",
    "# Plot gene density\n",
    "circos.genomicDensity(gene_bed_sorted, col = \"blue\", track.height = 0.1, window.size = 1e6, \n",
    "                      bg.lwd = 0.3 )\n",
    "\n",
    "# Plot te density\n",
    "circos.genomicDensity(te_bed_sorted, col = \"red\", track.height = 0.1, window.size = 1e6,\n",
    "                      bg.lwd = 0.3)\n",
    "\n",
    "# Plot trna density\n",
    "circos.genomicDensity(trna_bed_sorted, col = \"yellowgreen\", track.height = 0.1, window.size = 1e6,\n",
    "                      bg.lwd = 0.3)\n",
    "# circos.genomicDensity(tRNA_bed, col = \"yellowgreen\", track.height = 0.1, window.size = 1e6)\n",
    "\n",
    "# Plot trna density\n",
    "# circos.genomicDensity(rRNA_bed, col = \"yellow2\", track.height = 0.1, window.size = 1e6,\n",
    "#                      bg.col = \"whitesmoke\", bg.lwd = 0.5)\n",
    "\n",
    "# Plot trna density\n",
    "circos.genomicDensity(sno_bed_sorted, col = \"tan2\", track.height = 0.1, window.size = 1e6,\n",
    "                      bg.lwd = 0.3)\n",
    "\n",
    "# Plot trna density\n",
    "circos.genomicDensity(MIR_bed_sorted, col = \"darkorange\", track.height = 0.1, window.size = 1e6,\n",
    "                      bg.lwd = 1)\n",
    "\n",
    "# plot mcscan synteny\n",
    "circos.genomicLink(bed1, bed2, col = color_list, border=NA) ## border = NA\n",
    "\n",
    "# text(0, 0, \"Hap2\", cex = 2)\n",
    "\n",
    "circos.clear()\n",
    "# Close the PNG device\n",
    "dev.off()"
   ]
  },
  {
   "cell_type": "code",
   "execution_count": 11,
   "id": "3195b38f",
   "metadata": {},
   "outputs": [],
   "source": [
    "?circos.genomicAxis()"
   ]
  },
  {
   "cell_type": "code",
   "execution_count": 35,
   "id": "556d5f9a",
   "metadata": {},
   "outputs": [],
   "source": [
    "?circos.initializeWithIdeogram()"
   ]
  },
  {
   "cell_type": "code",
   "execution_count": 27,
   "id": "5514c9bc",
   "metadata": {
    "scrolled": false
   },
   "outputs": [
    {
     "data": {
      "text/plain": [
       " Option                  Value                \n",
       " -----------------------:-----------------------\n",
       " start.degree            90                   \n",
       " gap.degree              1                    \n",
       " gap.after               1                    \n",
       " track.margin            0, 0.0126088028123338\n",
       " unit.circle.segments    500                  \n",
       " cell.padding            0.02, 0, 0.02, 0     \n",
       " track.height            0.2                  \n",
       " points.overflow.warning TRUE                 \n",
       " circle.margin           0, 0, 0, 0           \n",
       " canvas.xlim             -1, 1                \n",
       " canvas.ylim             -1, 1                \n",
       " major.by.degree         10                   \n",
       " clock.wise              TRUE                 \n",
       " xaxis.clock.wise        TRUE                 \n",
       " message                 TRUE                 \n",
       " help                    TRUE                 "
      ]
     },
     "metadata": {},
     "output_type": "display_data"
    }
   ],
   "source": [
    "circos.par"
   ]
  },
  {
   "cell_type": "code",
   "execution_count": 42,
   "id": "4ea2d305",
   "metadata": {},
   "outputs": [],
   "source": [
    "?circos.trackPlotRegion()"
   ]
  },
  {
   "cell_type": "code",
   "execution_count": 34,
   "id": "b424a60b",
   "metadata": {},
   "outputs": [],
   "source": [
    "?circos.track()"
   ]
  },
  {
   "cell_type": "code",
   "execution_count": 43,
   "id": "064ad041",
   "metadata": {},
   "outputs": [
    {
     "data": {
      "text/html": [
       "1"
      ],
      "text/latex": [
       "1"
      ],
      "text/markdown": [
       "1"
      ],
      "text/plain": [
       "[1] 1"
      ]
     },
     "metadata": {},
     "output_type": "display_data"
    }
   ],
   "source": [
    "par(\"lwd\")"
   ]
  },
  {
   "cell_type": "code",
   "execution_count": 12,
   "id": "f5cdcefa",
   "metadata": {},
   "outputs": [
    {
     "data": {
      "text/html": [
       "<style>\n",
       ".list-inline {list-style: none; margin:0; padding: 0}\n",
       ".list-inline>li {display: inline-block}\n",
       ".list-inline>li:not(:last-child)::after {content: \"\\00b7\"; padding: 0 .5ex}\n",
       "</style>\n",
       "<ol class=list-inline><li>40239</li><li>6</li></ol>\n"
      ],
      "text/latex": [
       "\\begin{enumerate*}\n",
       "\\item 40239\n",
       "\\item 6\n",
       "\\end{enumerate*}\n"
      ],
      "text/markdown": [
       "1. 40239\n",
       "2. 6\n",
       "\n",
       "\n"
      ],
      "text/plain": [
       "[1] 40239     6"
      ]
     },
     "metadata": {},
     "output_type": "display_data"
    }
   ],
   "source": [
    "dim(gene_bed)"
   ]
  },
  {
   "cell_type": "code",
   "execution_count": 13,
   "id": "e557947b",
   "metadata": {},
   "outputs": [
    {
     "data": {
      "text/html": [
       "<style>\n",
       ".list-inline {list-style: none; margin:0; padding: 0}\n",
       ".list-inline>li {display: inline-block}\n",
       ".list-inline>li:not(:last-child)::after {content: \"\\00b7\"; padding: 0 .5ex}\n",
       "</style>\n",
       "<ol class=list-inline><li>199514</li><li>6</li></ol>\n"
      ],
      "text/latex": [
       "\\begin{enumerate*}\n",
       "\\item 199514\n",
       "\\item 6\n",
       "\\end{enumerate*}\n"
      ],
      "text/markdown": [
       "1. 199514\n",
       "2. 6\n",
       "\n",
       "\n"
      ],
      "text/plain": [
       "[1] 199514      6"
      ]
     },
     "metadata": {},
     "output_type": "display_data"
    }
   ],
   "source": [
    "dim(te_bed)"
   ]
  },
  {
   "cell_type": "code",
   "execution_count": 14,
   "id": "de0f3a92",
   "metadata": {},
   "outputs": [
    {
     "data": {
      "text/html": [
       "<style>\n",
       ".list-inline {list-style: none; margin:0; padding: 0}\n",
       ".list-inline>li {display: inline-block}\n",
       ".list-inline>li:not(:last-child)::after {content: \"\\00b7\"; padding: 0 .5ex}\n",
       "</style>\n",
       "<ol class=list-inline><li>428</li><li>6</li></ol>\n"
      ],
      "text/latex": [
       "\\begin{enumerate*}\n",
       "\\item 428\n",
       "\\item 6\n",
       "\\end{enumerate*}\n"
      ],
      "text/markdown": [
       "1. 428\n",
       "2. 6\n",
       "\n",
       "\n"
      ],
      "text/plain": [
       "[1] 428   6"
      ]
     },
     "metadata": {},
     "output_type": "display_data"
    }
   ],
   "source": [
    "dim(trna_bed)"
   ]
  },
  {
   "cell_type": "code",
   "execution_count": 15,
   "id": "3345be1e",
   "metadata": {},
   "outputs": [
    {
     "data": {
      "text/html": [
       "<style>\n",
       ".list-inline {list-style: none; margin:0; padding: 0}\n",
       ".list-inline>li {display: inline-block}\n",
       ".list-inline>li:not(:last-child)::after {content: \"\\00b7\"; padding: 0 .5ex}\n",
       "</style>\n",
       "<ol class=list-inline><li>2771</li><li>6</li></ol>\n"
      ],
      "text/latex": [
       "\\begin{enumerate*}\n",
       "\\item 2771\n",
       "\\item 6\n",
       "\\end{enumerate*}\n"
      ],
      "text/markdown": [
       "1. 2771\n",
       "2. 6\n",
       "\n",
       "\n"
      ],
      "text/plain": [
       "[1] 2771    6"
      ]
     },
     "metadata": {},
     "output_type": "display_data"
    }
   ],
   "source": [
    "dim(ncRNA_bed)"
   ]
  },
  {
   "cell_type": "code",
   "execution_count": 16,
   "id": "c6228296",
   "metadata": {},
   "outputs": [
    {
     "name": "stdout",
     "output_type": "stream",
     "text": [
      "\n",
      "        5_8S_rRNA       5_ureB_sRNA           5S_rRNA            enod40 \n",
      "               72                 1               390                 1 \n",
      "         Histone3        Intron_gpI       Intron_gpII              IsrR \n",
      "                9                 4                18                12 \n",
      "LSU_rRNA_bacteria  LSU_rRNA_eukarya           mir-156           mir-160 \n",
      "               14                79                 3                 4 \n",
      "          mir-166           mir-172           mir-283           mir-393 \n",
      "               11                 7                 2                 3 \n",
      "          mir-395           mir-399            MIR159          MIR162_2 \n",
      "                5                 5                 9                 2 \n",
      "           MIR168          MIR169_2          MIR169_5          MIR171_1 \n",
      "                1                27                23                15 \n",
      "         MIR171_2           MIR2275            MIR319            MIR390 \n",
      "                1                 5                 1                 3 \n",
      "           MIR394            MIR396            MIR397            MIR398 \n",
      "                2                 3                 2                 3 \n",
      "           MIR403            MIR408            MIR473            MIR477 \n",
      "                2                 1                 2                 1 \n",
      "           MIR535         Plant_SRP          Plant_U3         RNase_MRP \n",
      "                3                 4                 3                 1 \n",
      "           snoJ33             snoR1           snoR100           snoR101 \n",
      "                3                 2                 5                 1 \n",
      "          snoR103           snoR104           snoR109            snoR11 \n",
      "                2                 1                 1                 1 \n",
      "          snoR111           snoR113           snoR114           snoR116 \n",
      "                1                 1                 3                 1 \n",
      "          snoR117           snoR118            snoR12           snoR122 \n",
      "                1                 2                 1                 1 \n",
      "          snoR126           snoR128           snoR130           snoR134 \n",
      "                1                 3                 1                 1 \n",
      "          snoR135           snoR136           snoR137           snoR138 \n",
      "                2                 1                 2                 1 \n",
      "           snoR14           snoR143           snoR145            snoR16 \n",
      "                1                 1                 1                 1 \n",
      "          snoR160             snoR2           snoR20a            snoR21 \n",
      "                1                 1                 1                 2 \n",
      "           snoR24            snoR26            snoR27            snoR28 \n",
      "                4                 1                 1                 1 \n",
      "           snoR30            snoR31   snoR31_Z110_Z27        snoR32_R81 \n",
      "                1                 1                 2                 1 \n",
      "           snoR35            snoR38            snoR41        snoR44_J54 \n",
      "                1                 2                 1                 1 \n",
      "          snoR53Y            snoR60            snoR64           snoR64a \n",
      "                2                 2                 1                 1 \n",
      "           snoR66           snoR69Y            snoR71            snoR74 \n",
      "                1                 2              1223                 3 \n",
      "           SNOR75            snoR77           snoR77Y            snoR80 \n",
      "                2                 1                 1                 1 \n",
      "           snoR83            snoR86            snoR8a            snoR97 \n",
      "                3                 1                 1                 1 \n",
      "           snoR98            snoR99           SNORA76           SNORD14 \n",
      "                1                 1                 1                 5 \n",
      "          SNORD18           SNORD24           SNORD25           SNORD33 \n",
      "                1                 2                 2                 1 \n",
      "          SNORD34           SNORD36           SNORD96      snosnR60_Z15 \n",
      "                2                 1                 2                 1 \n",
      "           snoU19            snoU30           snoU31b           snoU36a \n",
      "                2                 6                 4                 2 \n",
      "           snoU49            snoU61            snoU83           snoZ101 \n",
      "                1                 1                 1                 3 \n",
      "      snoZ102_R77           snoZ103       snoZ107_R87           snoZ122 \n",
      "                1                 4                 1                 3 \n",
      "          snoZ152           snoZ155           snoZ157           snoZ159 \n",
      "                1                 1                 1                 3 \n",
      "      snoZ161_228           snoZ162           snoZ196           snoZ199 \n",
      "                1                 1                 2                 1 \n",
      "  snoZ221_snoR21b           snoZ223           snoZ247           snoZ266 \n",
      "                1                 2                32                 1 \n",
      "          snoZ267 snoZ279_R105_R108            snoZ43 SSU_rRNA_bacteria \n",
      "                2                 1                 1                14 \n",
      " SSU_rRNA_eukarya               TPP              tRNA                U1 \n",
      "               79                 1               440                12 \n",
      "              U11               U12                U2                U4 \n",
      "                2                 1                16                 6 \n",
      "               U5               U54                U6            U6atac \n",
      "               13                 1                19                 2 \n"
     ]
    }
   ],
   "source": [
    "name_counts <- table(ncRNA_bed$name)\n",
    "print(name_counts)"
   ]
  },
  {
   "cell_type": "code",
   "execution_count": null,
   "id": "0117a6a7",
   "metadata": {},
   "outputs": [],
   "source": []
  }
 ],
 "metadata": {
  "kernelspec": {
   "display_name": "R",
   "language": "R",
   "name": "ir"
  },
  "language_info": {
   "codemirror_mode": "r",
   "file_extension": ".r",
   "mimetype": "text/x-r-source",
   "name": "R",
   "pygments_lexer": "r",
   "version": "4.2.3"
  }
 },
 "nbformat": 4,
 "nbformat_minor": 5
}
