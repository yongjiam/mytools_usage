{
 "cells": [
  {
   "cell_type": "code",
   "execution_count": 1,
   "id": "d8e95396",
   "metadata": {},
   "outputs": [
    {
     "name": "stderr",
     "output_type": "stream",
     "text": [
      "========================================\n",
      "circlize version 0.4.16\n",
      "CRAN page: https://cran.r-project.org/package=circlize\n",
      "Github page: https://github.com/jokergoo/circlize\n",
      "Documentation: https://jokergoo.github.io/circlize_book/book/\n",
      "\n",
      "If you use it in published research, please cite:\n",
      "Gu, Z. circlize implements and enhances circular visualization\n",
      "  in R. Bioinformatics 2014.\n",
      "\n",
      "This message can be suppressed by:\n",
      "  suppressPackageStartupMessages(library(circlize))\n",
      "========================================\n",
      "\n",
      "\n",
      "Loading required package: GenomicRanges\n",
      "\n",
      "Loading required package: stats4\n",
      "\n",
      "Loading required package: BiocGenerics\n",
      "\n",
      "\n",
      "Attaching package: ‘BiocGenerics’\n",
      "\n",
      "\n",
      "The following objects are masked from ‘package:stats’:\n",
      "\n",
      "    IQR, mad, sd, var, xtabs\n",
      "\n",
      "\n",
      "The following objects are masked from ‘package:base’:\n",
      "\n",
      "    anyDuplicated, aperm, append, as.data.frame, basename, cbind,\n",
      "    colnames, dirname, do.call, duplicated, eval, evalq, Filter, Find,\n",
      "    get, grep, grepl, intersect, is.unsorted, lapply, Map, mapply,\n",
      "    match, mget, order, paste, pmax, pmax.int, pmin, pmin.int,\n",
      "    Position, rank, rbind, Reduce, rownames, sapply, setdiff, sort,\n",
      "    table, tapply, union, unique, unsplit, which.max, which.min\n",
      "\n",
      "\n",
      "Loading required package: S4Vectors\n",
      "\n",
      "\n",
      "Attaching package: ‘S4Vectors’\n",
      "\n",
      "\n",
      "The following objects are masked from ‘package:base’:\n",
      "\n",
      "    expand.grid, I, unname\n",
      "\n",
      "\n",
      "Loading required package: IRanges\n",
      "\n",
      "Loading required package: GenomeInfoDb\n",
      "\n",
      "\n",
      "Attaching package: ‘dplyr’\n",
      "\n",
      "\n",
      "The following objects are masked from ‘package:GenomicRanges’:\n",
      "\n",
      "    intersect, setdiff, union\n",
      "\n",
      "\n",
      "The following object is masked from ‘package:GenomeInfoDb’:\n",
      "\n",
      "    intersect\n",
      "\n",
      "\n",
      "The following objects are masked from ‘package:IRanges’:\n",
      "\n",
      "    collapse, desc, intersect, setdiff, slice, union\n",
      "\n",
      "\n",
      "The following objects are masked from ‘package:S4Vectors’:\n",
      "\n",
      "    first, intersect, rename, setdiff, setequal, union\n",
      "\n",
      "\n",
      "The following objects are masked from ‘package:BiocGenerics’:\n",
      "\n",
      "    combine, intersect, setdiff, union\n",
      "\n",
      "\n",
      "The following objects are masked from ‘package:stats’:\n",
      "\n",
      "    filter, lag\n",
      "\n",
      "\n",
      "The following objects are masked from ‘package:base’:\n",
      "\n",
      "    intersect, setdiff, setequal, union\n",
      "\n",
      "\n"
     ]
    }
   ],
   "source": [
    "library(circlize)\n",
    "library(rtracklayer)\n",
    "library(dplyr)\n",
    "library(GenomicRanges)\n",
    "library(ComplexHeatmap) ## legend"
   ]
  },
  {
   "cell_type": "code",
   "execution_count": 75,
   "id": "505fcc40",
   "metadata": {},
   "outputs": [
    {
     "data": {
      "text/plain": [
       "GRanges object with 6 ranges and 10 metadata columns:\n",
       "      seqnames        ranges strand |   source     type     score     phase\n",
       "         <Rle>     <IRanges>  <Rle> | <factor> <factor> <numeric> <integer>\n",
       "  [1]    chrUn   40256-42129      + |      GAF     gene        NA      <NA>\n",
       "  [2]    chrUn 261019-263210      - |      GAF     gene        NA      <NA>\n",
       "  [3]    chrUn 262205-266549      + |      GAF     gene        NA      <NA>\n",
       "  [4]    chrUn 266656-267240      + |      GAF     gene        NA      <NA>\n",
       "  [5]    chrUn 267500-268043      + |      GAF     gene        NA      <NA>\n",
       "  [6]    chrUn 268106-271419      - |      GAF     gene        NA      <NA>\n",
       "             Name          ID transcripts    complete maxEvidence\n",
       "      <character> <character> <character> <character> <character>\n",
       "  [1]     HY00001  gene_25183           1           1           1\n",
       "  [2]     HY00002  gene_27814           1           1           1\n",
       "  [3]     HY00003  gene_25184           1           1           1\n",
       "  [4]     HY00004  gene_25185           1           1           1\n",
       "  [5]     HY00005  gene_25186           1           1           1\n",
       "  [6]     HY00006  gene_27815           1           1           1\n",
       "      combinedEvidence\n",
       "           <character>\n",
       "  [1]                1\n",
       "  [2]                1\n",
       "  [3]                1\n",
       "  [4]                1\n",
       "  [5]                1\n",
       "  [6]                1\n",
       "  -------\n",
       "  seqinfo: 10 sequences from an unspecified genome; no seqlengths"
      ]
     },
     "metadata": {},
     "output_type": "display_data"
    }
   ],
   "source": [
    "head(gene_gff3)"
   ]
  },
  {
   "cell_type": "code",
   "execution_count": 93,
   "id": "2c30c26b",
   "metadata": {},
   "outputs": [],
   "source": [
    "# Step 2: Read and Process GFF3 Data\n",
    "# Replace 'gene_annotation.gff3' and 'te_annotation.gff3' with your file paths\n",
    "gene_gff3 <- import(\"hap1_gemoma_final_annotation.gff\") ## only gene rows, grep -v \"^#\" hap1_gemoma_final_annotation.gff > tmp\n",
    "te_gff3 <- import(\"hap1.filteredRepeats.gff\") ## sed -i '' 's/_RagTag//g' *.gff\n",
    "\n",
    "# Filter for relevant feature types (e.g., \"gene\" and \"transposable_element\")\n",
    "genes <- gene_gff3[gene_gff3$type == \"gene\"] \n",
    "tes <- te_gff3[te_gff3$type != \"Simple_repeat\"]\n",
    "\n",
    "gene_bed0 <- genes %>%\n",
    "  as.data.frame() %>%\n",
    "  select(seqnames, start, end, strand, score = NULL, name = NULL) %>%\n",
    "  mutate(score = \".\", name = \".\")\n",
    "te_bed0 <- tes %>%\n",
    "  as.data.frame() %>%\n",
    "  select(seqnames, start, end, strand, score = NULL, name = NULL) %>%\n",
    "  mutate(score = \".\", name = \".\")\n",
    "\n",
    "# Rename columns to match BED format\n",
    "colnames(gene_bed0) <- c(\"chrom\", \"chromStart\", \"chromEnd\", \"strand\", \"score\", \"name\")\n",
    "colnames(te_bed0) <- c(\"chrom\", \"chromStart\", \"chromEnd\", \"strand\", \"score\", \"name\")\n",
    "\n",
    "##remove chrUn\n",
    "gene_bed <- gene_bed0 %>%\n",
    "  filter(chrom != \"chrUn\")\n",
    "te_bed <- te_bed0 %>%\n",
    "  filter(chrom != \"chrUn\")\n"
   ]
  },
  {
   "cell_type": "code",
   "execution_count": 80,
   "id": "6705fd05",
   "metadata": {},
   "outputs": [
    {
     "data": {
      "text/html": [
       "<table class=\"dataframe\">\n",
       "<caption>A data.frame: 9 × 3</caption>\n",
       "<thead>\n",
       "\t<tr><th scope=col>chr</th><th scope=col>start</th><th scope=col>end</th></tr>\n",
       "\t<tr><th scope=col>&lt;chr&gt;</th><th scope=col>&lt;int&gt;</th><th scope=col>&lt;int&gt;</th></tr>\n",
       "</thead>\n",
       "<tbody>\n",
       "\t<tr><td>chr1</td><td>1</td><td>29230096</td></tr>\n",
       "\t<tr><td>chr2</td><td>1</td><td>32432764</td></tr>\n",
       "\t<tr><td>chr3</td><td>1</td><td>39685618</td></tr>\n",
       "\t<tr><td>chr4</td><td>1</td><td>29536771</td></tr>\n",
       "\t<tr><td>chr5</td><td>1</td><td>50348529</td></tr>\n",
       "\t<tr><td>chr6</td><td>1</td><td>25597666</td></tr>\n",
       "\t<tr><td>chr7</td><td>1</td><td>29801208</td></tr>\n",
       "\t<tr><td>chr8</td><td>1</td><td>33751532</td></tr>\n",
       "\t<tr><td>chr9</td><td>1</td><td>32741774</td></tr>\n",
       "</tbody>\n",
       "</table>\n"
      ],
      "text/latex": [
       "A data.frame: 9 × 3\n",
       "\\begin{tabular}{lll}\n",
       " chr & start & end\\\\\n",
       " <chr> & <int> & <int>\\\\\n",
       "\\hline\n",
       "\t chr1 & 1 & 29230096\\\\\n",
       "\t chr2 & 1 & 32432764\\\\\n",
       "\t chr3 & 1 & 39685618\\\\\n",
       "\t chr4 & 1 & 29536771\\\\\n",
       "\t chr5 & 1 & 50348529\\\\\n",
       "\t chr6 & 1 & 25597666\\\\\n",
       "\t chr7 & 1 & 29801208\\\\\n",
       "\t chr8 & 1 & 33751532\\\\\n",
       "\t chr9 & 1 & 32741774\\\\\n",
       "\\end{tabular}\n"
      ],
      "text/markdown": [
       "\n",
       "A data.frame: 9 × 3\n",
       "\n",
       "| chr &lt;chr&gt; | start &lt;int&gt; | end &lt;int&gt; |\n",
       "|---|---|---|\n",
       "| chr1 | 1 | 29230096 |\n",
       "| chr2 | 1 | 32432764 |\n",
       "| chr3 | 1 | 39685618 |\n",
       "| chr4 | 1 | 29536771 |\n",
       "| chr5 | 1 | 50348529 |\n",
       "| chr6 | 1 | 25597666 |\n",
       "| chr7 | 1 | 29801208 |\n",
       "| chr8 | 1 | 33751532 |\n",
       "| chr9 | 1 | 32741774 |\n",
       "\n"
      ],
      "text/plain": [
       "  chr  start end     \n",
       "1 chr1 1     29230096\n",
       "2 chr2 1     32432764\n",
       "3 chr3 1     39685618\n",
       "4 chr4 1     29536771\n",
       "5 chr5 1     50348529\n",
       "6 chr6 1     25597666\n",
       "7 chr7 1     29801208\n",
       "8 chr8 1     33751532\n",
       "9 chr9 1     32741774"
      ]
     },
     "metadata": {},
     "output_type": "display_data"
    }
   ],
   "source": [
    "# Read the custom cytoband file\n",
    "## bioawk -c fastx '{print $name\"\\t\"1\"\\t\"length($seq)}' hap1.fasta|sed \"s/_RagTag//\" > hap1.ideogram\n",
    "custom_cytoband <- read.table(\"hap1.ideogram\", header = FALSE, stringsAsFactors = FALSE)\n",
    "\n",
    "# Rename columns for clarity\n",
    "colnames(custom_cytoband) <- c(\"chr\", \"start\", \"end\")\n",
    "custom_cytoband"
   ]
  },
  {
   "cell_type": "code",
   "execution_count": 28,
   "id": "31c1ce86",
   "metadata": {},
   "outputs": [
    {
     "data": {
      "text/html": [
       "<table class=\"dataframe\">\n",
       "<caption>A data.frame: 6 × 4</caption>\n",
       "<thead>\n",
       "\t<tr><th></th><th scope=col>chr</th><th scope=col>start</th><th scope=col>end</th><th scope=col>value1</th></tr>\n",
       "\t<tr><th></th><th scope=col>&lt;chr&gt;</th><th scope=col>&lt;int&gt;</th><th scope=col>&lt;int&gt;</th><th scope=col>&lt;dbl&gt;</th></tr>\n",
       "</thead>\n",
       "<tbody>\n",
       "\t<tr><th scope=row>41</th><td>chr6 </td><td>102324459</td><td>147617643</td><td>-0.5041883</td></tr>\n",
       "\t<tr><th scope=row>89</th><td>chr17</td><td> 65167455</td><td> 77619820</td><td>-0.1026496</td></tr>\n",
       "\t<tr><th scope=row>63</th><td>chr11</td><td> 13366995</td><td> 32331617</td><td> 0.4248215</td></tr>\n",
       "\t<tr><th scope=row>49</th><td>chr8 </td><td> 93343457</td><td> 96256710</td><td> 0.6562065</td></tr>\n",
       "\t<tr><th scope=row>85</th><td>chr16</td><td> 64403195</td><td> 65047798</td><td> 0.0496638</td></tr>\n",
       "\t<tr><th scope=row>69</th><td>chr12</td><td> 70708714</td><td> 82785147</td><td> 0.5841919</td></tr>\n",
       "</tbody>\n",
       "</table>\n"
      ],
      "text/latex": [
       "A data.frame: 6 × 4\n",
       "\\begin{tabular}{r|llll}\n",
       "  & chr & start & end & value1\\\\\n",
       "  & <chr> & <int> & <int> & <dbl>\\\\\n",
       "\\hline\n",
       "\t41 & chr6  & 102324459 & 147617643 & -0.5041883\\\\\n",
       "\t89 & chr17 &  65167455 &  77619820 & -0.1026496\\\\\n",
       "\t63 & chr11 &  13366995 &  32331617 &  0.4248215\\\\\n",
       "\t49 & chr8  &  93343457 &  96256710 &  0.6562065\\\\\n",
       "\t85 & chr16 &  64403195 &  65047798 &  0.0496638\\\\\n",
       "\t69 & chr12 &  70708714 &  82785147 &  0.5841919\\\\\n",
       "\\end{tabular}\n"
      ],
      "text/markdown": [
       "\n",
       "A data.frame: 6 × 4\n",
       "\n",
       "| <!--/--> | chr &lt;chr&gt; | start &lt;int&gt; | end &lt;int&gt; | value1 &lt;dbl&gt; |\n",
       "|---|---|---|---|---|\n",
       "| 41 | chr6  | 102324459 | 147617643 | -0.5041883 |\n",
       "| 89 | chr17 |  65167455 |  77619820 | -0.1026496 |\n",
       "| 63 | chr11 |  13366995 |  32331617 |  0.4248215 |\n",
       "| 49 | chr8  |  93343457 |  96256710 |  0.6562065 |\n",
       "| 85 | chr16 |  64403195 |  65047798 |  0.0496638 |\n",
       "| 69 | chr12 |  70708714 |  82785147 |  0.5841919 |\n",
       "\n"
      ],
      "text/plain": [
       "   chr   start     end       value1    \n",
       "41 chr6  102324459 147617643 -0.5041883\n",
       "89 chr17  65167455  77619820 -0.1026496\n",
       "63 chr11  13366995  32331617  0.4248215\n",
       "49 chr8   93343457  96256710  0.6562065\n",
       "85 chr16  64403195  65047798  0.0496638\n",
       "69 chr12  70708714  82785147  0.5841919"
      ]
     },
     "metadata": {},
     "output_type": "display_data"
    }
   ],
   "source": [
    "set.seed(123)\n",
    "bed1 = generateRandomBed(nr = 100)\n",
    "bed1 = bed1[sample(nrow(bed1), 20), ]\n",
    "bed2 = generateRandomBed(nr = 100)\n",
    "bed2 = bed2[sample(nrow(bed2), 20), ]\n",
    "\n",
    "head(bed1)"
   ]
  },
  {
   "cell_type": "code",
   "execution_count": 81,
   "id": "fd659aca",
   "metadata": {},
   "outputs": [
    {
     "data": {
      "text/html": [
       "<table class=\"dataframe\">\n",
       "<caption>A data.frame: 6 × 3</caption>\n",
       "<thead>\n",
       "\t<tr><th></th><th scope=col>chr</th><th scope=col>start</th><th scope=col>end</th></tr>\n",
       "\t<tr><th></th><th scope=col>&lt;chr&gt;</th><th scope=col>&lt;int&gt;</th><th scope=col>&lt;int&gt;</th></tr>\n",
       "</thead>\n",
       "<tbody>\n",
       "\t<tr><th scope=row>1</th><td>chr1</td><td>16366076</td><td>16823477</td></tr>\n",
       "\t<tr><th scope=row>2</th><td>chr1</td><td> 8568169</td><td> 9235979</td></tr>\n",
       "\t<tr><th scope=row>3</th><td>chr1</td><td>10914359</td><td>10937523</td></tr>\n",
       "\t<tr><th scope=row>4</th><td>chr1</td><td>23423181</td><td>25355157</td></tr>\n",
       "\t<tr><th scope=row>5</th><td>chr1</td><td> 6942371</td><td> 7606901</td></tr>\n",
       "\t<tr><th scope=row>6</th><td>chr1</td><td> 4539909</td><td> 4726481</td></tr>\n",
       "</tbody>\n",
       "</table>\n"
      ],
      "text/latex": [
       "A data.frame: 6 × 3\n",
       "\\begin{tabular}{r|lll}\n",
       "  & chr & start & end\\\\\n",
       "  & <chr> & <int> & <int>\\\\\n",
       "\\hline\n",
       "\t1 & chr1 & 16366076 & 16823477\\\\\n",
       "\t2 & chr1 &  8568169 &  9235979\\\\\n",
       "\t3 & chr1 & 10914359 & 10937523\\\\\n",
       "\t4 & chr1 & 23423181 & 25355157\\\\\n",
       "\t5 & chr1 &  6942371 &  7606901\\\\\n",
       "\t6 & chr1 &  4539909 &  4726481\\\\\n",
       "\\end{tabular}\n"
      ],
      "text/markdown": [
       "\n",
       "A data.frame: 6 × 3\n",
       "\n",
       "| <!--/--> | chr &lt;chr&gt; | start &lt;int&gt; | end &lt;int&gt; |\n",
       "|---|---|---|---|\n",
       "| 1 | chr1 | 16366076 | 16823477 |\n",
       "| 2 | chr1 |  8568169 |  9235979 |\n",
       "| 3 | chr1 | 10914359 | 10937523 |\n",
       "| 4 | chr1 | 23423181 | 25355157 |\n",
       "| 5 | chr1 |  6942371 |  7606901 |\n",
       "| 6 | chr1 |  4539909 |  4726481 |\n",
       "\n"
      ],
      "text/plain": [
       "  chr  start    end     \n",
       "1 chr1 16366076 16823477\n",
       "2 chr1  8568169  9235979\n",
       "3 chr1 10914359 10937523\n",
       "4 chr1 23423181 25355157\n",
       "5 chr1  6942371  7606901\n",
       "6 chr1  4539909  4726481"
      ]
     },
     "metadata": {},
     "output_type": "display_data"
    }
   ],
   "source": [
    "bed1 <- read.table(\"block_bed1\", header = FALSE, stringsAsFactors = FALSE)\n",
    "bed2 <- read.table(\"block_bed2\", header = FALSE, stringsAsFactors = FALSE)\n",
    "# Rename columns for clarity\n",
    "colnames(bed1) <- c(\"chr\", \"start\", \"end\")\n",
    "colnames(bed1) <- c(\"chr\", \"start\", \"end\")\n",
    "head(bed1)"
   ]
  },
  {
   "cell_type": "code",
   "execution_count": 82,
   "id": "1a87fd94",
   "metadata": {},
   "outputs": [
    {
     "data": {
      "text/html": [
       "<table class=\"dataframe\">\n",
       "<caption>A data.frame: 6 × 4</caption>\n",
       "<thead>\n",
       "\t<tr><th></th><th scope=col>chr</th><th scope=col>start</th><th scope=col>end</th><th scope=col>color</th></tr>\n",
       "\t<tr><th></th><th scope=col>&lt;chr&gt;</th><th scope=col>&lt;int&gt;</th><th scope=col>&lt;int&gt;</th><th scope=col>&lt;chr&gt;</th></tr>\n",
       "</thead>\n",
       "<tbody>\n",
       "\t<tr><th scope=row>1</th><td>chr1</td><td>16366076</td><td>16823477</td><td>#FF0000</td></tr>\n",
       "\t<tr><th scope=row>2</th><td>chr1</td><td> 8568169</td><td> 9235979</td><td>#FF0000</td></tr>\n",
       "\t<tr><th scope=row>3</th><td>chr1</td><td>10914359</td><td>10937523</td><td>#FF0000</td></tr>\n",
       "\t<tr><th scope=row>4</th><td>chr1</td><td>23423181</td><td>25355157</td><td>#FF0000</td></tr>\n",
       "\t<tr><th scope=row>5</th><td>chr1</td><td> 6942371</td><td> 7606901</td><td>#FF0000</td></tr>\n",
       "\t<tr><th scope=row>6</th><td>chr1</td><td> 4539909</td><td> 4726481</td><td>#FF0000</td></tr>\n",
       "</tbody>\n",
       "</table>\n"
      ],
      "text/latex": [
       "A data.frame: 6 × 4\n",
       "\\begin{tabular}{r|llll}\n",
       "  & chr & start & end & color\\\\\n",
       "  & <chr> & <int> & <int> & <chr>\\\\\n",
       "\\hline\n",
       "\t1 & chr1 & 16366076 & 16823477 & \\#FF0000\\\\\n",
       "\t2 & chr1 &  8568169 &  9235979 & \\#FF0000\\\\\n",
       "\t3 & chr1 & 10914359 & 10937523 & \\#FF0000\\\\\n",
       "\t4 & chr1 & 23423181 & 25355157 & \\#FF0000\\\\\n",
       "\t5 & chr1 &  6942371 &  7606901 & \\#FF0000\\\\\n",
       "\t6 & chr1 &  4539909 &  4726481 & \\#FF0000\\\\\n",
       "\\end{tabular}\n"
      ],
      "text/markdown": [
       "\n",
       "A data.frame: 6 × 4\n",
       "\n",
       "| <!--/--> | chr &lt;chr&gt; | start &lt;int&gt; | end &lt;int&gt; | color &lt;chr&gt; |\n",
       "|---|---|---|---|---|\n",
       "| 1 | chr1 | 16366076 | 16823477 | #FF0000 |\n",
       "| 2 | chr1 |  8568169 |  9235979 | #FF0000 |\n",
       "| 3 | chr1 | 10914359 | 10937523 | #FF0000 |\n",
       "| 4 | chr1 | 23423181 | 25355157 | #FF0000 |\n",
       "| 5 | chr1 |  6942371 |  7606901 | #FF0000 |\n",
       "| 6 | chr1 |  4539909 |  4726481 | #FF0000 |\n",
       "\n"
      ],
      "text/plain": [
       "  chr  start    end      color  \n",
       "1 chr1 16366076 16823477 #FF0000\n",
       "2 chr1  8568169  9235979 #FF0000\n",
       "3 chr1 10914359 10937523 #FF0000\n",
       "4 chr1 23423181 25355157 #FF0000\n",
       "5 chr1  6942371  7606901 #FF0000\n",
       "6 chr1  4539909  4726481 #FF0000"
      ]
     },
     "metadata": {},
     "output_type": "display_data"
    }
   ],
   "source": [
    "# Step 1: Get unique names and generate colors\n",
    "unique_names <- unique(bed1$chr)\n",
    "colors <- rainbow(length(unique_names))  # Generate colors\n",
    "\n",
    "# Create a dictionary mapping names to colors\n",
    "name_color_dict <- setNames(colors, unique_names)\n",
    "\n",
    "# Step 2: Perform replacement and output color list\n",
    "bed1$color <- name_color_dict[bed1$chr]  # Map names to colors\n",
    "color_list <- bed1$color  # Output color list\n",
    "head(bed1)"
   ]
  },
  {
   "cell_type": "code",
   "execution_count": 83,
   "id": "bc978708",
   "metadata": {},
   "outputs": [
    {
     "data": {
      "text/html": [
       "240"
      ],
      "text/latex": [
       "240"
      ],
      "text/markdown": [
       "240"
      ],
      "text/plain": [
       "[1] 240"
      ]
     },
     "metadata": {},
     "output_type": "display_data"
    }
   ],
   "source": [
    "nrow(bed1)"
   ]
  },
  {
   "cell_type": "code",
   "execution_count": 84,
   "id": "6659acec",
   "metadata": {},
   "outputs": [
    {
     "data": {
      "text/html": [
       "240"
      ],
      "text/latex": [
       "240"
      ],
      "text/markdown": [
       "240"
      ],
      "text/plain": [
       "[1] 240"
      ]
     },
     "metadata": {},
     "output_type": "display_data"
    }
   ],
   "source": [
    "length(color_list)"
   ]
  },
  {
   "cell_type": "code",
   "execution_count": 58,
   "id": "b0a0fb4d",
   "metadata": {},
   "outputs": [
    {
     "data": {
      "text/html": [
       "<strong>pdf:</strong> 2"
      ],
      "text/latex": [
       "\\textbf{pdf:} 2"
      ],
      "text/markdown": [
       "**pdf:** 2"
      ],
      "text/plain": [
       "pdf \n",
       "  2 "
      ]
     },
     "metadata": {},
     "output_type": "display_data"
    }
   ],
   "source": [
    "png(\"circos_plot.png\", width = 1000, height = 1000)\n",
    "par(lwd = 3)\n",
    "# Initialize the circos plot with the custom ideogram\n",
    "circos.genomicInitialize(custom_cytoband, cex = 2)\n",
    "circos.genomicAxis(labels.cex = 2) #https://github.com/jokergoo/circlize/issues/79\n",
    "\n",
    "# Plot gene density\n",
    "circos.genomicDensity(gene_bed, col = \"blue\", track.height = 0.1, window.size = 1e6)\n",
    "\n",
    "# Plot te density\n",
    "circos.genomicDensity(te_bed, col = \"red\", track.height = 0.1, window.size = 1e6)\n",
    "\n",
    "# plot mcscan synteny\n",
    "circos.genomicLink(bed1, bed2, col = color_list, border = NA)\n",
    "\n",
    "\n",
    "## discrete legend\n",
    "# lgd_points = Legend(at = c(\"gene\", \"TE\"), type = \"lines\", \n",
    "#     legend_gp = gpar(col = 2:3), title_position = \"topcenter\", title = \"Density\")\n",
    "# draw(lgd_points, x = unit(2, \"mm\"), y = unit(4, \"mm\"), \n",
    "#     just = c(\"right\", \"bottom\"))\n",
    "\n",
    "# Clear circos plot\n",
    "\n",
    "circos.clear()\n",
    "# Close the PNG device\n",
    "dev.off()"
   ]
  },
  {
   "cell_type": "code",
   "execution_count": 107,
   "id": "3ed6d4da",
   "metadata": {},
   "outputs": [
    {
     "data": {
      "text/html": [
       "<table class=\"dataframe\">\n",
       "<caption>A data.frame: 6 × 3</caption>\n",
       "<thead>\n",
       "\t<tr><th></th><th scope=col>chr</th><th scope=col>start</th><th scope=col>end</th></tr>\n",
       "\t<tr><th></th><th scope=col>&lt;chr&gt;</th><th scope=col>&lt;int&gt;</th><th scope=col>&lt;int&gt;</th></tr>\n",
       "</thead>\n",
       "<tbody>\n",
       "\t<tr><th scope=row>1</th><td>chr1</td><td>1</td><td>29230096</td></tr>\n",
       "\t<tr><th scope=row>2</th><td>chr2</td><td>1</td><td>32432764</td></tr>\n",
       "\t<tr><th scope=row>3</th><td>chr3</td><td>1</td><td>39685618</td></tr>\n",
       "\t<tr><th scope=row>4</th><td>chr4</td><td>1</td><td>29536771</td></tr>\n",
       "\t<tr><th scope=row>5</th><td>chr5</td><td>1</td><td>50348529</td></tr>\n",
       "\t<tr><th scope=row>6</th><td>chr6</td><td>1</td><td>25597666</td></tr>\n",
       "</tbody>\n",
       "</table>\n"
      ],
      "text/latex": [
       "A data.frame: 6 × 3\n",
       "\\begin{tabular}{r|lll}\n",
       "  & chr & start & end\\\\\n",
       "  & <chr> & <int> & <int>\\\\\n",
       "\\hline\n",
       "\t1 & chr1 & 1 & 29230096\\\\\n",
       "\t2 & chr2 & 1 & 32432764\\\\\n",
       "\t3 & chr3 & 1 & 39685618\\\\\n",
       "\t4 & chr4 & 1 & 29536771\\\\\n",
       "\t5 & chr5 & 1 & 50348529\\\\\n",
       "\t6 & chr6 & 1 & 25597666\\\\\n",
       "\\end{tabular}\n"
      ],
      "text/markdown": [
       "\n",
       "A data.frame: 6 × 3\n",
       "\n",
       "| <!--/--> | chr &lt;chr&gt; | start &lt;int&gt; | end &lt;int&gt; |\n",
       "|---|---|---|---|\n",
       "| 1 | chr1 | 1 | 29230096 |\n",
       "| 2 | chr2 | 1 | 32432764 |\n",
       "| 3 | chr3 | 1 | 39685618 |\n",
       "| 4 | chr4 | 1 | 29536771 |\n",
       "| 5 | chr5 | 1 | 50348529 |\n",
       "| 6 | chr6 | 1 | 25597666 |\n",
       "\n"
      ],
      "text/plain": [
       "  chr  start end     \n",
       "1 chr1 1     29230096\n",
       "2 chr2 1     32432764\n",
       "3 chr3 1     39685618\n",
       "4 chr4 1     29536771\n",
       "5 chr5 1     50348529\n",
       "6 chr6 1     25597666"
      ]
     },
     "metadata": {},
     "output_type": "display_data"
    }
   ],
   "source": [
    "head(custom_cytoband)"
   ]
  },
  {
   "cell_type": "code",
   "execution_count": 121,
   "id": "3e6bfe65",
   "metadata": {},
   "outputs": [
    {
     "ename": "ERROR",
     "evalue": "Error in circos.axis(h = h, major.at = major.at, labels = major.tick.labels, : unused argument (tick.length = 0.01)\n",
     "output_type": "error",
     "traceback": [
      "Error in circos.axis(h = h, major.at = major.at, labels = major.tick.labels, : unused argument (tick.length = 0.01)\nTraceback:\n",
      "1. circos.track(ylim = c(0, 1), track.height = 0.1, panel.fun = function(x, \n .     y) {\n .     breaks = seq(0, 1e+09, by = 5e+06)\n .     circos.genomicAxis(major.at = breaks, labels = paste0(breaks/1e+06, \n .         \"\"), labels.cex = 1, tick.length = 0.01)\n .     circos.text(CELL_META$xcenter, CELL_META$ycenter, CELL_META$sector.index, \n .         cex = 2)\n . })",
      "2. circos.trackPlotRegion(...)",
      "3. panel.fun(nx, ny)",
      "4. circos.genomicAxis(major.at = breaks, labels = paste0(breaks/1e+06, \n .     \"\"), labels.cex = 1, tick.length = 0.01)   # at line 9 of file <text>"
     ]
    }
   ],
   "source": [
    "png(\"circos_plot_test.png\", width = 1000, height = 1000)\n",
    "# Initialize the circos plot with the custom ideogram\n",
    "# Set the start angle\n",
    "circos.par(start.degree = 90)\n",
    "circos.initializeWithIdeogram(custom_cytoband, plotType = NULL)\n",
    "\n",
    "circos.track(ylim = c(0, 1), track.height = 0.1, panel.fun = function(x, y) {\n",
    "    breaks = seq(0, 1e9, by = 5e6)\n",
    "    circos.genomicAxis(major.at = breaks, labels = paste0(breaks/1e6, \"\"), labels.cex = 1, tick.length = 0.01)\n",
    "    circos.text(CELL_META$xcenter, CELL_META$ycenter, CELL_META$sector.index, cex=2)\n",
    "})\n",
    "\n",
    "\n",
    "# Plot gene density\n",
    "circos.genomicDensity(gene_bed, col = \"blue\", track.height = 0.15, window.size = 1e6)\n",
    "\n",
    "# Plot te density\n",
    "circos.genomicDensity(te_bed, col = \"red\", track.height = 0.15, window.size = 1e6)\n",
    "\n",
    "# plot mcscan synteny\n",
    "circos.genomicLink(bed1, bed2, col = color_list, border = NA)\n",
    "\n",
    "text(0, 0, \"Hap1\", cex = 2)\n",
    "\n",
    "circos.clear()\n",
    "# Close the PNG device\n",
    "dev.off()"
   ]
  },
  {
   "cell_type": "code",
   "execution_count": 119,
   "id": "a76c7b8e",
   "metadata": {},
   "outputs": [],
   "source": [
    "?circos.genomicAxis()"
   ]
  },
  {
   "cell_type": "code",
   "execution_count": 26,
   "id": "f20f7f15",
   "metadata": {},
   "outputs": [
    {
     "data": {
      "text/html": [
       "<style>\n",
       ".list-inline {list-style: none; margin:0; padding: 0}\n",
       ".list-inline>li {display: inline-block}\n",
       ".list-inline>li:not(:last-child)::after {content: \"\\00b7\"; padding: 0 .5ex}\n",
       "</style>\n",
       "<ol class=list-inline><li>'xlim'</li><li>'ylim'</li><li>'xrange'</li><li>'yrange'</li><li>'xcenter'</li><li>'ycenter'</li><li>'cell.xlim'</li><li>'cell.ylim'</li><li>'sector.numeric.index'</li><li>'sector.index'</li><li>'track.index'</li><li>'xplot'</li><li>'yplot'</li><li>'cell.width'</li><li>'cell.height'</li><li>'track.margin'</li><li>'cell.padding'</li><li>'cell.start.degree'</li><li>'cell.end.degree'</li><li>'cell.bottom.radius'</li><li>'cell.top.radius'</li><li>'bg.col'</li><li>'bg.border'</li><li>'bg.lty'</li><li>'bg.lwd'</li><li>'track.height'</li></ol>\n"
      ],
      "text/latex": [
       "\\begin{enumerate*}\n",
       "\\item 'xlim'\n",
       "\\item 'ylim'\n",
       "\\item 'xrange'\n",
       "\\item 'yrange'\n",
       "\\item 'xcenter'\n",
       "\\item 'ycenter'\n",
       "\\item 'cell.xlim'\n",
       "\\item 'cell.ylim'\n",
       "\\item 'sector.numeric.index'\n",
       "\\item 'sector.index'\n",
       "\\item 'track.index'\n",
       "\\item 'xplot'\n",
       "\\item 'yplot'\n",
       "\\item 'cell.width'\n",
       "\\item 'cell.height'\n",
       "\\item 'track.margin'\n",
       "\\item 'cell.padding'\n",
       "\\item 'cell.start.degree'\n",
       "\\item 'cell.end.degree'\n",
       "\\item 'cell.bottom.radius'\n",
       "\\item 'cell.top.radius'\n",
       "\\item 'bg.col'\n",
       "\\item 'bg.border'\n",
       "\\item 'bg.lty'\n",
       "\\item 'bg.lwd'\n",
       "\\item 'track.height'\n",
       "\\end{enumerate*}\n"
      ],
      "text/markdown": [
       "1. 'xlim'\n",
       "2. 'ylim'\n",
       "3. 'xrange'\n",
       "4. 'yrange'\n",
       "5. 'xcenter'\n",
       "6. 'ycenter'\n",
       "7. 'cell.xlim'\n",
       "8. 'cell.ylim'\n",
       "9. 'sector.numeric.index'\n",
       "10. 'sector.index'\n",
       "11. 'track.index'\n",
       "12. 'xplot'\n",
       "13. 'yplot'\n",
       "14. 'cell.width'\n",
       "15. 'cell.height'\n",
       "16. 'track.margin'\n",
       "17. 'cell.padding'\n",
       "18. 'cell.start.degree'\n",
       "19. 'cell.end.degree'\n",
       "20. 'cell.bottom.radius'\n",
       "21. 'cell.top.radius'\n",
       "22. 'bg.col'\n",
       "23. 'bg.border'\n",
       "24. 'bg.lty'\n",
       "25. 'bg.lwd'\n",
       "26. 'track.height'\n",
       "\n",
       "\n"
      ],
      "text/plain": [
       " [1] \"xlim\"                 \"ylim\"                 \"xrange\"              \n",
       " [4] \"yrange\"               \"xcenter\"              \"ycenter\"             \n",
       " [7] \"cell.xlim\"            \"cell.ylim\"            \"sector.numeric.index\"\n",
       "[10] \"sector.index\"         \"track.index\"          \"xplot\"               \n",
       "[13] \"yplot\"                \"cell.width\"           \"cell.height\"         \n",
       "[16] \"track.margin\"         \"cell.padding\"         \"cell.start.degree\"   \n",
       "[19] \"cell.end.degree\"      \"cell.bottom.radius\"   \"cell.top.radius\"     \n",
       "[22] \"bg.col\"               \"bg.border\"            \"bg.lty\"              \n",
       "[25] \"bg.lwd\"               \"track.height\"        "
      ]
     },
     "metadata": {},
     "output_type": "display_data"
    }
   ],
   "source": [
    "names(CELL_META)"
   ]
  },
  {
   "cell_type": "code",
   "execution_count": 106,
   "id": "2d20b60a",
   "metadata": {},
   "outputs": [
    {
     "data": {
      "text/html": [
       "<style>\n",
       ".list-inline {list-style: none; margin:0; padding: 0}\n",
       ".list-inline>li {display: inline-block}\n",
       ".list-inline>li:not(:last-child)::after {content: \"\\00b7\"; padding: 0 .5ex}\n",
       "</style>\n",
       "<ol class=list-inline><li>'xlim'</li><li>'ylim'</li><li>'xrange'</li><li>'yrange'</li><li>'xcenter'</li><li>'ycenter'</li><li>'cell.xlim'</li><li>'cell.ylim'</li><li>'sector.numeric.index'</li><li>'sector.index'</li><li>'track.index'</li><li>'xplot'</li><li>'yplot'</li><li>'cell.width'</li><li>'cell.height'</li><li>'track.margin'</li><li>'cell.padding'</li><li>'cell.start.degree'</li><li>'cell.end.degree'</li><li>'cell.bottom.radius'</li><li>'cell.top.radius'</li><li>'bg.col'</li><li>'bg.border'</li><li>'bg.lty'</li><li>'bg.lwd'</li><li>'track.height'</li></ol>\n"
      ],
      "text/latex": [
       "\\begin{enumerate*}\n",
       "\\item 'xlim'\n",
       "\\item 'ylim'\n",
       "\\item 'xrange'\n",
       "\\item 'yrange'\n",
       "\\item 'xcenter'\n",
       "\\item 'ycenter'\n",
       "\\item 'cell.xlim'\n",
       "\\item 'cell.ylim'\n",
       "\\item 'sector.numeric.index'\n",
       "\\item 'sector.index'\n",
       "\\item 'track.index'\n",
       "\\item 'xplot'\n",
       "\\item 'yplot'\n",
       "\\item 'cell.width'\n",
       "\\item 'cell.height'\n",
       "\\item 'track.margin'\n",
       "\\item 'cell.padding'\n",
       "\\item 'cell.start.degree'\n",
       "\\item 'cell.end.degree'\n",
       "\\item 'cell.bottom.radius'\n",
       "\\item 'cell.top.radius'\n",
       "\\item 'bg.col'\n",
       "\\item 'bg.border'\n",
       "\\item 'bg.lty'\n",
       "\\item 'bg.lwd'\n",
       "\\item 'track.height'\n",
       "\\end{enumerate*}\n"
      ],
      "text/markdown": [
       "1. 'xlim'\n",
       "2. 'ylim'\n",
       "3. 'xrange'\n",
       "4. 'yrange'\n",
       "5. 'xcenter'\n",
       "6. 'ycenter'\n",
       "7. 'cell.xlim'\n",
       "8. 'cell.ylim'\n",
       "9. 'sector.numeric.index'\n",
       "10. 'sector.index'\n",
       "11. 'track.index'\n",
       "12. 'xplot'\n",
       "13. 'yplot'\n",
       "14. 'cell.width'\n",
       "15. 'cell.height'\n",
       "16. 'track.margin'\n",
       "17. 'cell.padding'\n",
       "18. 'cell.start.degree'\n",
       "19. 'cell.end.degree'\n",
       "20. 'cell.bottom.radius'\n",
       "21. 'cell.top.radius'\n",
       "22. 'bg.col'\n",
       "23. 'bg.border'\n",
       "24. 'bg.lty'\n",
       "25. 'bg.lwd'\n",
       "26. 'track.height'\n",
       "\n",
       "\n"
      ],
      "text/plain": [
       " [1] \"xlim\"                 \"ylim\"                 \"xrange\"              \n",
       " [4] \"yrange\"               \"xcenter\"              \"ycenter\"             \n",
       " [7] \"cell.xlim\"            \"cell.ylim\"            \"sector.numeric.index\"\n",
       "[10] \"sector.index\"         \"track.index\"          \"xplot\"               \n",
       "[13] \"yplot\"                \"cell.width\"           \"cell.height\"         \n",
       "[16] \"track.margin\"         \"cell.padding\"         \"cell.start.degree\"   \n",
       "[19] \"cell.end.degree\"      \"cell.bottom.radius\"   \"cell.top.radius\"     \n",
       "[22] \"bg.col\"               \"bg.border\"            \"bg.lty\"              \n",
       "[25] \"bg.lwd\"               \"track.height\"        "
      ]
     },
     "metadata": {},
     "output_type": "display_data"
    }
   ],
   "source": [
    "names(CELL_META)"
   ]
  },
  {
   "cell_type": "code",
   "execution_count": 25,
   "id": "43c002da",
   "metadata": {},
   "outputs": [
    {
     "data": {
      "text/plain": [
       "Please use in a form of `CELL_META$name` where `name` should be\n",
       "supported in `get.cell.meta.data()`. Type `names(CELL_META)` for\n",
       "supported names. "
      ]
     },
     "metadata": {},
     "output_type": "display_data"
    },
    {
     "data": {
      "image/png": "[encoded data removed]",
      "text/plain": [
       "plot without title"
      ]
     },
     "metadata": {
      "image/png": {
       "height": 420,
       "width": 420
      }
     },
     "output_type": "display_data"
    }
   ],
   "source": [
    "circos.genomicInitialize(custom_cytoband)\n",
    "CELL_META"
   ]
  },
  {
   "cell_type": "code",
   "execution_count": 11,
   "id": "cc64b6c0",
   "metadata": {},
   "outputs": [
    {
     "data": {
      "text/plain": [
       " Option                  Value           \n",
       " -----------------------:------------------\n",
       " start.degree            0               \n",
       " gap.degree              1               \n",
       " gap.after               1               \n",
       " track.margin            0.01, 0.01      \n",
       " unit.circle.segments    500             \n",
       " cell.padding            0.02, 1, 0.02, 1\n",
       " track.height            0.2             \n",
       " points.overflow.warning TRUE            \n",
       " circle.margin           0, 0, 0, 0      \n",
       " canvas.xlim             -1, 1           \n",
       " canvas.ylim             -1, 1           \n",
       " major.by.degree         10              \n",
       " clock.wise              TRUE            \n",
       " xaxis.clock.wise        TRUE            \n",
       " message                 TRUE            \n",
       " help                    TRUE            "
      ]
     },
     "metadata": {},
     "output_type": "display_data"
    }
   ],
   "source": [
    "circos.par"
   ]
  },
  {
   "cell_type": "code",
   "execution_count": null,
   "id": "f5cdcefa",
   "metadata": {},
   "outputs": [],
   "source": []
  }
 ],
 "metadata": {
  "kernelspec": {
   "display_name": "R",
   "language": "R",
   "name": "ir"
  },
  "language_info": {
   "codemirror_mode": "r",
   "file_extension": ".r",
   "mimetype": "text/x-r-source",
   "name": "R",
   "pygments_lexer": "r",
   "version": "4.2.3"
  }
 },
 "nbformat": 4,
 "nbformat_minor": 5
}
