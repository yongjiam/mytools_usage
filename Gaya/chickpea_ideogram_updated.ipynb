{
 "cells": [
  {
   "cell_type": "code",
   "execution_count": 1,
   "id": "987b44be",
   "metadata": {
    "scrolled": false
   },
   "outputs": [
    {
     "name": "stderr",
     "output_type": "stream",
     "text": [
      "========================================\n",
      "circlize version 0.4.16\n",
      "CRAN page: https://cran.r-project.org/package=circlize\n",
      "Github page: https://github.com/jokergoo/circlize\n",
      "Documentation: https://jokergoo.github.io/circlize_book/book/\n",
      "\n",
      "If you use it in published research, please cite:\n",
      "Gu, Z. circlize implements and enhances circular visualization\n",
      "  in R. Bioinformatics 2014.\n",
      "\n",
      "This message can be suppressed by:\n",
      "  suppressPackageStartupMessages(library(circlize))\n",
      "========================================\n",
      "\n",
      "\n",
      "Loading required package: GenomicRanges\n",
      "\n",
      "Loading required package: stats4\n",
      "\n",
      "Loading required package: BiocGenerics\n",
      "\n",
      "\n",
      "Attaching package: ‘BiocGenerics’\n",
      "\n",
      "\n",
      "The following objects are masked from ‘package:stats’:\n",
      "\n",
      "    IQR, mad, sd, var, xtabs\n",
      "\n",
      "\n",
      "The following objects are masked from ‘package:base’:\n",
      "\n",
      "    anyDuplicated, aperm, append, as.data.frame, basename, cbind,\n",
      "    colnames, dirname, do.call, duplicated, eval, evalq, Filter, Find,\n",
      "    get, grep, grepl, intersect, is.unsorted, lapply, Map, mapply,\n",
      "    match, mget, order, paste, pmax, pmax.int, pmin, pmin.int,\n",
      "    Position, rank, rbind, Reduce, rownames, sapply, setdiff, sort,\n",
      "    table, tapply, union, unique, unsplit, which.max, which.min\n",
      "\n",
      "\n",
      "Loading required package: S4Vectors\n",
      "\n",
      "\n",
      "Attaching package: ‘S4Vectors’\n",
      "\n",
      "\n",
      "The following objects are masked from ‘package:base’:\n",
      "\n",
      "    expand.grid, I, unname\n",
      "\n",
      "\n",
      "Loading required package: IRanges\n",
      "\n",
      "Loading required package: GenomeInfoDb\n",
      "\n",
      "\n",
      "Attaching package: ‘dplyr’\n",
      "\n",
      "\n",
      "The following objects are masked from ‘package:GenomicRanges’:\n",
      "\n",
      "    intersect, setdiff, union\n",
      "\n",
      "\n",
      "The following object is masked from ‘package:GenomeInfoDb’:\n",
      "\n",
      "    intersect\n",
      "\n",
      "\n",
      "The following objects are masked from ‘package:IRanges’:\n",
      "\n",
      "    collapse, desc, intersect, setdiff, slice, union\n",
      "\n",
      "\n",
      "The following objects are masked from ‘package:S4Vectors’:\n",
      "\n",
      "    first, intersect, rename, setdiff, setequal, union\n",
      "\n",
      "\n",
      "The following objects are masked from ‘package:BiocGenerics’:\n",
      "\n",
      "    combine, intersect, setdiff, union\n",
      "\n",
      "\n",
      "The following objects are masked from ‘package:stats’:\n",
      "\n",
      "    filter, lag\n",
      "\n",
      "\n",
      "The following objects are masked from ‘package:base’:\n",
      "\n",
      "    intersect, setdiff, setequal, union\n",
      "\n",
      "\n",
      "Loading required package: grid\n",
      "\n",
      "========================================\n",
      "ComplexHeatmap version 2.14.0\n",
      "Bioconductor page: http://bioconductor.org/packages/ComplexHeatmap/\n",
      "Github page: https://github.com/jokergoo/ComplexHeatmap\n",
      "Documentation: http://jokergoo.github.io/ComplexHeatmap-reference\n",
      "\n",
      "If you use it in published research, please cite either one:\n",
      "- Gu, Z. Complex Heatmap Visualization. iMeta 2022.\n",
      "- Gu, Z. Complex heatmaps reveal patterns and correlations in multidimensional \n",
      "    genomic data. Bioinformatics 2016.\n",
      "\n",
      "\n",
      "The new InteractiveComplexHeatmap package can directly export static \n",
      "complex heatmaps into an interactive Shiny app with zero effort. Have a try!\n",
      "\n",
      "This message can be suppressed by:\n",
      "  suppressPackageStartupMessages(library(ComplexHeatmap))\n",
      "========================================\n",
      "\n",
      "\n"
     ]
    }
   ],
   "source": [
    "library(circlize)\n",
    "library(rtracklayer)\n",
    "library(dplyr)\n",
    "library(GenomicRanges)\n",
    "library(ComplexHeatmap) ## legend"
   ]
  },
  {
   "cell_type": "code",
   "execution_count": 2,
   "id": "18a17a7b",
   "metadata": {},
   "outputs": [
    {
     "data": {
      "text/html": [
       "<table class=\"dataframe\">\n",
       "<caption>A data.frame: 8 × 3</caption>\n",
       "<thead>\n",
       "\t<tr><th scope=col>chr</th><th scope=col>start</th><th scope=col>end</th></tr>\n",
       "\t<tr><th scope=col>&lt;chr&gt;</th><th scope=col>&lt;int&gt;</th><th scope=col>&lt;int&gt;</th></tr>\n",
       "</thead>\n",
       "<tbody>\n",
       "\t<tr><td>ca1</td><td>1</td><td>48359943</td></tr>\n",
       "\t<tr><td>ca2</td><td>1</td><td>36634854</td></tr>\n",
       "\t<tr><td>ca3</td><td>1</td><td>39989001</td></tr>\n",
       "\t<tr><td>ca4</td><td>1</td><td>49191682</td></tr>\n",
       "\t<tr><td>ca5</td><td>1</td><td>48169137</td></tr>\n",
       "\t<tr><td>ca6</td><td>1</td><td>59463898</td></tr>\n",
       "\t<tr><td>ca7</td><td>1</td><td>48961560</td></tr>\n",
       "\t<tr><td>ca8</td><td>1</td><td>16477302</td></tr>\n",
       "</tbody>\n",
       "</table>\n"
      ],
      "text/latex": [
       "A data.frame: 8 × 3\n",
       "\\begin{tabular}{lll}\n",
       " chr & start & end\\\\\n",
       " <chr> & <int> & <int>\\\\\n",
       "\\hline\n",
       "\t ca1 & 1 & 48359943\\\\\n",
       "\t ca2 & 1 & 36634854\\\\\n",
       "\t ca3 & 1 & 39989001\\\\\n",
       "\t ca4 & 1 & 49191682\\\\\n",
       "\t ca5 & 1 & 48169137\\\\\n",
       "\t ca6 & 1 & 59463898\\\\\n",
       "\t ca7 & 1 & 48961560\\\\\n",
       "\t ca8 & 1 & 16477302\\\\\n",
       "\\end{tabular}\n"
      ],
      "text/markdown": [
       "\n",
       "A data.frame: 8 × 3\n",
       "\n",
       "| chr &lt;chr&gt; | start &lt;int&gt; | end &lt;int&gt; |\n",
       "|---|---|---|\n",
       "| ca1 | 1 | 48359943 |\n",
       "| ca2 | 1 | 36634854 |\n",
       "| ca3 | 1 | 39989001 |\n",
       "| ca4 | 1 | 49191682 |\n",
       "| ca5 | 1 | 48169137 |\n",
       "| ca6 | 1 | 59463898 |\n",
       "| ca7 | 1 | 48961560 |\n",
       "| ca8 | 1 | 16477302 |\n",
       "\n"
      ],
      "text/plain": [
       "  chr start end     \n",
       "1 ca1 1     48359943\n",
       "2 ca2 1     36634854\n",
       "3 ca3 1     39989001\n",
       "4 ca4 1     49191682\n",
       "5 ca5 1     48169137\n",
       "6 ca6 1     59463898\n",
       "7 ca7 1     48961560\n",
       "8 ca8 1     16477302"
      ]
     },
     "metadata": {},
     "output_type": "display_data"
    }
   ],
   "source": [
    "# Read the custom cytoband file\n",
    "## bioawk -c fastx '{print $name\"\\t\"1\"\\t\"length($seq)}' hap1.fasta|sed \"s/_RagTag//\" > hap1.ideogram\n",
    "custom_cytoband <- read.table(\"chickpea.ideogram\", header = FALSE, stringsAsFactors = FALSE)\n",
    "\n",
    "# Rename columns for clarity\n",
    "colnames(custom_cytoband) <- c(\"chr\", \"start\", \"end\")\n",
    "custom_cytoband"
   ]
  },
  {
   "cell_type": "code",
   "execution_count": 3,
   "id": "d8186953",
   "metadata": {},
   "outputs": [],
   "source": [
    "# Load necessary library\n",
    "library(readr)"
   ]
  },
  {
   "cell_type": "code",
   "execution_count": 6,
   "id": "4f756257",
   "metadata": {},
   "outputs": [
    {
     "name": "stderr",
     "output_type": "stream",
     "text": [
      "\u001b[1mRows: \u001b[22m\u001b[34m8\u001b[39m \u001b[1mColumns: \u001b[22m\u001b[34m4\u001b[39m\n",
      "\u001b[36m──\u001b[39m \u001b[1mColumn specification\u001b[22m \u001b[36m────────────────────────────────────────────────────────────────────────────────────────────────────────────────────────────────────────────────────────────────────────────────────────────────────────────────────────────────────────────────────────\u001b[39m\n",
      "\u001b[1mDelimiter:\u001b[22m \"\\t\"\n",
      "\u001b[31mchr\u001b[39m (3): X1, X2, X3\n",
      "\u001b[32mdbl\u001b[39m (1): X4\n",
      "\n",
      "\u001b[36mℹ\u001b[39m Use `spec()` to retrieve the full column specification for this data.\n",
      "\u001b[36mℹ\u001b[39m Specify the column types or set `show_col_types = FALSE` to quiet this message.\n"
     ]
    }
   ],
   "source": [
    "# Read the tab-delimited file into a table\n",
    "qtl_file <- \"qtl_markers.txt\"\n",
    "qtl_table <- read_delim(qtl_file, delim = \"\\t\", col_names = FALSE)\n",
    "\n",
    "# Convert the third column into a list of strings\n",
    "qtl_chromosomes <- as.character(qtl_table[[3]])\n",
    "qtl_positions <- as.numeric(qtl_table[[4]])\n",
    "qtl_labels <- as.character(qtl_table[[1]])\n"
   ]
  },
  {
   "cell_type": "code",
   "execution_count": 7,
   "id": "23a1ba33",
   "metadata": {},
   "outputs": [
    {
     "data": {
      "text/html": [
       "<table class=\"dataframe\">\n",
       "<caption>A spec_tbl_df: 8 × 4</caption>\n",
       "<thead>\n",
       "\t<tr><th scope=col>X1</th><th scope=col>X2</th><th scope=col>X3</th><th scope=col>X4</th></tr>\n",
       "\t<tr><th scope=col>&lt;chr&gt;</th><th scope=col>&lt;chr&gt;</th><th scope=col>&lt;chr&gt;</th><th scope=col>&lt;dbl&gt;</th></tr>\n",
       "</thead>\n",
       "<tbody>\n",
       "\t<tr><td>CaAlt1-1</td><td>AVR-Ca-00482.01-000775606</td><td>ca1</td><td>  775606</td></tr>\n",
       "\t<tr><td>CaAlt3-1</td><td>AVR-Ca-01157.03-006626764</td><td>ca3</td><td> 6626764</td></tr>\n",
       "\t<tr><td>CaAlt4-1</td><td>AVR-Ca-01677.04-031071748</td><td>ca4</td><td>31071748</td></tr>\n",
       "\t<tr><td>CaAlt4-2</td><td>AVR-Ca-02085.04-045196212</td><td>ca4</td><td>45196212</td></tr>\n",
       "\t<tr><td>CaAlt5-1</td><td>AVR-Ca-02222.05-013946920</td><td>ca5</td><td>13946920</td></tr>\n",
       "\t<tr><td>CaAlt6-1</td><td>AVR-Ca-03067.06-035734304</td><td>ca6</td><td>35734304</td></tr>\n",
       "\t<tr><td>CaAlt7-1</td><td>AVR-Ca-04258.07-004969265</td><td>ca7</td><td> 4969265</td></tr>\n",
       "\t<tr><td>CaAlt7-2</td><td>AVR-Ca-04113.07-037532769</td><td>ca7</td><td>37532769</td></tr>\n",
       "</tbody>\n",
       "</table>\n"
      ],
      "text/latex": [
       "A spec\\_tbl\\_df: 8 × 4\n",
       "\\begin{tabular}{llll}\n",
       " X1 & X2 & X3 & X4\\\\\n",
       " <chr> & <chr> & <chr> & <dbl>\\\\\n",
       "\\hline\n",
       "\t CaAlt1-1 & AVR-Ca-00482.01-000775606 & ca1 &   775606\\\\\n",
       "\t CaAlt3-1 & AVR-Ca-01157.03-006626764 & ca3 &  6626764\\\\\n",
       "\t CaAlt4-1 & AVR-Ca-01677.04-031071748 & ca4 & 31071748\\\\\n",
       "\t CaAlt4-2 & AVR-Ca-02085.04-045196212 & ca4 & 45196212\\\\\n",
       "\t CaAlt5-1 & AVR-Ca-02222.05-013946920 & ca5 & 13946920\\\\\n",
       "\t CaAlt6-1 & AVR-Ca-03067.06-035734304 & ca6 & 35734304\\\\\n",
       "\t CaAlt7-1 & AVR-Ca-04258.07-004969265 & ca7 &  4969265\\\\\n",
       "\t CaAlt7-2 & AVR-Ca-04113.07-037532769 & ca7 & 37532769\\\\\n",
       "\\end{tabular}\n"
      ],
      "text/markdown": [
       "\n",
       "A spec_tbl_df: 8 × 4\n",
       "\n",
       "| X1 &lt;chr&gt; | X2 &lt;chr&gt; | X3 &lt;chr&gt; | X4 &lt;dbl&gt; |\n",
       "|---|---|---|---|\n",
       "| CaAlt1-1 | AVR-Ca-00482.01-000775606 | ca1 |   775606 |\n",
       "| CaAlt3-1 | AVR-Ca-01157.03-006626764 | ca3 |  6626764 |\n",
       "| CaAlt4-1 | AVR-Ca-01677.04-031071748 | ca4 | 31071748 |\n",
       "| CaAlt4-2 | AVR-Ca-02085.04-045196212 | ca4 | 45196212 |\n",
       "| CaAlt5-1 | AVR-Ca-02222.05-013946920 | ca5 | 13946920 |\n",
       "| CaAlt6-1 | AVR-Ca-03067.06-035734304 | ca6 | 35734304 |\n",
       "| CaAlt7-1 | AVR-Ca-04258.07-004969265 | ca7 |  4969265 |\n",
       "| CaAlt7-2 | AVR-Ca-04113.07-037532769 | ca7 | 37532769 |\n",
       "\n"
      ],
      "text/plain": [
       "  X1       X2                        X3  X4      \n",
       "1 CaAlt1-1 AVR-Ca-00482.01-000775606 ca1   775606\n",
       "2 CaAlt3-1 AVR-Ca-01157.03-006626764 ca3  6626764\n",
       "3 CaAlt4-1 AVR-Ca-01677.04-031071748 ca4 31071748\n",
       "4 CaAlt4-2 AVR-Ca-02085.04-045196212 ca4 45196212\n",
       "5 CaAlt5-1 AVR-Ca-02222.05-013946920 ca5 13946920\n",
       "6 CaAlt6-1 AVR-Ca-03067.06-035734304 ca6 35734304\n",
       "7 CaAlt7-1 AVR-Ca-04258.07-004969265 ca7  4969265\n",
       "8 CaAlt7-2 AVR-Ca-04113.07-037532769 ca7 37532769"
      ]
     },
     "metadata": {},
     "output_type": "display_data"
    }
   ],
   "source": [
    "qtl_table"
   ]
  },
  {
   "cell_type": "code",
   "execution_count": 56,
   "id": "76849049",
   "metadata": {},
   "outputs": [
    {
     "data": {
      "text/html": [
       "<style>\n",
       ".list-inline {list-style: none; margin:0; padding: 0}\n",
       ".list-inline>li {display: inline-block}\n",
       ".list-inline>li:not(:last-child)::after {content: \"\\00b7\"; padding: 0 .5ex}\n",
       "</style>\n",
       "<ol class=list-inline><li>'ID=gene-LOC101490635'</li><li>'ID=gene-LOC101499513'</li><li>'ID=gene-LOC101497446'</li><li>'ID=gene-LOC101498100'</li><li>'ID=gene-LOC101498100'</li><li>'ID=gene-LOC101497782'</li><li>'ID=gene-LOC101506667'</li><li>'ID=gene-LOC101507327'</li><li>'ID=gene-LOC101496905'</li><li>'ID=gene-LOC101493885'</li><li>'ID=gene-LOC101494212'</li><li>'ID=gene-LOC101506246'</li><li>'ID=gene-LOC101513987'</li><li>'ID=gene-LOC101495525'</li><li>'ID=gene-LOC101505977'</li><li>'ID=gene-LOC101488282'</li><li>'ID=gene-LOC101490040'</li><li>'ID=gene-LOC101490040'</li><li>'ID=gene-LOC101489402'</li><li>'ID=gene-LOC101489402'</li><li>'ID=gene-LOC101515427'</li><li>'ID=gene-LOC101509284'</li><li>'ID=gene-LOC101499791'</li><li>'ID=gene-LOC101509308'</li><li>'ID=gene-LOC101491258'</li><li>'ID=gene-LOC101491258'</li><li>'ID=gene-LOC101489317'</li><li>'ID=gene-LOC101495795'</li><li>'ID=gene-LOC101515446'</li><li>'ID=gene-LOC101515446'</li><li>'ID=gene-LOC101493863'</li><li>'ID=gene-LOC101510069'</li><li>'ID=gene-LOC101514601'</li><li>'ID=gene-LOC101514932'</li><li>'ID=gene-LOC101515259'</li><li>'ID=gene-LOC101505909'</li><li>'ID=gene-LOC101508803'</li><li>'ID=gene-LOC101514527'</li><li>'ID=gene-LOC101494238'</li><li>'ID=gene-LOC101506246'</li><li>'ID=gene-LOC101499812'</li><li>'ID=gene-LOC101515278'</li><li>'ID=gene-LOC101498100'</li><li>'ID=gene-LOC101499812'</li><li>'ID=gene-LOC101498870'</li><li>'ID=gene-LOC101490040'</li><li>'ID=gene-LOC101499191'</li></ol>\n"
      ],
      "text/latex": [
       "\\begin{enumerate*}\n",
       "\\item 'ID=gene-LOC101490635'\n",
       "\\item 'ID=gene-LOC101499513'\n",
       "\\item 'ID=gene-LOC101497446'\n",
       "\\item 'ID=gene-LOC101498100'\n",
       "\\item 'ID=gene-LOC101498100'\n",
       "\\item 'ID=gene-LOC101497782'\n",
       "\\item 'ID=gene-LOC101506667'\n",
       "\\item 'ID=gene-LOC101507327'\n",
       "\\item 'ID=gene-LOC101496905'\n",
       "\\item 'ID=gene-LOC101493885'\n",
       "\\item 'ID=gene-LOC101494212'\n",
       "\\item 'ID=gene-LOC101506246'\n",
       "\\item 'ID=gene-LOC101513987'\n",
       "\\item 'ID=gene-LOC101495525'\n",
       "\\item 'ID=gene-LOC101505977'\n",
       "\\item 'ID=gene-LOC101488282'\n",
       "\\item 'ID=gene-LOC101490040'\n",
       "\\item 'ID=gene-LOC101490040'\n",
       "\\item 'ID=gene-LOC101489402'\n",
       "\\item 'ID=gene-LOC101489402'\n",
       "\\item 'ID=gene-LOC101515427'\n",
       "\\item 'ID=gene-LOC101509284'\n",
       "\\item 'ID=gene-LOC101499791'\n",
       "\\item 'ID=gene-LOC101509308'\n",
       "\\item 'ID=gene-LOC101491258'\n",
       "\\item 'ID=gene-LOC101491258'\n",
       "\\item 'ID=gene-LOC101489317'\n",
       "\\item 'ID=gene-LOC101495795'\n",
       "\\item 'ID=gene-LOC101515446'\n",
       "\\item 'ID=gene-LOC101515446'\n",
       "\\item 'ID=gene-LOC101493863'\n",
       "\\item 'ID=gene-LOC101510069'\n",
       "\\item 'ID=gene-LOC101514601'\n",
       "\\item 'ID=gene-LOC101514932'\n",
       "\\item 'ID=gene-LOC101515259'\n",
       "\\item 'ID=gene-LOC101505909'\n",
       "\\item 'ID=gene-LOC101508803'\n",
       "\\item 'ID=gene-LOC101514527'\n",
       "\\item 'ID=gene-LOC101494238'\n",
       "\\item 'ID=gene-LOC101506246'\n",
       "\\item 'ID=gene-LOC101499812'\n",
       "\\item 'ID=gene-LOC101515278'\n",
       "\\item 'ID=gene-LOC101498100'\n",
       "\\item 'ID=gene-LOC101499812'\n",
       "\\item 'ID=gene-LOC101498870'\n",
       "\\item 'ID=gene-LOC101490040'\n",
       "\\item 'ID=gene-LOC101499191'\n",
       "\\end{enumerate*}\n"
      ],
      "text/markdown": [
       "1. 'ID=gene-LOC101490635'\n",
       "2. 'ID=gene-LOC101499513'\n",
       "3. 'ID=gene-LOC101497446'\n",
       "4. 'ID=gene-LOC101498100'\n",
       "5. 'ID=gene-LOC101498100'\n",
       "6. 'ID=gene-LOC101497782'\n",
       "7. 'ID=gene-LOC101506667'\n",
       "8. 'ID=gene-LOC101507327'\n",
       "9. 'ID=gene-LOC101496905'\n",
       "10. 'ID=gene-LOC101493885'\n",
       "11. 'ID=gene-LOC101494212'\n",
       "12. 'ID=gene-LOC101506246'\n",
       "13. 'ID=gene-LOC101513987'\n",
       "14. 'ID=gene-LOC101495525'\n",
       "15. 'ID=gene-LOC101505977'\n",
       "16. 'ID=gene-LOC101488282'\n",
       "17. 'ID=gene-LOC101490040'\n",
       "18. 'ID=gene-LOC101490040'\n",
       "19. 'ID=gene-LOC101489402'\n",
       "20. 'ID=gene-LOC101489402'\n",
       "21. 'ID=gene-LOC101515427'\n",
       "22. 'ID=gene-LOC101509284'\n",
       "23. 'ID=gene-LOC101499791'\n",
       "24. 'ID=gene-LOC101509308'\n",
       "25. 'ID=gene-LOC101491258'\n",
       "26. 'ID=gene-LOC101491258'\n",
       "27. 'ID=gene-LOC101489317'\n",
       "28. 'ID=gene-LOC101495795'\n",
       "29. 'ID=gene-LOC101515446'\n",
       "30. 'ID=gene-LOC101515446'\n",
       "31. 'ID=gene-LOC101493863'\n",
       "32. 'ID=gene-LOC101510069'\n",
       "33. 'ID=gene-LOC101514601'\n",
       "34. 'ID=gene-LOC101514932'\n",
       "35. 'ID=gene-LOC101515259'\n",
       "36. 'ID=gene-LOC101505909'\n",
       "37. 'ID=gene-LOC101508803'\n",
       "38. 'ID=gene-LOC101514527'\n",
       "39. 'ID=gene-LOC101494238'\n",
       "40. 'ID=gene-LOC101506246'\n",
       "41. 'ID=gene-LOC101499812'\n",
       "42. 'ID=gene-LOC101515278'\n",
       "43. 'ID=gene-LOC101498100'\n",
       "44. 'ID=gene-LOC101499812'\n",
       "45. 'ID=gene-LOC101498870'\n",
       "46. 'ID=gene-LOC101490040'\n",
       "47. 'ID=gene-LOC101499191'\n",
       "\n",
       "\n"
      ],
      "text/plain": [
       " [1] \"ID=gene-LOC101490635\" \"ID=gene-LOC101499513\" \"ID=gene-LOC101497446\"\n",
       " [4] \"ID=gene-LOC101498100\" \"ID=gene-LOC101498100\" \"ID=gene-LOC101497782\"\n",
       " [7] \"ID=gene-LOC101506667\" \"ID=gene-LOC101507327\" \"ID=gene-LOC101496905\"\n",
       "[10] \"ID=gene-LOC101493885\" \"ID=gene-LOC101494212\" \"ID=gene-LOC101506246\"\n",
       "[13] \"ID=gene-LOC101513987\" \"ID=gene-LOC101495525\" \"ID=gene-LOC101505977\"\n",
       "[16] \"ID=gene-LOC101488282\" \"ID=gene-LOC101490040\" \"ID=gene-LOC101490040\"\n",
       "[19] \"ID=gene-LOC101489402\" \"ID=gene-LOC101489402\" \"ID=gene-LOC101515427\"\n",
       "[22] \"ID=gene-LOC101509284\" \"ID=gene-LOC101499791\" \"ID=gene-LOC101509308\"\n",
       "[25] \"ID=gene-LOC101491258\" \"ID=gene-LOC101491258\" \"ID=gene-LOC101489317\"\n",
       "[28] \"ID=gene-LOC101495795\" \"ID=gene-LOC101515446\" \"ID=gene-LOC101515446\"\n",
       "[31] \"ID=gene-LOC101493863\" \"ID=gene-LOC101510069\" \"ID=gene-LOC101514601\"\n",
       "[34] \"ID=gene-LOC101514932\" \"ID=gene-LOC101515259\" \"ID=gene-LOC101505909\"\n",
       "[37] \"ID=gene-LOC101508803\" \"ID=gene-LOC101514527\" \"ID=gene-LOC101494238\"\n",
       "[40] \"ID=gene-LOC101506246\" \"ID=gene-LOC101499812\" \"ID=gene-LOC101515278\"\n",
       "[43] \"ID=gene-LOC101498100\" \"ID=gene-LOC101499812\" \"ID=gene-LOC101498870\"\n",
       "[46] \"ID=gene-LOC101490040\" \"ID=gene-LOC101499191\""
      ]
     },
     "metadata": {},
     "output_type": "display_data"
    }
   ],
   "source": [
    "gene_labels0"
   ]
  },
  {
   "cell_type": "code",
   "execution_count": 59,
   "id": "c6cbfea2",
   "metadata": {},
   "outputs": [
    {
     "name": "stderr",
     "output_type": "stream",
     "text": [
      "\u001b[1m\u001b[22mNew names:\n",
      "\u001b[36m•\u001b[39m `.` -> `....7`\n",
      "\u001b[36m•\u001b[39m `.` -> `....9`\n",
      "\u001b[1mRows: \u001b[22m\u001b[34m47\u001b[39m \u001b[1mColumns: \u001b[22m\u001b[34m10\u001b[39m\n",
      "\u001b[36m──\u001b[39m \u001b[1mColumn specification\u001b[22m \u001b[36m────────────────────────────────────────────────────────────────────────────────────────────────────────────────────────────────────────────────────────────────────────────────────────────────────────────────────────────────────────────────────────\u001b[39m\n",
      "\u001b[1mDelimiter:\u001b[22m \"\\t\"\n",
      "\u001b[31mchr\u001b[39m (8): XP_004485943.1  LOC101490316, ca1, Gnomon, gene, ....7, +, ....9, I...\n",
      "\u001b[32mdbl\u001b[39m (2): 3574531, 3576813\n",
      "\n",
      "\u001b[36mℹ\u001b[39m Use `spec()` to retrieve the full column specification for this data.\n",
      "\u001b[36mℹ\u001b[39m Specify the column types or set `show_col_types = FALSE` to quiet this message.\n"
     ]
    }
   ],
   "source": [
    "# Read the tab-delimited file into a table\n",
    "gene_file <- \"homolog_gene_less.txt\" ## remove gene on chrUn\n",
    "gene_table <- read_delim(gene_file, delim = \"\\t\")\n",
    "\n",
    "# Convert the third column into a list of strings\n",
    "gene_chromosomes <- as.character(gene_table[[2]])\n",
    "gene_positions <- as.numeric(gene_table[[5]])\n",
    "# Read the ninth column\n",
    "ninth_column <- gene_table[[10]]\n",
    "\n",
    "# Split each entry by \";\" and extract the first field\n",
    "gene_labels0 <- sapply(strsplit(as.character(ninth_column), \";\"), function(x) x[1])\n",
    "# Perform the string replacement\n",
    "gene_labels <- gsub(\"ID=gene-LOC101\", \"C\", gene_labels0)\n"
   ]
  },
  {
   "cell_type": "code",
   "execution_count": 60,
   "id": "008ae9cd",
   "metadata": {},
   "outputs": [
    {
     "data": {
      "text/html": [
       "<style>\n",
       ".list-inline {list-style: none; margin:0; padding: 0}\n",
       ".list-inline>li {display: inline-block}\n",
       ".list-inline>li:not(:last-child)::after {content: \"\\00b7\"; padding: 0 .5ex}\n",
       "</style>\n",
       "<ol class=list-inline><li>'C490635'</li><li>'C499513'</li><li>'C497446'</li><li>'C498100'</li><li>'C498100'</li><li>'C497782'</li><li>'C506667'</li><li>'C507327'</li><li>'C496905'</li><li>'C493885'</li><li>'C494212'</li><li>'C506246'</li><li>'C513987'</li><li>'C495525'</li><li>'C505977'</li><li>'C488282'</li><li>'C490040'</li><li>'C490040'</li><li>'C489402'</li><li>'C489402'</li><li>'C515427'</li><li>'C509284'</li><li>'C499791'</li><li>'C509308'</li><li>'C491258'</li><li>'C491258'</li><li>'C489317'</li><li>'C495795'</li><li>'C515446'</li><li>'C515446'</li><li>'C493863'</li><li>'C510069'</li><li>'C514601'</li><li>'C514932'</li><li>'C515259'</li><li>'C505909'</li><li>'C508803'</li><li>'C514527'</li><li>'C494238'</li><li>'C506246'</li><li>'C499812'</li><li>'C515278'</li><li>'C498100'</li><li>'C499812'</li><li>'C498870'</li><li>'C490040'</li><li>'C499191'</li></ol>\n"
      ],
      "text/latex": [
       "\\begin{enumerate*}\n",
       "\\item 'C490635'\n",
       "\\item 'C499513'\n",
       "\\item 'C497446'\n",
       "\\item 'C498100'\n",
       "\\item 'C498100'\n",
       "\\item 'C497782'\n",
       "\\item 'C506667'\n",
       "\\item 'C507327'\n",
       "\\item 'C496905'\n",
       "\\item 'C493885'\n",
       "\\item 'C494212'\n",
       "\\item 'C506246'\n",
       "\\item 'C513987'\n",
       "\\item 'C495525'\n",
       "\\item 'C505977'\n",
       "\\item 'C488282'\n",
       "\\item 'C490040'\n",
       "\\item 'C490040'\n",
       "\\item 'C489402'\n",
       "\\item 'C489402'\n",
       "\\item 'C515427'\n",
       "\\item 'C509284'\n",
       "\\item 'C499791'\n",
       "\\item 'C509308'\n",
       "\\item 'C491258'\n",
       "\\item 'C491258'\n",
       "\\item 'C489317'\n",
       "\\item 'C495795'\n",
       "\\item 'C515446'\n",
       "\\item 'C515446'\n",
       "\\item 'C493863'\n",
       "\\item 'C510069'\n",
       "\\item 'C514601'\n",
       "\\item 'C514932'\n",
       "\\item 'C515259'\n",
       "\\item 'C505909'\n",
       "\\item 'C508803'\n",
       "\\item 'C514527'\n",
       "\\item 'C494238'\n",
       "\\item 'C506246'\n",
       "\\item 'C499812'\n",
       "\\item 'C515278'\n",
       "\\item 'C498100'\n",
       "\\item 'C499812'\n",
       "\\item 'C498870'\n",
       "\\item 'C490040'\n",
       "\\item 'C499191'\n",
       "\\end{enumerate*}\n"
      ],
      "text/markdown": [
       "1. 'C490635'\n",
       "2. 'C499513'\n",
       "3. 'C497446'\n",
       "4. 'C498100'\n",
       "5. 'C498100'\n",
       "6. 'C497782'\n",
       "7. 'C506667'\n",
       "8. 'C507327'\n",
       "9. 'C496905'\n",
       "10. 'C493885'\n",
       "11. 'C494212'\n",
       "12. 'C506246'\n",
       "13. 'C513987'\n",
       "14. 'C495525'\n",
       "15. 'C505977'\n",
       "16. 'C488282'\n",
       "17. 'C490040'\n",
       "18. 'C490040'\n",
       "19. 'C489402'\n",
       "20. 'C489402'\n",
       "21. 'C515427'\n",
       "22. 'C509284'\n",
       "23. 'C499791'\n",
       "24. 'C509308'\n",
       "25. 'C491258'\n",
       "26. 'C491258'\n",
       "27. 'C489317'\n",
       "28. 'C495795'\n",
       "29. 'C515446'\n",
       "30. 'C515446'\n",
       "31. 'C493863'\n",
       "32. 'C510069'\n",
       "33. 'C514601'\n",
       "34. 'C514932'\n",
       "35. 'C515259'\n",
       "36. 'C505909'\n",
       "37. 'C508803'\n",
       "38. 'C514527'\n",
       "39. 'C494238'\n",
       "40. 'C506246'\n",
       "41. 'C499812'\n",
       "42. 'C515278'\n",
       "43. 'C498100'\n",
       "44. 'C499812'\n",
       "45. 'C498870'\n",
       "46. 'C490040'\n",
       "47. 'C499191'\n",
       "\n",
       "\n"
      ],
      "text/plain": [
       " [1] \"C490635\" \"C499513\" \"C497446\" \"C498100\" \"C498100\" \"C497782\" \"C506667\"\n",
       " [8] \"C507327\" \"C496905\" \"C493885\" \"C494212\" \"C506246\" \"C513987\" \"C495525\"\n",
       "[15] \"C505977\" \"C488282\" \"C490040\" \"C490040\" \"C489402\" \"C489402\" \"C515427\"\n",
       "[22] \"C509284\" \"C499791\" \"C509308\" \"C491258\" \"C491258\" \"C489317\" \"C495795\"\n",
       "[29] \"C515446\" \"C515446\" \"C493863\" \"C510069\" \"C514601\" \"C514932\" \"C515259\"\n",
       "[36] \"C505909\" \"C508803\" \"C514527\" \"C494238\" \"C506246\" \"C499812\" \"C515278\"\n",
       "[43] \"C498100\" \"C499812\" \"C498870\" \"C490040\" \"C499191\""
      ]
     },
     "metadata": {},
     "output_type": "display_data"
    }
   ],
   "source": [
    "gene_labels"
   ]
  },
  {
   "cell_type": "code",
   "execution_count": 43,
   "id": "fc64913f",
   "metadata": {},
   "outputs": [],
   "source": [
    "?circos.genomicAxis()"
   ]
  },
  {
   "cell_type": "code",
   "execution_count": 66,
   "id": "dcada5b6",
   "metadata": {},
   "outputs": [
    {
     "data": {
      "text/html": [
       "<style>\n",
       ".list-inline {list-style: none; margin:0; padding: 0}\n",
       ".list-inline>li {display: inline-block}\n",
       ".list-inline>li:not(:last-child)::after {content: \"\\00b7\"; padding: 0 .5ex}\n",
       "</style>\n",
       "<ol class=list-inline><li>0</li><li>5e+06</li><li>1e+07</li><li>1.5e+07</li><li>2e+07</li><li>2.5e+07</li></ol>\n"
      ],
      "text/latex": [
       "\\begin{enumerate*}\n",
       "\\item 0\n",
       "\\item 5e+06\n",
       "\\item 1e+07\n",
       "\\item 1.5e+07\n",
       "\\item 2e+07\n",
       "\\item 2.5e+07\n",
       "\\end{enumerate*}\n"
      ],
      "text/markdown": [
       "1. 0\n",
       "2. 5e+06\n",
       "3. 1e+07\n",
       "4. 1.5e+07\n",
       "5. 2e+07\n",
       "6. 2.5e+07\n",
       "\n",
       "\n"
      ],
      "text/plain": [
       "[1] 0.0e+00 5.0e+06 1.0e+07 1.5e+07 2.0e+07 2.5e+07"
      ]
     },
     "metadata": {},
     "output_type": "display_data"
    }
   ],
   "source": [
    "head(breaks)"
   ]
  },
  {
   "cell_type": "code",
   "execution_count": 81,
   "id": "2a0147fa",
   "metadata": {},
   "outputs": [],
   "source": [
    "gene_blue <- rep(\"blue\", 47)\n",
    "qtl_red <- rep(\"red\", 8)"
   ]
  },
  {
   "cell_type": "code",
   "execution_count": 76,
   "id": "c38226e5",
   "metadata": {},
   "outputs": [
    {
     "data": {
      "text/html": [
       "47"
      ],
      "text/latex": [
       "47"
      ],
      "text/markdown": [
       "47"
      ],
      "text/plain": [
       "[1] 47"
      ]
     },
     "metadata": {},
     "output_type": "display_data"
    }
   ],
   "source": [
    "length(gene_labels)"
   ]
  },
  {
   "cell_type": "code",
   "execution_count": 75,
   "id": "013c3ed0",
   "metadata": {},
   "outputs": [
    {
     "data": {
      "text/html": [
       "8"
      ],
      "text/latex": [
       "8"
      ],
      "text/markdown": [
       "8"
      ],
      "text/plain": [
       "[1] 8"
      ]
     },
     "metadata": {},
     "output_type": "display_data"
    }
   ],
   "source": [
    "length(qtl_labels)"
   ]
  },
  {
   "cell_type": "code",
   "execution_count": 80,
   "id": "19cee062",
   "metadata": {},
   "outputs": [
    {
     "data": {
      "text/html": [
       "<style>\n",
       ".list-inline {list-style: none; margin:0; padding: 0}\n",
       ".list-inline>li {display: inline-block}\n",
       ".list-inline>li:not(:last-child)::after {content: \"\\00b7\"; padding: 0 .5ex}\n",
       "</style>\n",
       "<ol class=list-inline><li>'blue'</li><li>'blue'</li><li>'blue'</li><li>'blue'</li><li>'blue'</li><li>'blue'</li><li>'blue'</li><li>'blue'</li><li>'blue'</li><li>'blue'</li><li>'blue'</li><li>'blue'</li><li>'blue'</li><li>'blue'</li><li>'blue'</li><li>'blue'</li><li>'blue'</li><li>'blue'</li><li>'blue'</li><li>'blue'</li><li>'blue'</li><li>'blue'</li><li>'blue'</li><li>'blue'</li><li>'blue'</li><li>'blue'</li><li>'blue'</li><li>'blue'</li><li>'blue'</li><li>'blue'</li><li>'blue'</li><li>'blue'</li><li>'blue'</li><li>'blue'</li><li>'blue'</li><li>'blue'</li><li>'blue'</li><li>'blue'</li><li>'blue'</li><li>'blue'</li><li>'blue'</li><li>'blue'</li><li>'blue'</li><li>'blue'</li><li>'blue'</li><li>'blue'</li><li>'blue'</li><li>'blue'</li><li>'blue'</li><li>'blue'</li><li>'blue'</li><li>'blue'</li><li>'blue'</li><li>'blue'</li><li>'blue'</li></ol>\n"
      ],
      "text/latex": [
       "\\begin{enumerate*}\n",
       "\\item 'blue'\n",
       "\\item 'blue'\n",
       "\\item 'blue'\n",
       "\\item 'blue'\n",
       "\\item 'blue'\n",
       "\\item 'blue'\n",
       "\\item 'blue'\n",
       "\\item 'blue'\n",
       "\\item 'blue'\n",
       "\\item 'blue'\n",
       "\\item 'blue'\n",
       "\\item 'blue'\n",
       "\\item 'blue'\n",
       "\\item 'blue'\n",
       "\\item 'blue'\n",
       "\\item 'blue'\n",
       "\\item 'blue'\n",
       "\\item 'blue'\n",
       "\\item 'blue'\n",
       "\\item 'blue'\n",
       "\\item 'blue'\n",
       "\\item 'blue'\n",
       "\\item 'blue'\n",
       "\\item 'blue'\n",
       "\\item 'blue'\n",
       "\\item 'blue'\n",
       "\\item 'blue'\n",
       "\\item 'blue'\n",
       "\\item 'blue'\n",
       "\\item 'blue'\n",
       "\\item 'blue'\n",
       "\\item 'blue'\n",
       "\\item 'blue'\n",
       "\\item 'blue'\n",
       "\\item 'blue'\n",
       "\\item 'blue'\n",
       "\\item 'blue'\n",
       "\\item 'blue'\n",
       "\\item 'blue'\n",
       "\\item 'blue'\n",
       "\\item 'blue'\n",
       "\\item 'blue'\n",
       "\\item 'blue'\n",
       "\\item 'blue'\n",
       "\\item 'blue'\n",
       "\\item 'blue'\n",
       "\\item 'blue'\n",
       "\\item 'blue'\n",
       "\\item 'blue'\n",
       "\\item 'blue'\n",
       "\\item 'blue'\n",
       "\\item 'blue'\n",
       "\\item 'blue'\n",
       "\\item 'blue'\n",
       "\\item 'blue'\n",
       "\\end{enumerate*}\n"
      ],
      "text/markdown": [
       "1. 'blue'\n",
       "2. 'blue'\n",
       "3. 'blue'\n",
       "4. 'blue'\n",
       "5. 'blue'\n",
       "6. 'blue'\n",
       "7. 'blue'\n",
       "8. 'blue'\n",
       "9. 'blue'\n",
       "10. 'blue'\n",
       "11. 'blue'\n",
       "12. 'blue'\n",
       "13. 'blue'\n",
       "14. 'blue'\n",
       "15. 'blue'\n",
       "16. 'blue'\n",
       "17. 'blue'\n",
       "18. 'blue'\n",
       "19. 'blue'\n",
       "20. 'blue'\n",
       "21. 'blue'\n",
       "22. 'blue'\n",
       "23. 'blue'\n",
       "24. 'blue'\n",
       "25. 'blue'\n",
       "26. 'blue'\n",
       "27. 'blue'\n",
       "28. 'blue'\n",
       "29. 'blue'\n",
       "30. 'blue'\n",
       "31. 'blue'\n",
       "32. 'blue'\n",
       "33. 'blue'\n",
       "34. 'blue'\n",
       "35. 'blue'\n",
       "36. 'blue'\n",
       "37. 'blue'\n",
       "38. 'blue'\n",
       "39. 'blue'\n",
       "40. 'blue'\n",
       "41. 'blue'\n",
       "42. 'blue'\n",
       "43. 'blue'\n",
       "44. 'blue'\n",
       "45. 'blue'\n",
       "46. 'blue'\n",
       "47. 'blue'\n",
       "48. 'blue'\n",
       "49. 'blue'\n",
       "50. 'blue'\n",
       "51. 'blue'\n",
       "52. 'blue'\n",
       "53. 'blue'\n",
       "54. 'blue'\n",
       "55. 'blue'\n",
       "\n",
       "\n"
      ],
      "text/plain": [
       " [1] \"blue\" \"blue\" \"blue\" \"blue\" \"blue\" \"blue\" \"blue\" \"blue\" \"blue\" \"blue\"\n",
       "[11] \"blue\" \"blue\" \"blue\" \"blue\" \"blue\" \"blue\" \"blue\" \"blue\" \"blue\" \"blue\"\n",
       "[21] \"blue\" \"blue\" \"blue\" \"blue\" \"blue\" \"blue\" \"blue\" \"blue\" \"blue\" \"blue\"\n",
       "[31] \"blue\" \"blue\" \"blue\" \"blue\" \"blue\" \"blue\" \"blue\" \"blue\" \"blue\" \"blue\"\n",
       "[41] \"blue\" \"blue\" \"blue\" \"blue\" \"blue\" \"blue\" \"blue\" \"blue\" \"blue\" \"blue\"\n",
       "[51] \"blue\" \"blue\" \"blue\" \"blue\" \"blue\""
      ]
     },
     "metadata": {},
     "output_type": "display_data"
    }
   ],
   "source": [
    "c(gene_blue,qtl_red)"
   ]
  },
  {
   "cell_type": "code",
   "execution_count": 87,
   "id": "97a22709",
   "metadata": {},
   "outputs": [
    {
     "name": "stderr",
     "output_type": "stream",
     "text": [
      "Note: 1 point is out of plotting region in sector 'ca1', track '3'.\n",
      "\n",
      "Note: 1 point is out of plotting region in sector 'ca2', track '3'.\n",
      "\n",
      "Note: 1 point is out of plotting region in sector 'ca3', track '3'.\n",
      "\n",
      "Note: 1 point is out of plotting region in sector 'ca4', track '3'.\n",
      "\n",
      "Note: 1 point is out of plotting region in sector 'ca5', track '3'.\n",
      "\n",
      "Note: 1 point is out of plotting region in sector 'ca6', track '3'.\n",
      "\n",
      "Note: 1 point is out of plotting region in sector 'ca7', track '3'.\n",
      "\n",
      "Note: 1 point is out of plotting region in sector 'ca8', track '3'.\n",
      "\n"
     ]
    },
    {
     "data": {
      "text/html": [
       "<strong>pdf:</strong> 2"
      ],
      "text/latex": [
       "\\textbf{pdf:} 2"
      ],
      "text/markdown": [
       "**pdf:** 2"
      ],
      "text/plain": [
       "pdf \n",
       "  2 "
      ]
     },
     "metadata": {},
     "output_type": "display_data"
    }
   ],
   "source": [
    "png(\"chickpea_circos_updated.png\", width = 1000, height = 1000)\n",
    "# Initialize the circos plot with the custom ideogram\n",
    "# Set the start angle\n",
    "circos.par(start.degree = 90)\n",
    "circos.initializeWithIdeogram(custom_cytoband, plotType = NULL)\n",
    "\n",
    "circos.labels(c(gene_chromosomes, qtl_chromosomes), x = c(gene_positions,qtl_positions), \n",
    "              cex = 1, labels = c(gene_labels,qtl_labels), col = c(gene_blue,qtl_red),\n",
    "              labels_height = 0.1,\n",
    "              side = c(\"outside\"))\n",
    "circos.track(ylim = c(0, 1), track.height = 0.1, panel.fun = function(x, y) {\n",
    "    breaks = seq(0, 1e9, by = 1e7)\n",
    "    circos.genomicAxis(h = \"top\",major.at = breaks, labels = paste0(breaks/1e6, \"\"), \n",
    "            direction = \"inside\", labels.cex = 1)\n",
    "    circos.text(CELL_META$xcenter, - (CELL_META$ycenter + 0.2), CELL_META$sector.index, cex=1.5)\n",
    "\n",
    "})\n",
    "\n",
    "\n",
    "circos.clear()# Close the PNG device\n",
    "dev.off()"
   ]
  },
  {
   "cell_type": "code",
   "execution_count": 84,
   "id": "3077ccc3",
   "metadata": {},
   "outputs": [],
   "source": [
    "?circos.genomicAxis()"
   ]
  },
  {
   "cell_type": "code",
   "execution_count": 34,
   "id": "92738de8",
   "metadata": {},
   "outputs": [],
   "source": [
    "?circos.trackPlotRegion()"
   ]
  },
  {
   "cell_type": "code",
   "execution_count": 36,
   "id": "d13b410d",
   "metadata": {},
   "outputs": [],
   "source": [
    "?circos.labels()"
   ]
  },
  {
   "cell_type": "code",
   "execution_count": 70,
   "id": "0eca8723",
   "metadata": {},
   "outputs": [
    {
     "data": {
      "text/html": [
       "<strong>pdf:</strong> 2"
      ],
      "text/latex": [
       "\\textbf{pdf:} 2"
      ],
      "text/markdown": [
       "**pdf:** 2"
      ],
      "text/plain": [
       "pdf \n",
       "  2 "
      ]
     },
     "metadata": {},
     "output_type": "display_data"
    }
   ],
   "source": [
    "png(\"chickpea_circos_updated.png\", width = 800, height = 800)\n",
    "# Initialize the circos plot with the custom ideogram\n",
    "# Set the start angle\n",
    "circos.par(start.degree = 90)\n",
    "circos.initializeWithIdeogram(custom_cytoband, plotType = NULL)\n",
    "\n",
    "circos.track(ylim = c(0, 1), track.height = 0.1, panel.fun = function(x, y) {\n",
    "    breaks = seq(0, 1e9, by = 5e6)\n",
    "    circos.genomicAxis(major.at = breaks, labels = paste0(breaks/1e6, \"\"), labels.cex = 1)\n",
    "    circos.text(CELL_META$xcenter, CELL_META$ycenter, CELL_META$sector.index, cex=1.5)\n",
    "\n",
    "})\n",
    "\n",
    "circos.track(ylim = c(0, 1), track.height = 0.05)\n",
    "circos.labels(c(gene_chromosomes, qtl_chromosomes), x = c(gene_positions,qtl_positions), \n",
    "              cex = 1.2, labels = c(gene_labels,qtl_labels))\n",
    "\n",
    "circos.clear()# Close the PNG device\n",
    "dev.off()"
   ]
  },
  {
   "cell_type": "code",
   "execution_count": 71,
   "id": "a4fbe250",
   "metadata": {},
   "outputs": [
    {
     "data": {
      "text/html": [
       "<table class=\"dataframe\">\n",
       "<caption>A spec_tbl_df: 7 × 10</caption>\n",
       "<thead>\n",
       "\t<tr><th scope=col>XP_004486970.1  LOC101497782</th><th scope=col>ca1</th><th scope=col>Gnomon</th><th scope=col>gene</th><th scope=col>11155685</th><th scope=col>11160403</th><th scope=col>....7</th><th scope=col>+</th><th scope=col>....9</th><th scope=col>ID=gene-LOC101497782;Dbxref=GeneID:101497782;Name=LOC101497782;gbkey=Gene;gene=LOC101497782;gene_biotype=protein_coding</th></tr>\n",
       "\t<tr><th scope=col>&lt;chr&gt;</th><th scope=col>&lt;chr&gt;</th><th scope=col>&lt;chr&gt;</th><th scope=col>&lt;chr&gt;</th><th scope=col>&lt;dbl&gt;</th><th scope=col>&lt;dbl&gt;</th><th scope=col>&lt;chr&gt;</th><th scope=col>&lt;chr&gt;</th><th scope=col>&lt;chr&gt;</th><th scope=col>&lt;chr&gt;</th></tr>\n",
       "</thead>\n",
       "<tbody>\n",
       "\t<tr><td>XP_004487722.1  LOC101493885</td><td>ca1</td><td>Gnomon</td><td>gene</td><td>14463723</td><td>14466287</td><td>.</td><td>+</td><td>.</td><td>ID=gene-LOC101493885;Dbxref=GeneID:101493885;Name=LOC101493885;gbkey=Gene;gene=LOC101493885;gene_biotype=protein_coding</td></tr>\n",
       "\t<tr><td>XP_004491273.1  LOC101513987</td><td>ca2</td><td>Gnomon</td><td>gene</td><td>33781947</td><td>33784917</td><td>.</td><td>+</td><td>.</td><td>ID=gene-LOC101513987;Dbxref=GeneID:101513987;Name=LOC101513987;gbkey=Gene;gene=LOC101513987;gene_biotype=protein_coding</td></tr>\n",
       "\t<tr><td>XP_004493719.1  LOC101495525</td><td>ca3</td><td>Gnomon</td><td>gene</td><td>30493076</td><td>30496933</td><td>.</td><td>-</td><td>.</td><td>ID=gene-LOC101495525;Dbxref=GeneID:101495525;Name=LOC101495525;gbkey=Gene;gene=LOC101495525;gene_biotype=protein_coding</td></tr>\n",
       "\t<tr><td>XP_004494917.1  LOC101488282</td><td>ca3</td><td>Gnomon</td><td>gene</td><td>35680003</td><td>35684082</td><td>.</td><td>-</td><td>.</td><td>ID=gene-LOC101488282;Dbxref=GeneID:101488282;Name=LOC101488282;gbkey=Gene;gene=LOC101488282;gene_biotype=protein_coding</td></tr>\n",
       "\t<tr><td>XP_004499881.1  LOC101509308</td><td>ca5</td><td>Gnomon</td><td>gene</td><td>16522379</td><td>16529693</td><td>.</td><td>+</td><td>.</td><td>ID=gene-LOC101509308;Dbxref=GeneID:101509308;Name=LOC101509308;gbkey=Gene;gene=LOC101509308;gene_biotype=protein_coding</td></tr>\n",
       "\t<tr><td>XP_004506221.1  LOC101505909</td><td>ca6</td><td>Gnomon</td><td>gene</td><td>31633696</td><td>31636481</td><td>.</td><td>-</td><td>.</td><td>ID=gene-LOC101505909;Dbxref=GeneID:101505909;Name=LOC101505909;gbkey=Gene;gene=LOC101505909;gene_biotype=protein_coding</td></tr>\n",
       "\t<tr><td>XP_004510955.1  LOC101514527</td><td>ca7</td><td>Gnomon</td><td>gene</td><td>39786461</td><td>39798690</td><td>.</td><td>-</td><td>.</td><td>ID=gene-LOC101514527;Dbxref=GeneID:101514527;Name=LOC101514527;gbkey=Gene;gene=LOC101514527;gene_biotype=protein_coding</td></tr>\n",
       "</tbody>\n",
       "</table>\n"
      ],
      "text/latex": [
       "A spec\\_tbl\\_df: 7 × 10\n",
       "\\begin{tabular}{llllllllll}\n",
       " XP\\_004486970.1  LOC101497782 & ca1 & Gnomon & gene & 11155685 & 11160403 & ....7 & + & ....9 & ID=gene-LOC101497782;Dbxref=GeneID:101497782;Name=LOC101497782;gbkey=Gene;gene=LOC101497782;gene\\_biotype=protein\\_coding\\\\\n",
       " <chr> & <chr> & <chr> & <chr> & <dbl> & <dbl> & <chr> & <chr> & <chr> & <chr>\\\\\n",
       "\\hline\n",
       "\t XP\\_004487722.1  LOC101493885 & ca1 & Gnomon & gene & 14463723 & 14466287 & . & + & . & ID=gene-LOC101493885;Dbxref=GeneID:101493885;Name=LOC101493885;gbkey=Gene;gene=LOC101493885;gene\\_biotype=protein\\_coding\\\\\n",
       "\t XP\\_004491273.1  LOC101513987 & ca2 & Gnomon & gene & 33781947 & 33784917 & . & + & . & ID=gene-LOC101513987;Dbxref=GeneID:101513987;Name=LOC101513987;gbkey=Gene;gene=LOC101513987;gene\\_biotype=protein\\_coding\\\\\n",
       "\t XP\\_004493719.1  LOC101495525 & ca3 & Gnomon & gene & 30493076 & 30496933 & . & - & . & ID=gene-LOC101495525;Dbxref=GeneID:101495525;Name=LOC101495525;gbkey=Gene;gene=LOC101495525;gene\\_biotype=protein\\_coding\\\\\n",
       "\t XP\\_004494917.1  LOC101488282 & ca3 & Gnomon & gene & 35680003 & 35684082 & . & - & . & ID=gene-LOC101488282;Dbxref=GeneID:101488282;Name=LOC101488282;gbkey=Gene;gene=LOC101488282;gene\\_biotype=protein\\_coding\\\\\n",
       "\t XP\\_004499881.1  LOC101509308 & ca5 & Gnomon & gene & 16522379 & 16529693 & . & + & . & ID=gene-LOC101509308;Dbxref=GeneID:101509308;Name=LOC101509308;gbkey=Gene;gene=LOC101509308;gene\\_biotype=protein\\_coding\\\\\n",
       "\t XP\\_004506221.1  LOC101505909 & ca6 & Gnomon & gene & 31633696 & 31636481 & . & - & . & ID=gene-LOC101505909;Dbxref=GeneID:101505909;Name=LOC101505909;gbkey=Gene;gene=LOC101505909;gene\\_biotype=protein\\_coding\\\\\n",
       "\t XP\\_004510955.1  LOC101514527 & ca7 & Gnomon & gene & 39786461 & 39798690 & . & - & . & ID=gene-LOC101514527;Dbxref=GeneID:101514527;Name=LOC101514527;gbkey=Gene;gene=LOC101514527;gene\\_biotype=protein\\_coding\\\\\n",
       "\\end{tabular}\n"
      ],
      "text/markdown": [
       "\n",
       "A spec_tbl_df: 7 × 10\n",
       "\n",
       "| XP_004486970.1  LOC101497782 &lt;chr&gt; | ca1 &lt;chr&gt; | Gnomon &lt;chr&gt; | gene &lt;chr&gt; | 11155685 &lt;dbl&gt; | 11160403 &lt;dbl&gt; | ....7 &lt;chr&gt; | + &lt;chr&gt; | ....9 &lt;chr&gt; | ID=gene-LOC101497782;Dbxref=GeneID:101497782;Name=LOC101497782;gbkey=Gene;gene=LOC101497782;gene_biotype=protein_coding &lt;chr&gt; |\n",
       "|---|---|---|---|---|---|---|---|---|---|\n",
       "| XP_004487722.1  LOC101493885 | ca1 | Gnomon | gene | 14463723 | 14466287 | . | + | . | ID=gene-LOC101493885;Dbxref=GeneID:101493885;Name=LOC101493885;gbkey=Gene;gene=LOC101493885;gene_biotype=protein_coding |\n",
       "| XP_004491273.1  LOC101513987 | ca2 | Gnomon | gene | 33781947 | 33784917 | . | + | . | ID=gene-LOC101513987;Dbxref=GeneID:101513987;Name=LOC101513987;gbkey=Gene;gene=LOC101513987;gene_biotype=protein_coding |\n",
       "| XP_004493719.1  LOC101495525 | ca3 | Gnomon | gene | 30493076 | 30496933 | . | - | . | ID=gene-LOC101495525;Dbxref=GeneID:101495525;Name=LOC101495525;gbkey=Gene;gene=LOC101495525;gene_biotype=protein_coding |\n",
       "| XP_004494917.1  LOC101488282 | ca3 | Gnomon | gene | 35680003 | 35684082 | . | - | . | ID=gene-LOC101488282;Dbxref=GeneID:101488282;Name=LOC101488282;gbkey=Gene;gene=LOC101488282;gene_biotype=protein_coding |\n",
       "| XP_004499881.1  LOC101509308 | ca5 | Gnomon | gene | 16522379 | 16529693 | . | + | . | ID=gene-LOC101509308;Dbxref=GeneID:101509308;Name=LOC101509308;gbkey=Gene;gene=LOC101509308;gene_biotype=protein_coding |\n",
       "| XP_004506221.1  LOC101505909 | ca6 | Gnomon | gene | 31633696 | 31636481 | . | - | . | ID=gene-LOC101505909;Dbxref=GeneID:101505909;Name=LOC101505909;gbkey=Gene;gene=LOC101505909;gene_biotype=protein_coding |\n",
       "| XP_004510955.1  LOC101514527 | ca7 | Gnomon | gene | 39786461 | 39798690 | . | - | . | ID=gene-LOC101514527;Dbxref=GeneID:101514527;Name=LOC101514527;gbkey=Gene;gene=LOC101514527;gene_biotype=protein_coding |\n",
       "\n"
      ],
      "text/plain": [
       "  XP_004486970.1  LOC101497782 ca1 Gnomon gene 11155685 11160403 ....7 + ....9\n",
       "1 XP_004487722.1  LOC101493885 ca1 Gnomon gene 14463723 14466287 .     + .    \n",
       "2 XP_004491273.1  LOC101513987 ca2 Gnomon gene 33781947 33784917 .     + .    \n",
       "3 XP_004493719.1  LOC101495525 ca3 Gnomon gene 30493076 30496933 .     - .    \n",
       "4 XP_004494917.1  LOC101488282 ca3 Gnomon gene 35680003 35684082 .     - .    \n",
       "5 XP_004499881.1  LOC101509308 ca5 Gnomon gene 16522379 16529693 .     + .    \n",
       "6 XP_004506221.1  LOC101505909 ca6 Gnomon gene 31633696 31636481 .     - .    \n",
       "7 XP_004510955.1  LOC101514527 ca7 Gnomon gene 39786461 39798690 .     - .    \n",
       "  ID=gene-LOC101497782;Dbxref=GeneID:101497782;Name=LOC101497782;gbkey=Gene;gene=LOC101497782;gene_biotype=protein_coding\n",
       "1 ID=gene-LOC101493885;Dbxref=GeneID:101493885;Name=LOC101493885;gbkey=Gene;gene=LOC101493885;gene_biotype=protein_coding\n",
       "2 ID=gene-LOC101513987;Dbxref=GeneID:101513987;Name=LOC101513987;gbkey=Gene;gene=LOC101513987;gene_biotype=protein_coding\n",
       "3 ID=gene-LOC101495525;Dbxref=GeneID:101495525;Name=LOC101495525;gbkey=Gene;gene=LOC101495525;gene_biotype=protein_coding\n",
       "4 ID=gene-LOC101488282;Dbxref=GeneID:101488282;Name=LOC101488282;gbkey=Gene;gene=LOC101488282;gene_biotype=protein_coding\n",
       "5 ID=gene-LOC101509308;Dbxref=GeneID:101509308;Name=LOC101509308;gbkey=Gene;gene=LOC101509308;gene_biotype=protein_coding\n",
       "6 ID=gene-LOC101505909;Dbxref=GeneID:101505909;Name=LOC101505909;gbkey=Gene;gene=LOC101505909;gene_biotype=protein_coding\n",
       "7 ID=gene-LOC101514527;Dbxref=GeneID:101514527;Name=LOC101514527;gbkey=Gene;gene=LOC101514527;gene_biotype=protein_coding"
      ]
     },
     "metadata": {},
     "output_type": "display_data"
    }
   ],
   "source": [
    "gene_table"
   ]
  },
  {
   "cell_type": "code",
   "execution_count": null,
   "id": "9f13b888",
   "metadata": {},
   "outputs": [],
   "source": []
  }
 ],
 "metadata": {
  "kernelspec": {
   "display_name": "R",
   "language": "R",
   "name": "ir"
  },
  "language_info": {
   "codemirror_mode": "r",
   "file_extension": ".r",
   "mimetype": "text/x-r-source",
   "name": "R",
   "pygments_lexer": "r",
   "version": "4.2.3"
  }
 },
 "nbformat": 4,
 "nbformat_minor": 5
}
