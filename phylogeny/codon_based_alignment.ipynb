{
 "cells": [
  {
   "cell_type": "code",
   "execution_count": 1,
   "id": "f9d1f1aa-09d5-40b3-aa41-3a53aee9f901",
   "metadata": {},
   "outputs": [],
   "source": [
    "from Bio import SeqIO\n",
    "from Bio.Seq import Seq\n",
    "from Bio.SeqRecord import SeqRecord\n",
    "from Bio.SeqUtils import nt_search\n",
    "from Bio.Align.Applications import MafftCommandline\n",
    "import os\n",
    "import glob\n",
    "import random"
   ]
  },
  {
   "cell_type": "markdown",
   "id": "07c4074a-ffbb-4340-aed7-cb50dcc8656d",
   "metadata": {},
   "source": [
    "## loop through multiple fasta and perform codon-based alignment"
   ]
  },
  {
   "cell_type": "code",
   "execution_count": 6,
   "id": "ec7324ed-2f2a-43af-bc77-faad227cc26d",
   "metadata": {},
   "outputs": [],
   "source": [
    "def translate_cds_to_aa(cds_sequence):\n",
    "    return cds_sequence.translate()\n",
    "\n",
    "def map_gaps_to_cds(amino_acid_alignment, original_cds_sequences):\n",
    "    aligned_cds_sequences = {}\n",
    "\n",
    "    for aa_record in amino_acid_alignment:\n",
    "        cds_record = next(cds for cds in original_cds_sequences if cds.id == aa_record.id)\n",
    "\n",
    "        aligned_cds_seq = \"\"\n",
    "        aa_pos = 0\n",
    "\n",
    "        for aa in str(aa_record.seq):\n",
    "            if aa == \"-\":\n",
    "                aligned_cds_seq += \"---\"\n",
    "            else:\n",
    "                aligned_cds_seq += str(cds_record.seq[aa_pos * 3 : (aa_pos + 1) * 3])\n",
    "                aa_pos += 1\n",
    "\n",
    "        aligned_cds_record = SeqRecord(Seq(aligned_cds_seq), id=cds_record.id, description=\"\")\n",
    "        aligned_cds_sequences[aligned_cds_record.id] = aligned_cds_record\n",
    "\n",
    "    return list(aligned_cds_sequences.values())\n",
    "\n",
    "def perform_cds_alignment(input_cds_file, output_cds_alignment_file):\n",
    "    # Step 1: Translate CDS to Amino Acid Sequences\n",
    "    amino_acid_sequences = []\n",
    "\n",
    "    for record in SeqIO.parse(input_cds_file, \"fasta\"):\n",
    "        amino_acid_sequence = translate_cds_to_aa(record.seq)\n",
    "        amino_acid_record = SeqRecord(amino_acid_sequence, id=record.id, description=\"\")\n",
    "        amino_acid_sequences.append(amino_acid_record)\n",
    "\n",
    "    SeqIO.write(amino_acid_sequences, \"amino_acid_sequences.fasta\", \"fasta\")\n",
    "\n",
    "    # Step 2: Amino Acid Sequence Alignment\n",
    "    mafft_cline = MafftCommandline(input=\"amino_acid_sequences.fasta\", auto=True)\n",
    "    stdout, stderr = mafft_cline()\n",
    "\n",
    "    with open(\"amino_acid_alignment.fasta\", \"w\") as f:\n",
    "        f.write(stdout)\n",
    "\n",
    "    # Step 3: Convert Amino Acid Alignment to CDS Alignment\n",
    "    amino_acid_alignment = list(SeqIO.parse(\"amino_acid_alignment.fasta\", \"fasta\"))\n",
    "    original_cds_sequences = list(SeqIO.parse(input_cds_file, \"fasta\"))\n",
    "\n",
    "    aligned_cds_sequences = map_gaps_to_cds(amino_acid_alignment, original_cds_sequences)\n",
    "\n",
    "    # Step 4: Write the final CDS alignment to a file\n",
    "    SeqIO.write(aligned_cds_sequences, output_cds_alignment_file, \"fasta\")\n",
    "\n",
    "if __name__ == \"__main__\":\n",
    "\n",
    "    # List of FASTA files\n",
    "    fasta_files = glob.glob(\"renamed_*.fasta\")\n",
    "\n",
    "    for input_cds_file in fasta_files:\n",
    "        output_cds_alignment_file = input_cds_file[:-2]\n",
    "        perform_cds_alignment(input_cds_file, output_cds_alignment_file)"
   ]
  },
  {
   "cell_type": "markdown",
   "id": "60fc2907-bffd-4f39-9c69-81f0a46fca9a",
   "metadata": {},
   "source": [
    "## check cds sequence length"
   ]
  },
  {
   "cell_type": "code",
   "execution_count": 7,
   "id": "24203596-6d6e-47c3-a17a-f7c333f107b5",
   "metadata": {},
   "outputs": [
    {
     "name": "stdout",
     "output_type": "stream",
     "text": [
      "file= renamed_OG0015453.txt.fasta\n",
      "Warning: The following CDS sequences have lengths not multiple of three:\n",
      "OryzaSativa\n"
     ]
    }
   ],
   "source": [
    "def report_sequences_with_invalid_length(input_cds_file):\n",
    "    invalid_sequences = []\n",
    "\n",
    "    for record in SeqIO.parse(input_cds_file, \"fasta\"):\n",
    "        if len(record.seq) % 3 != 0:\n",
    "            invalid_sequences.append(record.id)\n",
    "\n",
    "    if invalid_sequences:\n",
    "        print(\"file=\", input_cds_file)\n",
    "        print(f\"Warning: The following CDS sequences have lengths not multiple of three:\")\n",
    "        for seq_id in invalid_sequences:\n",
    "            print(seq_id)\n",
    "\n",
    "if __name__ == \"__main__\":\n",
    "\n",
    "    # List of FASTA files\n",
    "    fasta_files = glob.glob(\"renamed_*.fasta\")\n",
    "\n",
    "    for fasta_file in fasta_files:\n",
    "        # Check for invalid CDS sequence lengths\n",
    "        report_sequences_with_invalid_length(fasta_file)"
   ]
  },
  {
   "cell_type": "markdown",
   "id": "13d6d861-972d-4d9f-897c-b42143ac33da",
   "metadata": {},
   "source": [
    "## convert fas alignment to nexus format"
   ]
  },
  {
   "cell_type": "code",
   "execution_count": null,
   "id": "b5544c03-7ef7-4870-86bd-d5bce2eabc8b",
   "metadata": {},
   "outputs": [],
   "source": [
    "!ls *.fas |while read R;do seqmagick convert --output-format nexus --alphabet dna $R $R\".nex\";done"
   ]
  },
  {
   "cell_type": "code",
   "execution_count": null,
   "id": "ba6a9a93-5d4d-450d-a030-44626891d65f",
   "metadata": {},
   "outputs": [],
   "source": []
  },
  {
   "cell_type": "markdown",
   "id": "2b9e8f98-a1b7-469c-b844-3168e10613fb",
   "metadata": {},
   "source": [
    "## concatenate multiple alignment files"
   ]
  },
  {
   "cell_type": "code",
   "execution_count": 33,
   "id": "89164f9f-d9f0-485a-9f86-a68a47f5522d",
   "metadata": {},
   "outputs": [
    {
     "name": "stdout",
     "output_type": "stream",
     "text": [
      "rm: cannot remove 'combined.nex': No such file or directory\n"
     ]
    }
   ],
   "source": [
    "# Specify the desired directory path\n",
    "new_directory = '/data/igenome/single-copy-OG/renamed_aligned_sequences'\n",
    "\n",
    "# Change the working directory\n",
    "os.chdir(new_directory)\n",
    "\n",
    "# the combine function takes a list of tuples [(name, nexus instance)...],\n",
    "# if we provide the file names in a list we can use a list comprehension to\n",
    "# create these tuples\n",
    "from Bio.Nexus import Nexus\n",
    "!rm combined.nex\n",
    "nexi = []\n",
    "file_list = glob.glob(\"*.nex\")\n",
    "## random50 = random.sample(file_list, 50)\n",
    "nexi = [(fname, Nexus.Nexus(fname)) for fname in file_list]\n",
    "\n",
    "combined = Nexus.combine(nexi)\n",
    "\n",
    "with open(\"combined.nex\", \"w\") as f:\n",
    "    combined.write_nexus_data(filename=f)"
   ]
  },
  {
   "cell_type": "code",
   "execution_count": 30,
   "id": "fc8b99eb-bf87-439e-8d13-62f063738dc7",
   "metadata": {},
   "outputs": [
    {
     "data": {
      "text/plain": [
       "Bio.Nexus.Nexus.Nexus"
      ]
     },
     "execution_count": 30,
     "metadata": {},
     "output_type": "execute_result"
    }
   ],
   "source": [
    "type(combined)"
   ]
  },
  {
   "cell_type": "code",
   "execution_count": 24,
   "id": "c4d4c23d-a850-4703-a4d7-8bad8dc81810",
   "metadata": {},
   "outputs": [],
   "source": [
    "# Specify the desired directory path\n",
    "new_directory = '/data/igenome/single-copy-OG/renamed_aligned_sequences'\n",
    "\n",
    "# Change the working directory\n",
    "os.chdir(new_directory)\n",
    "\n",
    "# the combine function takes a list of tuples [(name, nexus instance)...],\n",
    "# if we provide the file names in a list we can use a list comprehension to\n",
    "# create these tuples\n",
    "from Bio.Nexus import Nexus\n",
    "nexi = []\n",
    "file_list = glob.glob(\"*.nex\")"
   ]
  },
  {
   "cell_type": "code",
   "execution_count": 25,
   "id": "dbd9009b-cbeb-4834-a46b-f2ce8015c3c7",
   "metadata": {},
   "outputs": [
    {
     "data": {
      "text/plain": [
       "268"
      ]
     },
     "execution_count": 25,
     "metadata": {},
     "output_type": "execute_result"
    }
   ],
   "source": [
    "len(file_list)"
   ]
  },
  {
   "cell_type": "code",
   "execution_count": 26,
   "id": "63cb0844-41e9-45b9-9a8e-622935e7a660",
   "metadata": {},
   "outputs": [],
   "source": [
    "# Define the size of each sublist\n",
    "sublist_size = 54\n",
    "\n",
    "# Use list comprehension to create the sublists\n",
    "sublists = [file_list[i * sublist_size:(i + 1) * sublist_size] for i in range(2)]\n",
    "\n",
    "# Print the sublists\n",
    "for i, sublist in enumerate(sublists, start=1):\n",
    "    file_name = \"Group\" + str(i) + \".nex\"\n",
    "    nexi = []\n",
    "    with open(file_name, \"w\") as f:\n",
    "        nexi = [(fname, Nexus.Nexus(fname)) for fname in sublist]\n",
    "        combined = Nexus.combine(nexi)\n",
    "        combined.write_nexus_data(filename=f)"
   ]
  },
  {
   "cell_type": "code",
   "execution_count": 12,
   "id": "2525de74-e467-40b2-8839-9f7580f12b27",
   "metadata": {},
   "outputs": [
    {
     "data": {
      "text/plain": [
       "list"
      ]
     },
     "execution_count": 12,
     "metadata": {},
     "output_type": "execute_result"
    }
   ],
   "source": [
    "type(nexi)"
   ]
  },
  {
   "cell_type": "code",
   "execution_count": null,
   "id": "b3917a17-51e8-4889-a63e-c0b23ee0cbca",
   "metadata": {},
   "outputs": [],
   "source": []
  }
 ],
 "metadata": {
  "kernelspec": {
   "display_name": "Python 3 (ipykernel)",
   "language": "python",
   "name": "python3"
  },
  "language_info": {
   "codemirror_mode": {
    "name": "ipython",
    "version": 3
   },
   "file_extension": ".py",
   "mimetype": "text/x-python",
   "name": "python",
   "nbconvert_exporter": "python",
   "pygments_lexer": "ipython3",
   "version": "3.8.18"
  }
 },
 "nbformat": 4,
 "nbformat_minor": 5
}
