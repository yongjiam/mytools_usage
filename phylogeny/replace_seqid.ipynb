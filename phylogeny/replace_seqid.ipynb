{
 "cells": [
  {
   "cell_type": "code",
   "execution_count": 8,
   "id": "a4726022-7975-47b4-9835-d85212de27aa",
   "metadata": {},
   "outputs": [],
   "source": [
    "from Bio import SeqIO\n",
    "import glob"
   ]
  },
  {
   "cell_type": "code",
   "execution_count": 2,
   "id": "f020eecc-0acc-43bf-ac09-496510d43a32",
   "metadata": {},
   "outputs": [],
   "source": [
    "species=[\"AY61\",\n",
    "\"Aegilops\",\n",
    "\"AsativaA\",\n",
    "\"AsativaC\",\n",
    "\"AsativaD\",\n",
    "\"B1K0412\",\n",
    "\"Brachypodium\",\n",
    "\"Hm\",\n",
    "\"HvMorex\",\n",
    "\"OryzaSativa\",\n",
    "\"Ptenuiflora\",\n",
    "\"Secale\",\n",
    "\"TaA\",\n",
    "\"TaB\",\n",
    "\"TaD\",\n",
    "\"Thinopyrum\",\n",
    "\"TriticumUrartu\",\n",
    "\"WDAMAI\",\n",
    "\"Pineapple\"]"
   ]
  },
  {
   "cell_type": "code",
   "execution_count": 9,
   "id": "68a9b5ed-ed0a-4ed8-8cde-19bf0ea8bc60",
   "metadata": {},
   "outputs": [],
   "source": [
    "def rename_sequences(fasta_file, species_names):\n",
    "    records = list(SeqIO.parse(fasta_file, \"fasta\"))\n",
    "\n",
    "    for i, record in enumerate(records):\n",
    "        if i < len(species_names):\n",
    "            record.id = species_names[i]\n",
    "            record.description = \"\"\n",
    "        else:\n",
    "            print(f\"Warning: More sequences in {fasta_file} than species names provided.\")\n",
    "\n",
    "    SeqIO.write(records, f\"renamed_{fasta_file}\", \"fasta\")\n",
    "\n",
    "if __name__ == \"__main__\":\n",
    "\n",
    "    # List of FASTA files\n",
    "    fasta_files = glob.glob(\"OG*.txt.fasta\")\n",
    "\n",
    "    for fasta_file in fasta_files:\n",
    "        rename_sequences(fasta_file, species)"
   ]
  },
  {
   "cell_type": "code",
   "execution_count": 6,
   "id": "e3132d69-7800-4eec-9214-51f5bef7abd9",
   "metadata": {},
   "outputs": [
    {
     "data": {
      "text/plain": [
       "'OG0015173.txt.fasta'"
      ]
     },
     "execution_count": 6,
     "metadata": {},
     "output_type": "execute_result"
    }
   ],
   "source": [
    "fasta_file"
   ]
  },
  {
   "cell_type": "code",
   "execution_count": 7,
   "id": "ff3630bd-46c0-45df-904e-690eed966f97",
   "metadata": {},
   "outputs": [
    {
     "data": {
      "text/plain": [
       "str"
      ]
     },
     "execution_count": 7,
     "metadata": {},
     "output_type": "execute_result"
    }
   ],
   "source": [
    "type(fasta_file)"
   ]
  },
  {
   "cell_type": "code",
   "execution_count": null,
   "id": "b97157c3-df95-49ad-8341-3722d8476386",
   "metadata": {},
   "outputs": [],
   "source": []
  }
 ],
 "metadata": {
  "kernelspec": {
   "display_name": "Python 3 (ipykernel)",
   "language": "python",
   "name": "python3"
  },
  "language_info": {
   "codemirror_mode": {
    "name": "ipython",
    "version": 3
   },
   "file_extension": ".py",
   "mimetype": "text/x-python",
   "name": "python",
   "nbconvert_exporter": "python",
   "pygments_lexer": "ipython3",
   "version": "3.8.18"
  }
 },
 "nbformat": 4,
 "nbformat_minor": 5
}
